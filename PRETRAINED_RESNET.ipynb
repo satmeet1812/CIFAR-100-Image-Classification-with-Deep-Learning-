{
 "cells": [
  {
   "cell_type": "markdown",
   "metadata": {},
   "source": [
    "# ADVANCED (20%)\n",
    "### Pretrained RESNET-18 and RESNET-50"
   ]
  },
  {
   "cell_type": "code",
   "execution_count": 2,
   "metadata": {
    "execution": {
     "iopub.execute_input": "2021-11-28T10:07:46.820452Z",
     "iopub.status.busy": "2021-11-28T10:07:46.819726Z",
     "iopub.status.idle": "2021-11-28T10:07:48.870017Z",
     "shell.execute_reply": "2021-11-28T10:07:48.868940Z",
     "shell.execute_reply.started": "2021-11-28T10:07:46.820415Z"
    },
    "id": "xwWB6_NVMBoD"
   },
   "outputs": [],
   "source": [
    "import torch\n",
    "import torch.nn as nn\n",
    "import torch.nn.functional as F\n",
    "import torch.optim as optim\n",
    "\n",
    "# For loading popular data sets\n",
    "import torchvision\n",
    "import torchvision.transforms as transforms\n",
    "\n",
    "import matplotlib.pyplot as plt\n",
    "from matplotlib.pyplot import figure\n",
    "import matplotlib.pyplot as plt\n",
    "import matplotlib.colors as colors\n",
    "import numpy as np\n",
    "\n",
    "from torch.utils.data.dataloader import DataLoader"
   ]
  },
  {
   "cell_type": "markdown",
   "metadata": {},
   "source": [
    "#### Dataset Load and Transform"
   ]
  },
  {
   "cell_type": "code",
   "execution_count": 3,
   "metadata": {
    "execution": {
     "iopub.execute_input": "2021-11-28T10:07:49.389600Z",
     "iopub.status.busy": "2021-11-28T10:07:49.389172Z",
     "iopub.status.idle": "2021-11-28T10:08:01.705743Z",
     "shell.execute_reply": "2021-11-28T10:08:01.704789Z",
     "shell.execute_reply.started": "2021-11-28T10:07:49.389565Z"
    },
    "id": "Ush7BWtt7PJh",
    "outputId": "a6bfd72e-02cc-45a9-fd58-b7b5e19fe4b0"
   },
   "outputs": [
    {
     "name": "stdout",
     "output_type": "stream",
     "text": [
      "Downloading https://www.cs.toronto.edu/~kriz/cifar-100-python.tar.gz to ./data/cifar-100-python.tar.gz\n"
     ]
    },
    {
     "data": {
      "application/vnd.jupyter.widget-view+json": {
       "model_id": "b2c7e52c38ff40ecab07829fc5f8ebdf",
       "version_major": 2,
       "version_minor": 0
      },
      "text/plain": [
       "  0%|          | 0/169001437 [00:00<?, ?it/s]"
      ]
     },
     "metadata": {},
     "output_type": "display_data"
    },
    {
     "name": "stdout",
     "output_type": "stream",
     "text": [
      "Extracting ./data/cifar-100-python.tar.gz to ./data\n",
      "Files already downloaded and verified\n",
      "40000\n",
      "10000\n"
     ]
    }
   ],
   "source": [
    "# Normalization\n",
    "# Channel wise mean and standard deviation of the image\n",
    "\n",
    "transform=transforms.Compose([transforms.RandomCrop(32, padding=4,padding_mode='reflect'), \n",
    "                              transforms.RandomHorizontalFlip(),\n",
    "                              transforms.RandomRotation(2.8),\n",
    "                              transforms.RandomGrayscale(0.2),\n",
    "                              transforms.ToTensor(),  # Convert images to Tensor ( Channel X Height X Width)\n",
    "                              transforms.Normalize((0.4911, 0.4820, 0.4467),(0.2022, 0.1993, 0.2009)) \n",
    "                             ])\n",
    "\n",
    "# Download training data\n",
    "train = torchvision.datasets.CIFAR100(root='./data',train=True,download=True,transform=transform)\n",
    "\n",
    "\n",
    "# Download test data                             \n",
    "test = torchvision.datasets.CIFAR100(root='./data',train=False,download=True,transform=transform)\n",
    "\n",
    "\n",
    "\n",
    "from torch.utils.data.dataloader import DataLoader\n",
    " \n",
    " # Define validation ratio \n",
    "validation_ratio= 0.2\n",
    "batch_size = 32\n",
    "\n",
    "# split training data in train and validation set\n",
    "train_data,validation_data=torch.utils.data.random_split(train,[int((1-validation_ratio)*len(train)), \n",
    "                                              int((validation_ratio)*len(train))])\n",
    "\n",
    "print(len(train_data))\n",
    "print(len(validation_data))\n",
    "\n",
    "train_loader = DataLoader(train_data, batch_size,pin_memory=True)\n",
    "val_loader = DataLoader(validation_data, batch_size,pin_memory=True)\n",
    "test_loader = torch.utils.data.DataLoader(test,batch_size=1000,shuffle=False,pin_memory=True)"
   ]
  },
  {
   "cell_type": "code",
   "execution_count": 4,
   "metadata": {
    "execution": {
     "iopub.execute_input": "2021-11-28T10:08:01.708574Z",
     "iopub.status.busy": "2021-11-28T10:08:01.707979Z",
     "iopub.status.idle": "2021-11-28T10:08:01.719167Z",
     "shell.execute_reply": "2021-11-28T10:08:01.718289Z",
     "shell.execute_reply.started": "2021-11-28T10:08:01.708515Z"
    },
    "id": "xfCEEWkP8CI2"
   },
   "outputs": [],
   "source": [
    "# Check if your system has cuda gpu or only cpu\n",
    "\n",
    "def check_device():\n",
    "    if torch.cuda.is_available:\n",
    "        return torch.device('cuda')\n",
    "    else:\n",
    "        return torch.device('cpu')\n",
    "\n",
    "# Function to transfer from CPU to GPU\n",
    "def move_device(tensor, device):\n",
    "    \n",
    "    # Move all individual tensors from cpu to gpu\n",
    "    if isinstance(tensor, (list,tuple)):\n",
    "        return [move_device(element, device) for element in tensor]\n",
    "    return tensor.to(device, non_blocking=True) \n",
    "\n",
    "# Execute transfer from CPU to GPU for each device\n",
    "class DeviceDataLoader():\n",
    "    \n",
    "    # Define Constructor\n",
    "    def __init__(self, dataloader, device):\n",
    "        self.dl = dataloader\n",
    "        self.device = device\n",
    "        \n",
    "    def __iter__(self):\n",
    "        \n",
    "       # Transfer each batch and return\n",
    "        for i in self.dl: \n",
    "            yield move_device(i, self.device)\n",
    "\n",
    "    def __len__(self):\n",
    "        \n",
    "        # Return the number of batches\n",
    "        return len(self.dl)\n",
    "\n",
    "\n",
    "device = check_device()\n",
    "\n",
    "# Move all the tensors to GPU\n",
    "train_dl = DeviceDataLoader(train_loader, device)\n",
    "valid_dl = DeviceDataLoader(val_loader, device)\n",
    "test_dl = DeviceDataLoader(test_loader, device)"
   ]
  },
  {
   "cell_type": "code",
   "execution_count": 5,
   "metadata": {
    "execution": {
     "iopub.execute_input": "2021-11-28T10:08:01.721204Z",
     "iopub.status.busy": "2021-11-28T10:08:01.720674Z",
     "iopub.status.idle": "2021-11-28T10:08:23.057202Z",
     "shell.execute_reply": "2021-11-28T10:08:23.056144Z",
     "shell.execute_reply.started": "2021-11-28T10:08:01.721162Z"
    },
    "id": "hZUDFv2D6oN-",
    "outputId": "a4391582-70ab-4251-a0e4-36e0415f0ee8"
   },
   "outputs": [
    {
     "name": "stderr",
     "output_type": "stream",
     "text": [
      "Downloading: \"https://download.pytorch.org/models/resnet18-f37072fd.pth\" to /root/.cache/torch/hub/checkpoints/resnet18-f37072fd.pth\n"
     ]
    },
    {
     "data": {
      "application/vnd.jupyter.widget-view+json": {
       "model_id": "9ec07fea213a4ee9b578076aa51a0e6c",
       "version_major": 2,
       "version_minor": 0
      },
      "text/plain": [
       "  0%|          | 0.00/44.7M [00:00<?, ?B/s]"
      ]
     },
     "metadata": {},
     "output_type": "display_data"
    },
    {
     "name": "stderr",
     "output_type": "stream",
     "text": [
      "Downloading: \"https://download.pytorch.org/models/resnet50-0676ba61.pth\" to /root/.cache/torch/hub/checkpoints/resnet50-0676ba61.pth\n"
     ]
    },
    {
     "data": {
      "application/vnd.jupyter.widget-view+json": {
       "model_id": "634a690d82784805b5c356c52c860793",
       "version_major": 2,
       "version_minor": 0
      },
      "text/plain": [
       "  0%|          | 0.00/97.8M [00:00<?, ?B/s]"
      ]
     },
     "metadata": {},
     "output_type": "display_data"
    }
   ],
   "source": [
    "import torchvision.models as models\n",
    "\n",
    "resnet_18 = models.resnet18(pretrained=True)\n",
    "resnet_18 = resnet_18.cuda() if device else resnet_18\n",
    "features_18 = resnet_18.fc.in_features\n",
    "resnet_18.fc = nn.Linear(features_18, 100)\n",
    "resnet_18.fc = resnet_18.fc.cuda() if device else resnet_18.fc\n",
    "\n",
    "resnet_50=models.resnet50(pretrained=True)\n",
    "resnet_50 = resnet_50.cuda() if device else resnet_50\n",
    "features_50 = resnet_50.fc.in_features\n",
    "resnet_50.fc = nn.Linear(features_50, 100)\n",
    "resnet_50.fc = resnet_50.fc.cuda() if device else resnet_50.fc\n"
   ]
  },
  {
   "cell_type": "markdown",
   "metadata": {},
   "source": [
    "# ADVANCED (20%)\n",
    "#### Testing with Resnet 18"
   ]
  },
  {
   "cell_type": "code",
   "execution_count": 22,
   "metadata": {
    "execution": {
     "iopub.execute_input": "2021-11-28T02:36:19.994501Z",
     "iopub.status.busy": "2021-11-28T02:36:19.993705Z",
     "iopub.status.idle": "2021-11-28T02:36:20.002678Z",
     "shell.execute_reply": "2021-11-28T02:36:20.001208Z",
     "shell.execute_reply.started": "2021-11-28T02:36:19.994465Z"
    },
    "id": "gbKEFnUN67lr",
    "outputId": "25c261f3-3f80-4d43-b659-cbbc25eb229a"
   },
   "outputs": [
    {
     "data": {
      "text/plain": [
       "ResNet(\n",
       "  (conv1): Conv2d(3, 64, kernel_size=(7, 7), stride=(2, 2), padding=(3, 3), bias=False)\n",
       "  (bn1): BatchNorm2d(64, eps=1e-05, momentum=0.1, affine=True, track_running_stats=True)\n",
       "  (relu): ReLU(inplace=True)\n",
       "  (maxpool): MaxPool2d(kernel_size=3, stride=2, padding=1, dilation=1, ceil_mode=False)\n",
       "  (layer1): Sequential(\n",
       "    (0): BasicBlock(\n",
       "      (conv1): Conv2d(64, 64, kernel_size=(3, 3), stride=(1, 1), padding=(1, 1), bias=False)\n",
       "      (bn1): BatchNorm2d(64, eps=1e-05, momentum=0.1, affine=True, track_running_stats=True)\n",
       "      (relu): ReLU(inplace=True)\n",
       "      (conv2): Conv2d(64, 64, kernel_size=(3, 3), stride=(1, 1), padding=(1, 1), bias=False)\n",
       "      (bn2): BatchNorm2d(64, eps=1e-05, momentum=0.1, affine=True, track_running_stats=True)\n",
       "    )\n",
       "    (1): BasicBlock(\n",
       "      (conv1): Conv2d(64, 64, kernel_size=(3, 3), stride=(1, 1), padding=(1, 1), bias=False)\n",
       "      (bn1): BatchNorm2d(64, eps=1e-05, momentum=0.1, affine=True, track_running_stats=True)\n",
       "      (relu): ReLU(inplace=True)\n",
       "      (conv2): Conv2d(64, 64, kernel_size=(3, 3), stride=(1, 1), padding=(1, 1), bias=False)\n",
       "      (bn2): BatchNorm2d(64, eps=1e-05, momentum=0.1, affine=True, track_running_stats=True)\n",
       "    )\n",
       "  )\n",
       "  (layer2): Sequential(\n",
       "    (0): BasicBlock(\n",
       "      (conv1): Conv2d(64, 128, kernel_size=(3, 3), stride=(2, 2), padding=(1, 1), bias=False)\n",
       "      (bn1): BatchNorm2d(128, eps=1e-05, momentum=0.1, affine=True, track_running_stats=True)\n",
       "      (relu): ReLU(inplace=True)\n",
       "      (conv2): Conv2d(128, 128, kernel_size=(3, 3), stride=(1, 1), padding=(1, 1), bias=False)\n",
       "      (bn2): BatchNorm2d(128, eps=1e-05, momentum=0.1, affine=True, track_running_stats=True)\n",
       "      (downsample): Sequential(\n",
       "        (0): Conv2d(64, 128, kernel_size=(1, 1), stride=(2, 2), bias=False)\n",
       "        (1): BatchNorm2d(128, eps=1e-05, momentum=0.1, affine=True, track_running_stats=True)\n",
       "      )\n",
       "    )\n",
       "    (1): BasicBlock(\n",
       "      (conv1): Conv2d(128, 128, kernel_size=(3, 3), stride=(1, 1), padding=(1, 1), bias=False)\n",
       "      (bn1): BatchNorm2d(128, eps=1e-05, momentum=0.1, affine=True, track_running_stats=True)\n",
       "      (relu): ReLU(inplace=True)\n",
       "      (conv2): Conv2d(128, 128, kernel_size=(3, 3), stride=(1, 1), padding=(1, 1), bias=False)\n",
       "      (bn2): BatchNorm2d(128, eps=1e-05, momentum=0.1, affine=True, track_running_stats=True)\n",
       "    )\n",
       "  )\n",
       "  (layer3): Sequential(\n",
       "    (0): BasicBlock(\n",
       "      (conv1): Conv2d(128, 256, kernel_size=(3, 3), stride=(2, 2), padding=(1, 1), bias=False)\n",
       "      (bn1): BatchNorm2d(256, eps=1e-05, momentum=0.1, affine=True, track_running_stats=True)\n",
       "      (relu): ReLU(inplace=True)\n",
       "      (conv2): Conv2d(256, 256, kernel_size=(3, 3), stride=(1, 1), padding=(1, 1), bias=False)\n",
       "      (bn2): BatchNorm2d(256, eps=1e-05, momentum=0.1, affine=True, track_running_stats=True)\n",
       "      (downsample): Sequential(\n",
       "        (0): Conv2d(128, 256, kernel_size=(1, 1), stride=(2, 2), bias=False)\n",
       "        (1): BatchNorm2d(256, eps=1e-05, momentum=0.1, affine=True, track_running_stats=True)\n",
       "      )\n",
       "    )\n",
       "    (1): BasicBlock(\n",
       "      (conv1): Conv2d(256, 256, kernel_size=(3, 3), stride=(1, 1), padding=(1, 1), bias=False)\n",
       "      (bn1): BatchNorm2d(256, eps=1e-05, momentum=0.1, affine=True, track_running_stats=True)\n",
       "      (relu): ReLU(inplace=True)\n",
       "      (conv2): Conv2d(256, 256, kernel_size=(3, 3), stride=(1, 1), padding=(1, 1), bias=False)\n",
       "      (bn2): BatchNorm2d(256, eps=1e-05, momentum=0.1, affine=True, track_running_stats=True)\n",
       "    )\n",
       "  )\n",
       "  (layer4): Sequential(\n",
       "    (0): BasicBlock(\n",
       "      (conv1): Conv2d(256, 512, kernel_size=(3, 3), stride=(2, 2), padding=(1, 1), bias=False)\n",
       "      (bn1): BatchNorm2d(512, eps=1e-05, momentum=0.1, affine=True, track_running_stats=True)\n",
       "      (relu): ReLU(inplace=True)\n",
       "      (conv2): Conv2d(512, 512, kernel_size=(3, 3), stride=(1, 1), padding=(1, 1), bias=False)\n",
       "      (bn2): BatchNorm2d(512, eps=1e-05, momentum=0.1, affine=True, track_running_stats=True)\n",
       "      (downsample): Sequential(\n",
       "        (0): Conv2d(256, 512, kernel_size=(1, 1), stride=(2, 2), bias=False)\n",
       "        (1): BatchNorm2d(512, eps=1e-05, momentum=0.1, affine=True, track_running_stats=True)\n",
       "      )\n",
       "    )\n",
       "    (1): BasicBlock(\n",
       "      (conv1): Conv2d(512, 512, kernel_size=(3, 3), stride=(1, 1), padding=(1, 1), bias=False)\n",
       "      (bn1): BatchNorm2d(512, eps=1e-05, momentum=0.1, affine=True, track_running_stats=True)\n",
       "      (relu): ReLU(inplace=True)\n",
       "      (conv2): Conv2d(512, 512, kernel_size=(3, 3), stride=(1, 1), padding=(1, 1), bias=False)\n",
       "      (bn2): BatchNorm2d(512, eps=1e-05, momentum=0.1, affine=True, track_running_stats=True)\n",
       "    )\n",
       "  )\n",
       "  (avgpool): AdaptiveAvgPool2d(output_size=(1, 1))\n",
       "  (fc): Linear(in_features=512, out_features=100, bias=True)\n",
       ")"
      ]
     },
     "execution_count": 22,
     "metadata": {},
     "output_type": "execute_result"
    }
   ],
   "source": [
    "model=resnet_18\n",
    "model"
   ]
  },
  {
   "cell_type": "code",
   "execution_count": 23,
   "metadata": {
    "execution": {
     "iopub.execute_input": "2021-11-28T02:36:25.546109Z",
     "iopub.status.busy": "2021-11-28T02:36:25.545522Z",
     "iopub.status.idle": "2021-11-28T03:13:07.042069Z",
     "shell.execute_reply": "2021-11-28T03:13:07.040971Z",
     "shell.execute_reply.started": "2021-11-28T02:36:25.546062Z"
    },
    "id": "mLVJAM4J7EiA",
    "outputId": "428d3bbc-7c92-495c-9b12-7bb755d344f0"
   },
   "outputs": [
    {
     "name": "stdout",
     "output_type": "stream",
     "text": [
      "Number of epochs: 0 | Validation loss : 2.4699254035949707  | Training loss : 3.197343587875366  |   Training accuracy: 0.2342749983072281 validation accuracy : 0.3608226776123047\n",
      "Number of epochs: 1 | Validation loss : 2.2589735984802246  | Training loss : 2.4496846199035645  |   Training accuracy: 0.36844998598098755 validation accuracy : 0.4033546447753906\n",
      "Number of epochs: 2 | Validation loss : 2.084754705429077  | Training loss : 2.183049440383911  |   Training accuracy: 0.42272499203681946 validation accuracy : 0.44369009137153625\n",
      "Number of epochs: 3 | Validation loss : 2.042905569076538  | Training loss : 1.9954320192337036  |   Training accuracy: 0.4666000008583069 validation accuracy : 0.45656949281692505\n",
      "Number of epochs: 4 | Validation loss : 1.9902265071868896  | Training loss : 1.8556722402572632  |   Training accuracy: 0.4988749921321869 validation accuracy : 0.4715455174446106\n",
      "Number of epochs: 5 | Validation loss : 1.982299566268921  | Training loss : 1.742040991783142  |   Training accuracy: 0.5217000246047974 validation accuracy : 0.48142972588539124\n",
      "Number of epochs: 6 | Validation loss : 1.9519826173782349  | Training loss : 1.6462445259094238  |   Training accuracy: 0.5468000173568726 validation accuracy : 0.4908146858215332\n",
      "Number of epochs: 7 | Validation loss : 1.962587594985962  | Training loss : 1.5528128147125244  |   Training accuracy: 0.5687500238418579 validation accuracy : 0.4912140667438507\n",
      "Number of epochs: 8 | Validation loss : 1.9520680904388428  | Training loss : 1.4738515615463257  |   Training accuracy: 0.5888500213623047 validation accuracy : 0.49650558829307556\n",
      "Number of epochs: 9 | Validation loss : 1.939808964729309  | Training loss : 1.4088771343231201  |   Training accuracy: 0.6018249988555908 validation accuracy : 0.5006988644599915\n",
      "Number of epochs: 0 | Validation loss : 1.874517560005188  | Training loss : 1.1982789039611816  |   Training accuracy: 0.6657249927520752 validation accuracy : 0.5145766735076904\n",
      "Number of epochs: 1 | Validation loss : 1.8307397365570068  | Training loss : 1.1270666122436523  |   Training accuracy: 0.6856499910354614 validation accuracy : 0.522164523601532\n",
      "Number of epochs: 2 | Validation loss : 1.823468804359436  | Training loss : 1.0957401990890503  |   Training accuracy: 0.6928499937057495 validation accuracy : 0.5288538336753845\n",
      "Number of epochs: 3 | Validation loss : 1.8255858421325684  | Training loss : 1.057088017463684  |   Training accuracy: 0.7027000188827515 validation accuracy : 0.5250598788261414\n",
      "Number of epochs: 4 | Validation loss : 1.8260201215744019  | Training loss : 1.0370711088180542  |   Training accuracy: 0.7075499892234802 validation accuracy : 0.5248602032661438\n",
      "Number of epochs: 5 | Validation loss : 1.8159772157669067  | Training loss : 1.0271960496902466  |   Training accuracy: 0.7122499942779541 validation accuracy : 0.5327476263046265\n",
      "Number of epochs: 6 | Validation loss : 1.8127281665802002  | Training loss : 1.003485083580017  |   Training accuracy: 0.7205749750137329 validation accuracy : 0.5310503244400024\n",
      "Number of epochs: 7 | Validation loss : 1.8152077198028564  | Training loss : 0.9896181225776672  |   Training accuracy: 0.7246000170707703 validation accuracy : 0.5269568562507629\n",
      "Number of epochs: 8 | Validation loss : 1.810781478881836  | Training loss : 0.9739364981651306  |   Training accuracy: 0.7279000282287598 validation accuracy : 0.5324480533599854\n",
      "Number of epochs: 9 | Validation loss : 1.8422468900680542  | Training loss : 0.9583733081817627  |   Training accuracy: 0.7297000288963318 validation accuracy : 0.5289536714553833\n",
      "Number of epochs: 0 | Validation loss : 1.8292641639709473  | Training loss : 0.9314661622047424  |   Training accuracy: 0.7404999732971191 validation accuracy : 0.5240615010261536\n",
      "Number of epochs: 1 | Validation loss : 1.8204362392425537  | Training loss : 0.9336920380592346  |   Training accuracy: 0.7412499785423279 validation accuracy : 0.532947301864624\n",
      "Number of epochs: 2 | Validation loss : 1.813590407371521  | Training loss : 0.9262114763259888  |   Training accuracy: 0.7389749884605408 validation accuracy : 0.53125\n",
      "Number of epochs: 3 | Validation loss : 1.823628306388855  | Training loss : 0.9227796792984009  |   Training accuracy: 0.7433000206947327 validation accuracy : 0.5308506488800049\n",
      "Number of epochs: 4 | Validation loss : 1.8088204860687256  | Training loss : 0.9184167981147766  |   Training accuracy: 0.7445250153541565 validation accuracy : 0.5330471396446228\n",
      "Number of epochs: 5 | Validation loss : 1.8062653541564941  | Training loss : 0.9198330044746399  |   Training accuracy: 0.7439249753952026 validation accuracy : 0.5304512977600098\n",
      "Number of epochs: 6 | Validation loss : 1.8192200660705566  | Training loss : 0.9187827706336975  |   Training accuracy: 0.7457000017166138 validation accuracy : 0.5306509733200073\n",
      "Number of epochs: 7 | Validation loss : 1.8182536363601685  | Training loss : 0.9131468534469604  |   Training accuracy: 0.7449749708175659 validation accuracy : 0.5281549692153931\n",
      "Number of epochs: 8 | Validation loss : 1.8314536809921265  | Training loss : 0.9174026250839233  |   Training accuracy: 0.7430499792098999 validation accuracy : 0.5251597166061401\n",
      "Number of epochs: 9 | Validation loss : 1.8124843835830688  | Training loss : 0.913352906703949  |   Training accuracy: 0.7451500296592712 validation accuracy : 0.5327476263046265\n",
      "CPU times: user 36min 6s, sys: 6.59 s, total: 36min 13s\n",
      "Wall time: 36min 41s\n"
     ]
    }
   ],
   "source": [
    "%%time\n",
    "def accuracy(predicted,labels):\n",
    "    predictions, id=torch.max(predicted,dim=1)\n",
    "    return torch.tensor(torch.sum(id==labels).item()/len(predicted))\n",
    "\n",
    "# For validation\n",
    "def evaluate(model,dl,loss_func):\n",
    "    model.eval()\n",
    "    loss_per_batch, accuracy_per_batch=[],[]\n",
    "    for images,labels in valid_dl:\n",
    "        #start loop\n",
    "        with torch.no_grad():\n",
    "            predicted=model(images)\n",
    "        loss_per_batch.append(loss_func(predicted,labels))\n",
    "        accuracy_per_batch.append(accuracy(predicted,labels))\n",
    "    val_loss_epoch=torch.stack(loss_per_batch).mean().item()\n",
    "    val_accuracy_epoch=torch.stack(accuracy_per_batch).mean().item()\n",
    "    return val_loss_epoch,val_accuracy_epoch\n",
    "\n",
    "def train(model,train_dl,valid_dl,epochs, max_lr, loss_func,optim):\n",
    "    optimizer=optim(model.parameters(), max_lr, momentum=0.9,weight_decay=1e-5)\n",
    "    scheduler=torch.optim.lr_scheduler.OneCycleLR(optimizer, max_lr,epochs*len(train_dl))\n",
    "    #scheduler=torch.optim.lr_scheduler.CosineAnnealingLR(optimizer,T_max=5,verbose=True)\n",
    "    #scheduler=torch.optim.lr_scheduler.ExponentialLR(optimizer,  gamma=0.9)\n",
    "    \n",
    "    results=[]\n",
    "    for epoch in range(epochs):\n",
    "        model.train()\n",
    "        train_losses=[]\n",
    "        train_accuracy_per_batch=[]\n",
    "        lrs=[]\n",
    "\n",
    "        for images, labels in train_dl:\n",
    "            predicted=model(images)\n",
    "            loss=loss_func(predicted,labels)\n",
    "            train_losses.append(loss)\n",
    "            loss.backward()\n",
    "            optimizer.step()\n",
    "            optimizer.zero_grad()\n",
    "            \n",
    "          # keep track of learning rate\n",
    "            lrs.append(optimizer.param_groups[0]['lr'])\n",
    "            train_accuracy_per_batch.append(accuracy(predicted,labels))\n",
    "    \n",
    "        scheduler.step()\n",
    "        epoch_train_acc=torch.stack(train_accuracy_per_batch).mean().item()\n",
    "        epoch_train_loss=torch.stack(train_losses).mean().item()\n",
    "        val_loss_epoch,val_accuracy_epoch=evaluate(model,valid_dl,loss_func)\n",
    "        \n",
    "        results.append({'avg_valid_loss': val_loss_epoch,\n",
    "                        'avg_val_acc': val_accuracy_epoch,\n",
    "                        'avg_train_loss':epoch_train_loss,\n",
    "                        'avg_train_acc':epoch_train_acc,\n",
    "                        'lrs':lrs})\n",
    "        \n",
    "        print('Number of epochs:', epoch,'|', \n",
    "              'Validation loss :',val_loss_epoch, ' |','Training loss :'\n",
    "              ,epoch_train_loss,' |  '\n",
    "              ,'Training accuracy:', epoch_train_acc\n",
    "              , 'validation accuracy :',val_accuracy_epoch)\n",
    "    return results\n",
    "\n",
    "\n",
    "model=move_device(model,device)\n",
    "epochs = 10\n",
    "\n",
    "'''\n",
    "Learning Rates\n",
    "'''\n",
    "max_lr2 = 1e-2\n",
    "max_lr3 = 1e-3\n",
    "max_lr4 = 1e-4\n",
    "\n",
    "loss_func=nn.functional.cross_entropy\n",
    "\n",
    "'''\n",
    "Optimizers\n",
    "'''\n",
    "#optim=torch.optim.Adam\n",
    "optim=torch.optim.SGD\n",
    "\n",
    "'''\n",
    "Train function call\n",
    "'''\n",
    "results2= train(model,train_dl,valid_dl,epochs, max_lr2, loss_func,optim)\n",
    "results3= train(model,train_dl,valid_dl,epochs, max_lr3, loss_func,optim)\n",
    "results4= train(model,train_dl,valid_dl,epochs, max_lr4, loss_func,optim)"
   ]
  },
  {
   "cell_type": "markdown",
   "metadata": {
    "id": "Xk8ursUB9e-3"
   },
   "source": [
    "#### Visualization"
   ]
  },
  {
   "cell_type": "code",
   "execution_count": 28,
   "metadata": {
    "execution": {
     "iopub.execute_input": "2021-11-28T03:17:43.846711Z",
     "iopub.status.busy": "2021-11-28T03:17:43.846356Z",
     "iopub.status.idle": "2021-11-28T03:17:43.860869Z",
     "shell.execute_reply": "2021-11-28T03:17:43.859395Z",
     "shell.execute_reply.started": "2021-11-28T03:17:43.846661Z"
    },
    "id": "PG7FQkZA9hMs"
   },
   "outputs": [],
   "source": [
    "'''\n",
    "Training Accuracy\n",
    "'''\n",
    "\n",
    "\n",
    "avg_training_accuracy2=[]\n",
    "for result in results2:\n",
    "    avg_training_accuracy2.append(result['avg_train_acc'])\n",
    "    \n",
    "avg_training_accuracy3=[]\n",
    "for result in results3:\n",
    "    avg_training_accuracy3.append(result['avg_train_acc'])\n",
    "    \n",
    "avg_training_accuracy4=[]\n",
    "for result in results4:\n",
    "    avg_training_accuracy4.append(result['avg_train_acc'])\n",
    "    \n",
    "\n",
    "'''\n",
    "Validation Accuracy\n",
    "'''\n",
    "avg_validation_accuracy2=[]\n",
    "for result in results2:\n",
    "    avg_validation_accuracy2.append(result['avg_val_acc'])\n",
    "avg_validation_accuracy3=[]\n",
    "for result in results3:\n",
    "    avg_validation_accuracy3.append(result['avg_val_acc'])\n",
    "avg_validation_accuracy4=[]\n",
    "for result in results4:\n",
    "    avg_validation_accuracy4.append(result['avg_val_acc'])\n",
    "\n",
    "'''\n",
    "Validation Loss\n",
    "'''\n",
    "\n",
    "    \n",
    "avg_validation_loss2=[]\n",
    "for result in results2:\n",
    "    avg_validation_loss2.append(result['avg_valid_loss'])\n",
    "    \n",
    "avg_validation_loss3=[]\n",
    "for result in results3:\n",
    "    avg_validation_loss3.append(result['avg_valid_loss'])\n",
    "    \n",
    "avg_validation_loss4=[]\n",
    "for result in results4:\n",
    "    avg_validation_loss4.append(result['avg_valid_loss'])\n",
    "\n",
    "\n",
    "'''\n",
    "Training Loss\n",
    "'''\n",
    "\n",
    "\n",
    "avg_training_loss2=[]\n",
    "for result in results2:\n",
    "    avg_training_loss2.append(result['avg_train_loss'])\n",
    "    \n",
    "avg_training_loss3=[]\n",
    "for result in results3:\n",
    "    avg_training_loss3.append(result['avg_train_loss'])\n",
    "\n",
    "avg_training_loss4=[]\n",
    "for result in results4:\n",
    "    avg_training_loss4.append(result['avg_train_loss'])\n",
    "\n",
    "'''\n",
    "Epochs count\n",
    "'''\n",
    "epoch_count=[]\n",
    "for i in range(epochs):\n",
    "    epoch_count.append(i)"
   ]
  },
  {
   "cell_type": "markdown",
   "metadata": {
    "id": "bsePbdfO9Y6d"
   },
   "source": [
    "### Validation loss"
   ]
  },
  {
   "cell_type": "code",
   "execution_count": 29,
   "metadata": {
    "execution": {
     "iopub.execute_input": "2021-11-28T03:17:47.391647Z",
     "iopub.status.busy": "2021-11-28T03:17:47.391347Z",
     "iopub.status.idle": "2021-11-28T03:17:47.677533Z",
     "shell.execute_reply": "2021-11-28T03:17:47.676520Z",
     "shell.execute_reply.started": "2021-11-28T03:17:47.391589Z"
    },
    "id": "HYne2BpK7gL3",
    "outputId": "42ea87aa-e616-4997-e830-18039d0e54ec"
   },
   "outputs": [
    {
     "data": {
      "image/png": "[encoded data removed]",
      "text/plain": [
       "<Figure size 720x504 with 1 Axes>"
      ]
     },
     "metadata": {
      "needs_background": "light"
     },
     "output_type": "display_data"
    }
   ],
   "source": [
    "figure(figsize=(10,7))\n",
    "plt.plot(epoch_count,avg_validation_loss2, 'green', label = \"lr1\", linewidth = '1')\n",
    "plt.plot(epoch_count,avg_validation_loss3, 'red', label = \"lr2\", linewidth = '1')\n",
    "plt.plot(epoch_count,avg_validation_loss4, 'blue', label = \"lr3\", linewidth = '1')\n",
    "plt.title(\"Validation Loss per epoch\",fontsize=20)\n",
    "plt.xlabel(\"epochs\",fontsize=20)  \n",
    "plt.ylabel(\"val loss\",fontsize=20)\n",
    "plt.legend(fontsize=20)\n",
    "plt.show()"
   ]
  },
  {
   "cell_type": "markdown",
   "metadata": {
    "id": "-L3I7HHp9k4z"
   },
   "source": [
    "### Training loss"
   ]
  },
  {
   "cell_type": "code",
   "execution_count": 37,
   "metadata": {
    "execution": {
     "iopub.execute_input": "2021-11-28T03:22:11.935777Z",
     "iopub.status.busy": "2021-11-28T03:22:11.934646Z",
     "iopub.status.idle": "2021-11-28T03:22:12.204562Z",
     "shell.execute_reply": "2021-11-28T03:22:12.203501Z",
     "shell.execute_reply.started": "2021-11-28T03:22:11.935726Z"
    },
    "id": "M0uGh9ur9mM7",
    "outputId": "5f9a50fd-e449-4084-9289-aee3d1e3196e"
   },
   "outputs": [
    {
     "data": {
      "image/png": "[encoded data removed]",
      "text/plain": [
       "<Figure size 720x504 with 1 Axes>"
      ]
     },
     "metadata": {
      "needs_background": "light"
     },
     "output_type": "display_data"
    }
   ],
   "source": [
    "figure(figsize=(10,7))\n",
    "plt.plot(epoch_count,avg_training_loss2, 'g', label = \"lr1\", linewidth = '1')\n",
    "plt.plot(epoch_count,avg_training_loss3, 'r', label = \"lr2\", linewidth = '1')\n",
    "plt.plot(epoch_count,avg_training_loss4, 'blue', label = \"lr3\", linewidth = '1')\n",
    "plt.title(\"Training Loss per epoch\",fontsize=20)\n",
    "plt.xlabel(\"epochs\",fontsize=20)  \n",
    "plt.ylabel(\"Train loss\",fontsize=20)\n",
    "\n",
    "plt.legend(fontsize=20)\n",
    "plt.show()"
   ]
  },
  {
   "cell_type": "markdown",
   "metadata": {
    "id": "Yt_FPPXP9r1-"
   },
   "source": [
    "#### Training and Validation Accuracy"
   ]
  },
  {
   "cell_type": "code",
   "execution_count": 35,
   "metadata": {
    "execution": {
     "iopub.execute_input": "2021-11-28T03:19:00.626852Z",
     "iopub.status.busy": "2021-11-28T03:19:00.626552Z",
     "iopub.status.idle": "2021-11-28T03:19:00.904334Z",
     "shell.execute_reply": "2021-11-28T03:19:00.903318Z",
     "shell.execute_reply.started": "2021-11-28T03:19:00.626823Z"
    },
    "id": "ZLxZtRme9nNH"
   },
   "outputs": [
    {
     "data": {
      "image/png": "[encoded data removed]",
      "text/plain": [
       "<Figure size 720x504 with 1 Axes>"
      ]
     },
     "metadata": {
      "needs_background": "light"
     },
     "output_type": "display_data"
    }
   ],
   "source": [
    "figure(figsize=(10,7))\n",
    "plt.plot(epoch_count,avg_training_accuracy2, 'b-', label = \"Training\", linewidth = '1')\n",
    "plt.plot(epoch_count,avg_validation_accuracy2, 'g-', label = \"Validation\", linewidth = '1')\n",
    "plt.title(\"Accuracy per epoch\",fontsize=20)\n",
    "plt.xlabel(\"Number of Epochs\",fontsize=20)  \n",
    "plt.ylabel(\"Accuracy \",fontsize=20)\n",
    "plt.legend(fontsize=15)\n",
    "plt.show()"
   ]
  },
  {
   "cell_type": "markdown",
   "metadata": {
    "id": "cmRH2ddk9xqp"
   },
   "source": [
    "#### Testing Accuracy"
   ]
  },
  {
   "cell_type": "code",
   "execution_count": 38,
   "metadata": {
    "execution": {
     "iopub.execute_input": "2021-11-28T03:22:56.141720Z",
     "iopub.status.busy": "2021-11-28T03:22:56.141393Z",
     "iopub.status.idle": "2021-11-28T03:35:22.888490Z",
     "shell.execute_reply": "2021-11-28T03:35:22.887331Z",
     "shell.execute_reply.started": "2021-11-28T03:22:56.141687Z"
    },
    "id": "mjj2UdVc9zji",
    "outputId": "5647e8d3-8d12-424d-ba54-cedd64910470"
   },
   "outputs": [
    {
     "name": "stdout",
     "output_type": "stream",
     "text": [
      "Number of epochs: 0 | Validation loss : 2.0258710384368896  | Training loss : 1.1428731679916382  |   Training accuracy: 0.6736000180244446 validation accuracy : 0.5015974640846252\n",
      "Number of epochs: 1 | Validation loss : 2.0347113609313965  | Training loss : 1.087228775024414  |   Training accuracy: 0.6884250044822693 validation accuracy : 0.5\n",
      "Number of epochs: 2 | Validation loss : 2.0311617851257324  | Training loss : 1.0542583465576172  |   Training accuracy: 0.6973749995231628 validation accuracy : 0.5024960041046143\n",
      "Number of epochs: 3 | Validation loss : 2.0545201301574707  | Training loss : 1.0059000253677368  |   Training accuracy: 0.7067000269889832 validation accuracy : 0.5019968152046204\n",
      "Number of epochs: 4 | Validation loss : 2.0406408309936523  | Training loss : 0.9538673758506775  |   Training accuracy: 0.7246249914169312 validation accuracy : 0.5101836919784546\n",
      "Number of epochs: 5 | Validation loss : 2.1461501121520996  | Training loss : 0.9071981906890869  |   Training accuracy: 0.7354249954223633 validation accuracy : 0.49970048666000366\n",
      "Number of epochs: 6 | Validation loss : 2.148185968399048  | Training loss : 0.8674132823944092  |   Training accuracy: 0.7475500106811523 validation accuracy : 0.49890175461769104\n",
      "Number of epochs: 7 | Validation loss : 2.1235783100128174  | Training loss : 0.8335657715797424  |   Training accuracy: 0.7560999989509583 validation accuracy : 0.5092851519584656\n",
      "Number of epochs: 8 | Validation loss : 2.1646902561187744  | Training loss : 0.7881748080253601  |   Training accuracy: 0.7685750126838684 validation accuracy : 0.5024960041046143\n",
      "Number of epochs: 9 | Validation loss : 2.2075295448303223  | Training loss : 0.7536813020706177  |   Training accuracy: 0.7767249941825867 validation accuracy : 0.506489634513855\n",
      "0.5081868767738342\n",
      "CPU times: user 12min 21s, sys: 2.35 s, total: 12min 24s\n",
      "Wall time: 12min 26s\n"
     ]
    }
   ],
   "source": [
    "%%time\n",
    "# train on that particular learning rate\n",
    "def accuracy(predicted,labels):\n",
    "    predictions, id=torch.max(predicted,dim=1)\n",
    "    return torch.tensor(torch.sum(id==labels).item()/len(predicted))\n",
    "\n",
    "# For validation\n",
    "def evaluate(model,dl,loss_func):\n",
    "    model.eval()\n",
    "    loss_per_batch, accuracy_per_batch=[],[]\n",
    "    for images,labels in valid_dl:\n",
    "        #start loop\n",
    "        with torch.no_grad():\n",
    "            predicted=model(images)\n",
    "        loss_per_batch.append(loss_func(predicted,labels))\n",
    "        accuracy_per_batch.append(accuracy(predicted,labels))\n",
    "    val_loss_epoch=torch.stack(loss_per_batch).mean().item()\n",
    "    val_accuracy_epoch=torch.stack(accuracy_per_batch).mean().item()\n",
    "    return val_loss_epoch,val_accuracy_epoch\n",
    "\n",
    "def train(model,train_dl,valid_dl,epochs, max_lr, loss_func,optim):\n",
    "    optimizer=optim(model.parameters(), max_lr, momentum=0.9,weight_decay=1e-5)\n",
    "    scheduler=torch.optim.lr_scheduler.OneCycleLR(optimizer, max_lr,epochs*len(train_dl))\n",
    "    #scheduler=torch.optim.lr_scheduler.CosineAnnealingLR(optimizer,T_max=5,verbose=True)\n",
    "    #scheduler=torch.optim.lr_scheduler.ExponentialLR(optimizer,  gamma=0.9)\n",
    "    \n",
    "    results=[]\n",
    "    for epoch in range(epochs):\n",
    "        model.train()\n",
    "        train_losses=[]\n",
    "        train_accuracy_per_batch=[]\n",
    "        lrs=[]\n",
    "\n",
    "        for images, labels in train_dl:\n",
    "            predicted=model(images)\n",
    "            loss=loss_func(predicted,labels)\n",
    "            train_losses.append(loss)\n",
    "            loss.backward()\n",
    "            optimizer.step()\n",
    "            optimizer.zero_grad()\n",
    "            \n",
    "          # keep track of learning rate\n",
    "            lrs.append(optimizer.param_groups[0]['lr'])\n",
    "            train_accuracy_per_batch.append(accuracy(predicted,labels))\n",
    "    \n",
    "        scheduler.step()\n",
    "        epoch_train_acc=torch.stack(train_accuracy_per_batch).mean().item()\n",
    "        epoch_train_loss=torch.stack(train_losses).mean().item()\n",
    "        val_loss_epoch,val_accuracy_epoch=evaluate(model,valid_dl,loss_func)\n",
    "        \n",
    "        results.append({'avg_valid_loss': val_loss_epoch,\n",
    "                        'avg_val_acc': val_accuracy_epoch,\n",
    "                        'avg_train_loss':epoch_train_loss,\n",
    "                        'avg_train_acc':epoch_train_acc,\n",
    "                        'lrs':lrs})\n",
    "        \n",
    "        print('Number of epochs:', epoch,'|', \n",
    "              'Validation loss :',val_loss_epoch, ' |','Training loss :'\n",
    "              ,epoch_train_loss,' |  '\n",
    "              ,'Training accuracy:', epoch_train_acc\n",
    "              , 'validation accuracy :',val_accuracy_epoch)\n",
    "    return results\n",
    "\n",
    "\n",
    "model=move_device(model,device)\n",
    "epochs = 10\n",
    "\n",
    "'''\n",
    "Learning Rates\n",
    "'''\n",
    "max_lr2 = 1e-2\n",
    "\n",
    "loss_func=nn.functional.cross_entropy\n",
    "\n",
    "'''\n",
    "Optimizers\n",
    "'''\n",
    "#optim=torch.optim.Adam\n",
    "optim=torch.optim.SGD\n",
    "\n",
    "'''\n",
    "Train function call\n",
    "'''\n",
    "results= train(model,train_dl,valid_dl,epochs, max_lr2, loss_func,optim)\n",
    "\n",
    "\n",
    "\n",
    "# Test\n",
    "_,test_acc=evaluate(model, test_dl, loss_func)\n",
    "print(test_acc)\n"
   ]
  },
  {
   "cell_type": "markdown",
   "metadata": {},
   "source": [
    "### Test Accuracy for ResNet 18"
   ]
  },
  {
   "cell_type": "code",
   "execution_count": 39,
   "metadata": {
    "execution": {
     "iopub.execute_input": "2021-11-28T03:40:21.749605Z",
     "iopub.status.busy": "2021-11-28T03:40:21.749196Z",
     "iopub.status.idle": "2021-11-28T03:40:33.311438Z",
     "shell.execute_reply": "2021-11-28T03:40:33.310300Z",
     "shell.execute_reply.started": "2021-11-28T03:40:21.749557Z"
    }
   },
   "outputs": [
    {
     "name": "stdout",
     "output_type": "stream",
     "text": [
      "Test Accuracy is :  0.5038937926292419\n"
     ]
    }
   ],
   "source": [
    "# Test\n",
    "_,test_acc=evaluate(model, test_dl, loss_func)\n",
    "print('Test Accuracy is : ',test_acc)\n"
   ]
  },
  {
   "cell_type": "markdown",
   "metadata": {},
   "source": [
    "# ADVANCED (20%)\n",
    "## ResNet 50"
   ]
  },
  {
   "cell_type": "code",
   "execution_count": 6,
   "metadata": {
    "execution": {
     "iopub.execute_input": "2021-11-28T10:08:25.554022Z",
     "iopub.status.busy": "2021-11-28T10:08:25.553608Z",
     "iopub.status.idle": "2021-11-28T10:08:25.565613Z",
     "shell.execute_reply": "2021-11-28T10:08:25.564580Z",
     "shell.execute_reply.started": "2021-11-28T10:08:25.553987Z"
    }
   },
   "outputs": [
    {
     "data": {
      "text/plain": [
       "ResNet(\n",
       "  (conv1): Conv2d(3, 64, kernel_size=(7, 7), stride=(2, 2), padding=(3, 3), bias=False)\n",
       "  (bn1): BatchNorm2d(64, eps=1e-05, momentum=0.1, affine=True, track_running_stats=True)\n",
       "  (relu): ReLU(inplace=True)\n",
       "  (maxpool): MaxPool2d(kernel_size=3, stride=2, padding=1, dilation=1, ceil_mode=False)\n",
       "  (layer1): Sequential(\n",
       "    (0): Bottleneck(\n",
       "      (conv1): Conv2d(64, 64, kernel_size=(1, 1), stride=(1, 1), bias=False)\n",
       "      (bn1): BatchNorm2d(64, eps=1e-05, momentum=0.1, affine=True, track_running_stats=True)\n",
       "      (conv2): Conv2d(64, 64, kernel_size=(3, 3), stride=(1, 1), padding=(1, 1), bias=False)\n",
       "      (bn2): BatchNorm2d(64, eps=1e-05, momentum=0.1, affine=True, track_running_stats=True)\n",
       "      (conv3): Conv2d(64, 256, kernel_size=(1, 1), stride=(1, 1), bias=False)\n",
       "      (bn3): BatchNorm2d(256, eps=1e-05, momentum=0.1, affine=True, track_running_stats=True)\n",
       "      (relu): ReLU(inplace=True)\n",
       "      (downsample): Sequential(\n",
       "        (0): Conv2d(64, 256, kernel_size=(1, 1), stride=(1, 1), bias=False)\n",
       "        (1): BatchNorm2d(256, eps=1e-05, momentum=0.1, affine=True, track_running_stats=True)\n",
       "      )\n",
       "    )\n",
       "    (1): Bottleneck(\n",
       "      (conv1): Conv2d(256, 64, kernel_size=(1, 1), stride=(1, 1), bias=False)\n",
       "      (bn1): BatchNorm2d(64, eps=1e-05, momentum=0.1, affine=True, track_running_stats=True)\n",
       "      (conv2): Conv2d(64, 64, kernel_size=(3, 3), stride=(1, 1), padding=(1, 1), bias=False)\n",
       "      (bn2): BatchNorm2d(64, eps=1e-05, momentum=0.1, affine=True, track_running_stats=True)\n",
       "      (conv3): Conv2d(64, 256, kernel_size=(1, 1), stride=(1, 1), bias=False)\n",
       "      (bn3): BatchNorm2d(256, eps=1e-05, momentum=0.1, affine=True, track_running_stats=True)\n",
       "      (relu): ReLU(inplace=True)\n",
       "    )\n",
       "    (2): Bottleneck(\n",
       "      (conv1): Conv2d(256, 64, kernel_size=(1, 1), stride=(1, 1), bias=False)\n",
       "      (bn1): BatchNorm2d(64, eps=1e-05, momentum=0.1, affine=True, track_running_stats=True)\n",
       "      (conv2): Conv2d(64, 64, kernel_size=(3, 3), stride=(1, 1), padding=(1, 1), bias=False)\n",
       "      (bn2): BatchNorm2d(64, eps=1e-05, momentum=0.1, affine=True, track_running_stats=True)\n",
       "      (conv3): Conv2d(64, 256, kernel_size=(1, 1), stride=(1, 1), bias=False)\n",
       "      (bn3): BatchNorm2d(256, eps=1e-05, momentum=0.1, affine=True, track_running_stats=True)\n",
       "      (relu): ReLU(inplace=True)\n",
       "    )\n",
       "  )\n",
       "  (layer2): Sequential(\n",
       "    (0): Bottleneck(\n",
       "      (conv1): Conv2d(256, 128, kernel_size=(1, 1), stride=(1, 1), bias=False)\n",
       "      (bn1): BatchNorm2d(128, eps=1e-05, momentum=0.1, affine=True, track_running_stats=True)\n",
       "      (conv2): Conv2d(128, 128, kernel_size=(3, 3), stride=(2, 2), padding=(1, 1), bias=False)\n",
       "      (bn2): BatchNorm2d(128, eps=1e-05, momentum=0.1, affine=True, track_running_stats=True)\n",
       "      (conv3): Conv2d(128, 512, kernel_size=(1, 1), stride=(1, 1), bias=False)\n",
       "      (bn3): BatchNorm2d(512, eps=1e-05, momentum=0.1, affine=True, track_running_stats=True)\n",
       "      (relu): ReLU(inplace=True)\n",
       "      (downsample): Sequential(\n",
       "        (0): Conv2d(256, 512, kernel_size=(1, 1), stride=(2, 2), bias=False)\n",
       "        (1): BatchNorm2d(512, eps=1e-05, momentum=0.1, affine=True, track_running_stats=True)\n",
       "      )\n",
       "    )\n",
       "    (1): Bottleneck(\n",
       "      (conv1): Conv2d(512, 128, kernel_size=(1, 1), stride=(1, 1), bias=False)\n",
       "      (bn1): BatchNorm2d(128, eps=1e-05, momentum=0.1, affine=True, track_running_stats=True)\n",
       "      (conv2): Conv2d(128, 128, kernel_size=(3, 3), stride=(1, 1), padding=(1, 1), bias=False)\n",
       "      (bn2): BatchNorm2d(128, eps=1e-05, momentum=0.1, affine=True, track_running_stats=True)\n",
       "      (conv3): Conv2d(128, 512, kernel_size=(1, 1), stride=(1, 1), bias=False)\n",
       "      (bn3): BatchNorm2d(512, eps=1e-05, momentum=0.1, affine=True, track_running_stats=True)\n",
       "      (relu): ReLU(inplace=True)\n",
       "    )\n",
       "    (2): Bottleneck(\n",
       "      (conv1): Conv2d(512, 128, kernel_size=(1, 1), stride=(1, 1), bias=False)\n",
       "      (bn1): BatchNorm2d(128, eps=1e-05, momentum=0.1, affine=True, track_running_stats=True)\n",
       "      (conv2): Conv2d(128, 128, kernel_size=(3, 3), stride=(1, 1), padding=(1, 1), bias=False)\n",
       "      (bn2): BatchNorm2d(128, eps=1e-05, momentum=0.1, affine=True, track_running_stats=True)\n",
       "      (conv3): Conv2d(128, 512, kernel_size=(1, 1), stride=(1, 1), bias=False)\n",
       "      (bn3): BatchNorm2d(512, eps=1e-05, momentum=0.1, affine=True, track_running_stats=True)\n",
       "      (relu): ReLU(inplace=True)\n",
       "    )\n",
       "    (3): Bottleneck(\n",
       "      (conv1): Conv2d(512, 128, kernel_size=(1, 1), stride=(1, 1), bias=False)\n",
       "      (bn1): BatchNorm2d(128, eps=1e-05, momentum=0.1, affine=True, track_running_stats=True)\n",
       "      (conv2): Conv2d(128, 128, kernel_size=(3, 3), stride=(1, 1), padding=(1, 1), bias=False)\n",
       "      (bn2): BatchNorm2d(128, eps=1e-05, momentum=0.1, affine=True, track_running_stats=True)\n",
       "      (conv3): Conv2d(128, 512, kernel_size=(1, 1), stride=(1, 1), bias=False)\n",
       "      (bn3): BatchNorm2d(512, eps=1e-05, momentum=0.1, affine=True, track_running_stats=True)\n",
       "      (relu): ReLU(inplace=True)\n",
       "    )\n",
       "  )\n",
       "  (layer3): Sequential(\n",
       "    (0): Bottleneck(\n",
       "      (conv1): Conv2d(512, 256, kernel_size=(1, 1), stride=(1, 1), bias=False)\n",
       "      (bn1): BatchNorm2d(256, eps=1e-05, momentum=0.1, affine=True, track_running_stats=True)\n",
       "      (conv2): Conv2d(256, 256, kernel_size=(3, 3), stride=(2, 2), padding=(1, 1), bias=False)\n",
       "      (bn2): BatchNorm2d(256, eps=1e-05, momentum=0.1, affine=True, track_running_stats=True)\n",
       "      (conv3): Conv2d(256, 1024, kernel_size=(1, 1), stride=(1, 1), bias=False)\n",
       "      (bn3): BatchNorm2d(1024, eps=1e-05, momentum=0.1, affine=True, track_running_stats=True)\n",
       "      (relu): ReLU(inplace=True)\n",
       "      (downsample): Sequential(\n",
       "        (0): Conv2d(512, 1024, kernel_size=(1, 1), stride=(2, 2), bias=False)\n",
       "        (1): BatchNorm2d(1024, eps=1e-05, momentum=0.1, affine=True, track_running_stats=True)\n",
       "      )\n",
       "    )\n",
       "    (1): Bottleneck(\n",
       "      (conv1): Conv2d(1024, 256, kernel_size=(1, 1), stride=(1, 1), bias=False)\n",
       "      (bn1): BatchNorm2d(256, eps=1e-05, momentum=0.1, affine=True, track_running_stats=True)\n",
       "      (conv2): Conv2d(256, 256, kernel_size=(3, 3), stride=(1, 1), padding=(1, 1), bias=False)\n",
       "      (bn2): BatchNorm2d(256, eps=1e-05, momentum=0.1, affine=True, track_running_stats=True)\n",
       "      (conv3): Conv2d(256, 1024, kernel_size=(1, 1), stride=(1, 1), bias=False)\n",
       "      (bn3): BatchNorm2d(1024, eps=1e-05, momentum=0.1, affine=True, track_running_stats=True)\n",
       "      (relu): ReLU(inplace=True)\n",
       "    )\n",
       "    (2): Bottleneck(\n",
       "      (conv1): Conv2d(1024, 256, kernel_size=(1, 1), stride=(1, 1), bias=False)\n",
       "      (bn1): BatchNorm2d(256, eps=1e-05, momentum=0.1, affine=True, track_running_stats=True)\n",
       "      (conv2): Conv2d(256, 256, kernel_size=(3, 3), stride=(1, 1), padding=(1, 1), bias=False)\n",
       "      (bn2): BatchNorm2d(256, eps=1e-05, momentum=0.1, affine=True, track_running_stats=True)\n",
       "      (conv3): Conv2d(256, 1024, kernel_size=(1, 1), stride=(1, 1), bias=False)\n",
       "      (bn3): BatchNorm2d(1024, eps=1e-05, momentum=0.1, affine=True, track_running_stats=True)\n",
       "      (relu): ReLU(inplace=True)\n",
       "    )\n",
       "    (3): Bottleneck(\n",
       "      (conv1): Conv2d(1024, 256, kernel_size=(1, 1), stride=(1, 1), bias=False)\n",
       "      (bn1): BatchNorm2d(256, eps=1e-05, momentum=0.1, affine=True, track_running_stats=True)\n",
       "      (conv2): Conv2d(256, 256, kernel_size=(3, 3), stride=(1, 1), padding=(1, 1), bias=False)\n",
       "      (bn2): BatchNorm2d(256, eps=1e-05, momentum=0.1, affine=True, track_running_stats=True)\n",
       "      (conv3): Conv2d(256, 1024, kernel_size=(1, 1), stride=(1, 1), bias=False)\n",
       "      (bn3): BatchNorm2d(1024, eps=1e-05, momentum=0.1, affine=True, track_running_stats=True)\n",
       "      (relu): ReLU(inplace=True)\n",
       "    )\n",
       "    (4): Bottleneck(\n",
       "      (conv1): Conv2d(1024, 256, kernel_size=(1, 1), stride=(1, 1), bias=False)\n",
       "      (bn1): BatchNorm2d(256, eps=1e-05, momentum=0.1, affine=True, track_running_stats=True)\n",
       "      (conv2): Conv2d(256, 256, kernel_size=(3, 3), stride=(1, 1), padding=(1, 1), bias=False)\n",
       "      (bn2): BatchNorm2d(256, eps=1e-05, momentum=0.1, affine=True, track_running_stats=True)\n",
       "      (conv3): Conv2d(256, 1024, kernel_size=(1, 1), stride=(1, 1), bias=False)\n",
       "      (bn3): BatchNorm2d(1024, eps=1e-05, momentum=0.1, affine=True, track_running_stats=True)\n",
       "      (relu): ReLU(inplace=True)\n",
       "    )\n",
       "    (5): Bottleneck(\n",
       "      (conv1): Conv2d(1024, 256, kernel_size=(1, 1), stride=(1, 1), bias=False)\n",
       "      (bn1): BatchNorm2d(256, eps=1e-05, momentum=0.1, affine=True, track_running_stats=True)\n",
       "      (conv2): Conv2d(256, 256, kernel_size=(3, 3), stride=(1, 1), padding=(1, 1), bias=False)\n",
       "      (bn2): BatchNorm2d(256, eps=1e-05, momentum=0.1, affine=True, track_running_stats=True)\n",
       "      (conv3): Conv2d(256, 1024, kernel_size=(1, 1), stride=(1, 1), bias=False)\n",
       "      (bn3): BatchNorm2d(1024, eps=1e-05, momentum=0.1, affine=True, track_running_stats=True)\n",
       "      (relu): ReLU(inplace=True)\n",
       "    )\n",
       "  )\n",
       "  (layer4): Sequential(\n",
       "    (0): Bottleneck(\n",
       "      (conv1): Conv2d(1024, 512, kernel_size=(1, 1), stride=(1, 1), bias=False)\n",
       "      (bn1): BatchNorm2d(512, eps=1e-05, momentum=0.1, affine=True, track_running_stats=True)\n",
       "      (conv2): Conv2d(512, 512, kernel_size=(3, 3), stride=(2, 2), padding=(1, 1), bias=False)\n",
       "      (bn2): BatchNorm2d(512, eps=1e-05, momentum=0.1, affine=True, track_running_stats=True)\n",
       "      (conv3): Conv2d(512, 2048, kernel_size=(1, 1), stride=(1, 1), bias=False)\n",
       "      (bn3): BatchNorm2d(2048, eps=1e-05, momentum=0.1, affine=True, track_running_stats=True)\n",
       "      (relu): ReLU(inplace=True)\n",
       "      (downsample): Sequential(\n",
       "        (0): Conv2d(1024, 2048, kernel_size=(1, 1), stride=(2, 2), bias=False)\n",
       "        (1): BatchNorm2d(2048, eps=1e-05, momentum=0.1, affine=True, track_running_stats=True)\n",
       "      )\n",
       "    )\n",
       "    (1): Bottleneck(\n",
       "      (conv1): Conv2d(2048, 512, kernel_size=(1, 1), stride=(1, 1), bias=False)\n",
       "      (bn1): BatchNorm2d(512, eps=1e-05, momentum=0.1, affine=True, track_running_stats=True)\n",
       "      (conv2): Conv2d(512, 512, kernel_size=(3, 3), stride=(1, 1), padding=(1, 1), bias=False)\n",
       "      (bn2): BatchNorm2d(512, eps=1e-05, momentum=0.1, affine=True, track_running_stats=True)\n",
       "      (conv3): Conv2d(512, 2048, kernel_size=(1, 1), stride=(1, 1), bias=False)\n",
       "      (bn3): BatchNorm2d(2048, eps=1e-05, momentum=0.1, affine=True, track_running_stats=True)\n",
       "      (relu): ReLU(inplace=True)\n",
       "    )\n",
       "    (2): Bottleneck(\n",
       "      (conv1): Conv2d(2048, 512, kernel_size=(1, 1), stride=(1, 1), bias=False)\n",
       "      (bn1): BatchNorm2d(512, eps=1e-05, momentum=0.1, affine=True, track_running_stats=True)\n",
       "      (conv2): Conv2d(512, 512, kernel_size=(3, 3), stride=(1, 1), padding=(1, 1), bias=False)\n",
       "      (bn2): BatchNorm2d(512, eps=1e-05, momentum=0.1, affine=True, track_running_stats=True)\n",
       "      (conv3): Conv2d(512, 2048, kernel_size=(1, 1), stride=(1, 1), bias=False)\n",
       "      (bn3): BatchNorm2d(2048, eps=1e-05, momentum=0.1, affine=True, track_running_stats=True)\n",
       "      (relu): ReLU(inplace=True)\n",
       "    )\n",
       "  )\n",
       "  (avgpool): AdaptiveAvgPool2d(output_size=(1, 1))\n",
       "  (fc): Linear(in_features=2048, out_features=100, bias=True)\n",
       ")"
      ]
     },
     "execution_count": 6,
     "metadata": {},
     "output_type": "execute_result"
    }
   ],
   "source": [
    "model=resnet_50\n",
    "model"
   ]
  },
  {
   "cell_type": "markdown",
   "metadata": {},
   "source": [
    "### Training"
   ]
  },
  {
   "cell_type": "code",
   "execution_count": 9,
   "metadata": {
    "execution": {
     "iopub.execute_input": "2021-11-28T10:09:24.095370Z",
     "iopub.status.busy": "2021-11-28T10:09:24.094838Z",
     "iopub.status.idle": "2021-11-28T10:35:59.446997Z",
     "shell.execute_reply": "2021-11-28T10:35:59.446100Z",
     "shell.execute_reply.started": "2021-11-28T10:09:24.095333Z"
    }
   },
   "outputs": [
    {
     "name": "stdout",
     "output_type": "stream",
     "text": [
      "Number of epochs: 0 | Validation loss : 2.354605197906494  | Training loss : 3.080040216445923  |   Training accuracy: 0.2551000118255615 validation accuracy : 0.3850838541984558\n",
      "Number of epochs: 1 | Validation loss : 2.06229567527771  | Training loss : 2.237826108932495  |   Training accuracy: 0.4109250009059906 validation accuracy : 0.4536741077899933\n",
      "Number of epochs: 2 | Validation loss : 1.9198222160339355  | Training loss : 1.9390640258789062  |   Training accuracy: 0.4768249988555908 validation accuracy : 0.4862220585346222\n",
      "Number of epochs: 3 | Validation loss : 1.8678064346313477  | Training loss : 1.7458786964416504  |   Training accuracy: 0.5234249830245972 validation accuracy : 0.5043929815292358\n",
      "Number of epochs: 4 | Validation loss : 1.8022511005401611  | Training loss : 1.5986768007278442  |   Training accuracy: 0.5595499873161316 validation accuracy : 0.517372190952301\n",
      "Number of epochs: 5 | Validation loss : 1.788769245147705  | Training loss : 1.4686111211776733  |   Training accuracy: 0.589775025844574 validation accuracy : 0.5239616632461548\n",
      "Number of epochs: 6 | Validation loss : 1.8077868223190308  | Training loss : 1.3655238151550293  |   Training accuracy: 0.6147750020027161 validation accuracy : 0.5278554558753967\n",
      "Number of epochs: 7 | Validation loss : 1.7925704717636108  | Training loss : 1.259329915046692  |   Training accuracy: 0.6416000127792358 validation accuracy : 0.5316493511199951\n",
      "Number of epochs: 8 | Validation loss : 1.771490216255188  | Training loss : 1.1732298135757446  |   Training accuracy: 0.6649749875068665 validation accuracy : 0.5444288849830627\n",
      "Number of epochs: 9 | Validation loss : 1.7830157279968262  | Training loss : 1.1098071336746216  |   Training accuracy: 0.6811000108718872 validation accuracy : 0.539536714553833\n",
      "Number of epochs: 10 | Validation loss : 1.802015781402588  | Training loss : 1.0327491760253906  |   Training accuracy: 0.7012249827384949 validation accuracy : 0.5413338541984558\n",
      "Number of epochs: 11 | Validation loss : 1.8209189176559448  | Training loss : 0.9608210921287537  |   Training accuracy: 0.7211250066757202 validation accuracy : 0.5444288849830627\n",
      "Number of epochs: 12 | Validation loss : 1.8492668867111206  | Training loss : 0.8958105444908142  |   Training accuracy: 0.7372249960899353 validation accuracy : 0.546026349067688\n",
      "Number of epochs: 13 | Validation loss : 1.8730000257492065  | Training loss : 0.8485578894615173  |   Training accuracy: 0.7502250075340271 validation accuracy : 0.5461261868476868\n",
      "Number of epochs: 14 | Validation loss : 1.8870092630386353  | Training loss : 0.8059845566749573  |   Training accuracy: 0.7645750045776367 validation accuracy : 0.5495207905769348\n",
      "CPU times: user 26min 15s, sys: 4.51 s, total: 26min 20s\n",
      "Wall time: 26min 35s\n"
     ]
    }
   ],
   "source": [
    "%%time\n",
    "# train on that particular learning rate\n",
    "def accuracy(predicted,labels):\n",
    "    predictions, id=torch.max(predicted,dim=1)\n",
    "    return torch.tensor(torch.sum(id==labels).item()/len(predicted))\n",
    "\n",
    "# For validation\n",
    "def evaluate(model,dl,loss_func):\n",
    "    model.eval()\n",
    "    loss_per_batch, accuracy_per_batch=[],[]\n",
    "    for images,labels in valid_dl:\n",
    "        #start loop\n",
    "        with torch.no_grad():\n",
    "            predicted=model(images)\n",
    "        loss_per_batch.append(loss_func(predicted,labels))\n",
    "        accuracy_per_batch.append(accuracy(predicted,labels))\n",
    "    val_loss_epoch=torch.stack(loss_per_batch).mean().item()\n",
    "    val_accuracy_epoch=torch.stack(accuracy_per_batch).mean().item()\n",
    "    return val_loss_epoch,val_accuracy_epoch\n",
    "\n",
    "def train(model,train_dl,valid_dl,epochs, max_lr, loss_func,optim):\n",
    "    optimizer=optim(model.parameters(), max_lr, momentum=0.9,weight_decay=1e-5)\n",
    "    scheduler=torch.optim.lr_scheduler.OneCycleLR(optimizer, max_lr,epochs*len(train_dl))\n",
    "    #scheduler=torch.optim.lr_scheduler.CosineAnnealingLR(optimizer,T_max=5,verbose=True)\n",
    "    #scheduler=torch.optim.lr_scheduler.ExponentialLR(optimizer,  gamma=0.9)\n",
    "    \n",
    "    results=[]\n",
    "    for epoch in range(epochs):\n",
    "        model.train()\n",
    "        train_losses=[]\n",
    "        train_accuracy_per_batch=[]\n",
    "        lrs=[]\n",
    "\n",
    "        for images, labels in train_dl:\n",
    "            predicted=model(images)\n",
    "            loss=loss_func(predicted,labels)\n",
    "            train_losses.append(loss)\n",
    "            loss.backward()\n",
    "            optimizer.step()\n",
    "            optimizer.zero_grad()\n",
    "            \n",
    "          # keep track of learning rate\n",
    "            lrs.append(optimizer.param_groups[0]['lr'])\n",
    "            train_accuracy_per_batch.append(accuracy(predicted,labels))\n",
    "    \n",
    "        scheduler.step()\n",
    "        epoch_train_acc=torch.stack(train_accuracy_per_batch).mean().item()\n",
    "        epoch_train_loss=torch.stack(train_losses).mean().item()\n",
    "        val_loss_epoch,val_accuracy_epoch=evaluate(model,valid_dl,loss_func)\n",
    "        \n",
    "        results.append({'avg_valid_loss': val_loss_epoch,\n",
    "                        'avg_val_acc': val_accuracy_epoch,\n",
    "                        'avg_train_loss':epoch_train_loss,\n",
    "                        'avg_train_acc':epoch_train_acc,\n",
    "                        'lrs':lrs})\n",
    "        \n",
    "        print('Number of epochs:', epoch,'|', \n",
    "              'Validation loss :',val_loss_epoch, ' |','Training loss :'\n",
    "              ,epoch_train_loss,' |  '\n",
    "              ,'Training accuracy:', epoch_train_acc\n",
    "              , 'validation accuracy :',val_accuracy_epoch)\n",
    "    return results\n",
    "\n",
    "\n",
    "model=move_device(model,device)\n",
    "epochs = 15\n",
    "\n",
    "'''\n",
    "Learning Rates\n",
    "'''\n",
    "max_lr2 = 1e-2\n",
    "\n",
    "loss_func=nn.functional.cross_entropy\n",
    "\n",
    "'''\n",
    "Optimizers\n",
    "'''\n",
    "#optim=torch.optim.Adam\n",
    "optim=torch.optim.SGD\n",
    "\n",
    "'''\n",
    "Train function call\n",
    "'''\n",
    "results= train(model,train_dl,valid_dl,epochs, max_lr2, loss_func,optim)"
   ]
  },
  {
   "cell_type": "markdown",
   "metadata": {},
   "source": [
    "### Visualizations"
   ]
  },
  {
   "cell_type": "code",
   "execution_count": 11,
   "metadata": {
    "execution": {
     "iopub.execute_input": "2021-11-28T10:43:53.352513Z",
     "iopub.status.busy": "2021-11-28T10:43:53.352162Z",
     "iopub.status.idle": "2021-11-28T10:43:53.361246Z",
     "shell.execute_reply": "2021-11-28T10:43:53.360057Z",
     "shell.execute_reply.started": "2021-11-28T10:43:53.352479Z"
    }
   },
   "outputs": [],
   "source": [
    "'''\n",
    "Training Accuracy\n",
    "'''\n",
    "avg_training_accuracy=[]\n",
    "for result in results:\n",
    "    avg_training_accuracy.append(result['avg_train_acc'])\n",
    "    \n",
    "\n",
    "'''\n",
    "Validation Accuracy\n",
    "'''\n",
    "avg_validation_accuracy=[]\n",
    "for result in results:\n",
    "    avg_validation_accuracy.append(result['avg_val_acc'])\n",
    "\n",
    "'''\n",
    "Validation Loss\n",
    "''' \n",
    "avg_validation_loss=[]\n",
    "for result in results:\n",
    "    avg_validation_loss.append(result['avg_valid_loss'])\n",
    "    \n",
    "\n",
    "\n",
    "'''\n",
    "Training Loss\n",
    "'''\n",
    "avg_training_loss=[]\n",
    "for result in results:\n",
    "    avg_training_loss.append(result['avg_train_loss'])\n",
    "    \n",
    "'''\n",
    "Epochs count\n",
    "'''\n",
    "epoch_count=[]\n",
    "for i in range(epochs):\n",
    "    epoch_count.append(i)"
   ]
  },
  {
   "cell_type": "markdown",
   "metadata": {},
   "source": [
    "#### Training and Validation Loss"
   ]
  },
  {
   "cell_type": "code",
   "execution_count": 15,
   "metadata": {
    "execution": {
     "iopub.execute_input": "2021-11-28T10:44:23.439697Z",
     "iopub.status.busy": "2021-11-28T10:44:23.438813Z",
     "iopub.status.idle": "2021-11-28T10:44:23.702802Z",
     "shell.execute_reply": "2021-11-28T10:44:23.701879Z",
     "shell.execute_reply.started": "2021-11-28T10:44:23.439658Z"
    }
   },
   "outputs": [
    {
     "data": {
      "image/png": "[encoded data removed]",
      "text/plain": [
       "<Figure size 720x504 with 1 Axes>"
      ]
     },
     "metadata": {
      "needs_background": "light"
     },
     "output_type": "display_data"
    }
   ],
   "source": [
    "figure(figsize=(10,7))\n",
    "plt.plot(epoch_count,avg_training_loss, 'b-',label = \"Training\", linewidth = '2')\n",
    "plt.plot(epoch_count,avg_validation_loss, 'g-', label = \"Validation\", linewidth = '2')\n",
    "plt.title(\"Loss per epoch\",fontsize=20)\n",
    "plt.xlabel(\"epochs\",fontsize=20)  \n",
    "plt.ylabel(\"Loss\",fontsize=20)\n",
    "plt.legend(fontsize=20)\n",
    "plt.show()"
   ]
  },
  {
   "cell_type": "markdown",
   "metadata": {},
   "source": [
    "#### Training and Validation Accuracy"
   ]
  },
  {
   "cell_type": "code",
   "execution_count": 16,
   "metadata": {
    "execution": {
     "iopub.execute_input": "2021-11-28T10:44:53.693594Z",
     "iopub.status.busy": "2021-11-28T10:44:53.693275Z",
     "iopub.status.idle": "2021-11-28T10:44:53.955915Z",
     "shell.execute_reply": "2021-11-28T10:44:53.955039Z",
     "shell.execute_reply.started": "2021-11-28T10:44:53.693563Z"
    }
   },
   "outputs": [
    {
     "data": {
      "image/png": "[encoded data removed]",
      "text/plain": [
       "<Figure size 720x504 with 1 Axes>"
      ]
     },
     "metadata": {
      "needs_background": "light"
     },
     "output_type": "display_data"
    }
   ],
   "source": [
    "figure(figsize=(10,7))\n",
    "plt.plot(epoch_count,avg_training_accuracy, 'b-', label = \"Training\", linewidth = '2')\n",
    "plt.plot(epoch_count,avg_validation_accuracy, 'g-', label = \"Validation\", linewidth = '2')\n",
    "plt.title(\"Accuracy per epoch\",fontsize=20)\n",
    "plt.xlabel(\"Number of Epochs\",fontsize=20)  \n",
    "plt.ylabel(\"Accuracy \",fontsize=20)\n",
    "plt.legend(fontsize=15)\n",
    "plt.show()"
   ]
  },
  {
   "cell_type": "markdown",
   "metadata": {},
   "source": [
    "### Test Accuracy for ResNet 50"
   ]
  },
  {
   "cell_type": "code",
   "execution_count": 14,
   "metadata": {
    "execution": {
     "iopub.execute_input": "2021-11-28T10:44:03.524761Z",
     "iopub.status.busy": "2021-11-28T10:44:03.524125Z",
     "iopub.status.idle": "2021-11-28T10:44:17.433285Z",
     "shell.execute_reply": "2021-11-28T10:44:17.432193Z",
     "shell.execute_reply.started": "2021-11-28T10:44:03.524724Z"
    }
   },
   "outputs": [
    {
     "name": "stdout",
     "output_type": "stream",
     "text": [
      "Test Accuracy for ResNet 50 is :  0.547723650932312\n"
     ]
    }
   ],
   "source": [
    "# Test\n",
    "_,test_acc=evaluate(model, test_dl, loss_func)\n",
    "print('Test Accuracy for ResNet 50 is : ',test_acc)"
   ]
  },
  {
   "cell_type": "code",
   "execution_count": null,
   "metadata": {},
   "outputs": [],
   "source": []
  }
 ],
 "metadata": {
  "kernelspec": {
   "display_name": "Python 3",
   "language": "python",
   "name": "python3"
  },
  "language_info": {
   "codemirror_mode": {
    "name": "ipython",
    "version": 3
   },
   "file_extension": ".py",
   "mimetype": "text/x-python",
   "name": "python",
   "nbconvert_exporter": "python",
   "pygments_lexer": "ipython3",
   "version": "3.7.4"
  }
 },
 "nbformat": 4,
 "nbformat_minor": 4
}
