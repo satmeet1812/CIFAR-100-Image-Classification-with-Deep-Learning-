{
 "cells": [
  {
   "cell_type": "markdown",
   "metadata": {},
   "source": [
    "# EXPECTED (40%)\n",
    "### A Convolutional Neural Net (CNN) with 4 Layers"
   ]
  },
  {
   "cell_type": "code",
   "execution_count": 68,
   "metadata": {
    "_cell_guid": "b1076dfc-b9ad-4769-8c92-a6c4dae69d19",
    "_uuid": "8f2839f25d086af736a60e9eeb907d3b93b6e0e5",
    "execution": {
     "iopub.execute_input": "2021-11-30T01:39:00.132575Z",
     "iopub.status.busy": "2021-11-30T01:39:00.132276Z",
     "iopub.status.idle": "2021-11-30T01:39:00.138100Z",
     "shell.execute_reply": "2021-11-30T01:39:00.137267Z",
     "shell.execute_reply.started": "2021-11-30T01:39:00.132542Z"
    }
   },
   "outputs": [],
   "source": [
    "import numpy as np\n",
    "import pandas as pd\n",
    "import os\n",
    "for dirname, _, filenames in os.walk('/kaggle/input'):\n",
    "    for filename in filenames:\n",
    "        print(os.path.join(dirname, filename))"
   ]
  },
  {
   "cell_type": "markdown",
   "metadata": {},
   "source": [
    "#### Import Libraries"
   ]
  },
  {
   "cell_type": "code",
   "execution_count": 69,
   "metadata": {
    "execution": {
     "iopub.execute_input": "2021-11-30T01:39:00.954911Z",
     "iopub.status.busy": "2021-11-30T01:39:00.954334Z",
     "iopub.status.idle": "2021-11-30T01:39:00.960339Z",
     "shell.execute_reply": "2021-11-30T01:39:00.959331Z",
     "shell.execute_reply.started": "2021-11-30T01:39:00.954869Z"
    }
   },
   "outputs": [],
   "source": [
    "import torch\n",
    "import torch.nn as nn\n",
    "import torch.nn.functional as F\n",
    "import torch.optim as optim\n",
    "\n",
    "# For loading popular data sets\n",
    "import torchvision\n",
    "import torchvision.transforms as transforms\n",
    "\n",
    "import matplotlib.pyplot as plt\n",
    "from matplotlib.pyplot import figure\n",
    "\n",
    "import matplotlib.pyplot as plt\n",
    "import matplotlib.colors as colors\n",
    "import numpy as np\n",
    "\n",
    "from torch.utils.data.dataloader import DataLoader"
   ]
  },
  {
   "cell_type": "markdown",
   "metadata": {},
   "source": [
    "### CNN Without Data Augmentation "
   ]
  },
  {
   "cell_type": "markdown",
   "metadata": {},
   "source": [
    "#### Preprocessing \n",
    "\n",
    "For preprocessing, the first step is the normalization of images based on mean and standard deviation"
   ]
  },
  {
   "cell_type": "code",
   "execution_count": 70,
   "metadata": {
    "execution": {
     "iopub.execute_input": "2021-11-30T01:39:02.149317Z",
     "iopub.status.busy": "2021-11-30T01:39:02.146747Z",
     "iopub.status.idle": "2021-11-30T01:39:03.945602Z",
     "shell.execute_reply": "2021-11-30T01:39:03.944807Z",
     "shell.execute_reply.started": "2021-11-30T01:39:02.149271Z"
    }
   },
   "outputs": [
    {
     "name": "stdout",
     "output_type": "stream",
     "text": [
      "Files already downloaded and verified\n",
      "Files already downloaded and verified\n",
      "40000\n",
      "10000\n"
     ]
    }
   ],
   "source": [
    "'''\n",
    "Normalization - Channel wise mean and standard deviation of the image\n",
    "'''\n",
    "\n",
    "# Convert images to Tensor ( Channel X Height X Width)\n",
    "transform=transforms.Compose([transforms.ToTensor(),\n",
    "                              transforms.Normalize((0.4911, 0.4820, 0.4467),(0.2022, 0.1993, 0.2009))\n",
    "                             ]) \n",
    "                            \n",
    "\n",
    "# Download training data\n",
    "train=torchvision.datasets.CIFAR100(root='./data',train=True,download=True,transform=transform)\n",
    "\n",
    "# Download test data                             \n",
    "test = torchvision.datasets.CIFAR100(root='./data',train=False,download=True,transform=transform)\n",
    "\n",
    "# Define validation ratio \n",
    "validation_ratio= 0.2\n",
    "batch_size = 32\n",
    "train_data,validation_data=torch.utils.data.random_split(train,[int((1-validation_ratio)*len(train)), int((validation_ratio)*len(train))])\n",
    "print(len(train_data))\n",
    "print(len(validation_data))\n",
    "\n",
    "train_loader = DataLoader(train_data, batch_size,pin_memory=True)\n",
    "val_loader = DataLoader(validation_data, batch_size,pin_memory=True)\n",
    "test_loader = torch.utils.data.DataLoader(test,batch_size=100,shuffle=False,pin_memory=True)"
   ]
  },
  {
   "cell_type": "markdown",
   "metadata": {},
   "source": [
    "#### 2. Move to GPU"
   ]
  },
  {
   "cell_type": "code",
   "execution_count": 71,
   "metadata": {
    "execution": {
     "iopub.execute_input": "2021-11-30T01:39:03.947954Z",
     "iopub.status.busy": "2021-11-30T01:39:03.947509Z",
     "iopub.status.idle": "2021-11-30T01:39:03.959018Z",
     "shell.execute_reply": "2021-11-30T01:39:03.958345Z",
     "shell.execute_reply.started": "2021-11-30T01:39:03.947916Z"
    }
   },
   "outputs": [],
   "source": [
    "# Check if your system has cuda gpu or only cpu\n",
    "\n",
    "def check_device():\n",
    "    if torch.cuda.is_available:\n",
    "        return torch.device('cuda')\n",
    "    else:\n",
    "        return torch.device('cpu')\n",
    "\n",
    "# Function to transfer from CPU to GPU\n",
    "def move_device(tensor, device):\n",
    "    \n",
    "    # Move all individual tensors from cpu to gpu\n",
    "    if isinstance(tensor, (list,tuple)):\n",
    "        return [move_device(element, device) for element in tensor]\n",
    "    return tensor.to(device, non_blocking=True) \n",
    "\n",
    "# Execute transfer from CPU to GPU for each device\n",
    "class DeviceDataLoader():\n",
    "    \n",
    "    # Define Constructor\n",
    "    def __init__(self, dataloader, device):\n",
    "        self.dl = dataloader\n",
    "        self.device = device\n",
    "        \n",
    "    def __iter__(self):\n",
    "        \n",
    "       # Transfer each batch and return\n",
    "        for i in self.dl: \n",
    "            yield move_device(i, self.device)\n",
    "\n",
    "    def __len__(self):\n",
    "        \n",
    "        # Return the number of batches\n",
    "        return len(self.dl)\n",
    "\n",
    "\n",
    "device = check_device()\n",
    "\n",
    "# Move all the tensors to GPU\n",
    "train_dl = DeviceDataLoader(train_loader, device)\n",
    "valid_dl = DeviceDataLoader(val_loader, device)\n",
    "test_dl = DeviceDataLoader(test_loader, device)"
   ]
  },
  {
   "cell_type": "markdown",
   "metadata": {},
   "source": [
    "#### 3. CNN without Data Augmentation and Regularization"
   ]
  },
  {
   "cell_type": "code",
   "execution_count": 72,
   "metadata": {
    "execution": {
     "iopub.execute_input": "2021-11-30T01:39:03.961058Z",
     "iopub.status.busy": "2021-11-30T01:39:03.960653Z",
     "iopub.status.idle": "2021-11-30T01:39:03.979576Z",
     "shell.execute_reply": "2021-11-30T01:39:03.978849Z",
     "shell.execute_reply.started": "2021-11-30T01:39:03.961021Z"
    }
   },
   "outputs": [
    {
     "name": "stdout",
     "output_type": "stream",
     "text": [
      "convnet_no_dropout(\n",
      "  (conv_layer_1): Sequential(\n",
      "    (0): Conv2d(3, 16, kernel_size=(3, 3), stride=(1, 1), padding=(1, 1))\n",
      "    (1): ReLU()\n",
      "    (2): MaxPool2d(kernel_size=2, stride=2, padding=0, dilation=1, ceil_mode=False)\n",
      "  )\n",
      "  (conv_layer_2): Sequential(\n",
      "    (0): Conv2d(16, 32, kernel_size=(3, 3), stride=(1, 1), padding=(1, 1))\n",
      "    (1): ReLU()\n",
      "    (2): MaxPool2d(kernel_size=2, stride=2, padding=0, dilation=1, ceil_mode=False)\n",
      "  )\n",
      "  (conv_layer_3): Sequential(\n",
      "    (0): Conv2d(32, 64, kernel_size=(3, 3), stride=(1, 1), padding=(1, 1))\n",
      "    (1): ReLU()\n",
      "    (2): MaxPool2d(kernel_size=2, stride=2, padding=0, dilation=1, ceil_mode=False)\n",
      "  )\n",
      "  (conv_layer_4): Sequential(\n",
      "    (0): Conv2d(64, 128, kernel_size=(3, 3), stride=(1, 1), padding=(1, 1))\n",
      "    (1): ReLU()\n",
      "    (2): MaxPool2d(kernel_size=2, stride=2, padding=0, dilation=1, ceil_mode=False)\n",
      "  )\n",
      "  (hidden_layer): Linear(in_features=512, out_features=206, bias=True)\n",
      "  (output_layer): Linear(in_features=206, out_features=100, bias=True)\n",
      ")\n"
     ]
    }
   ],
   "source": [
    "class convnet_no_dropout(nn.Module):\n",
    "    # Constructor\n",
    "    def __init__(self):\n",
    "        super(convnet_no_dropout, self).__init__()\n",
    "        '''\n",
    "         Convolutional layers\n",
    "         Conv2d (input channels, output channels, kernel_size, padding) \n",
    "\n",
    "        Each Sequential layer has :\n",
    "              1. A Convolutional Layer\n",
    "              2. Relu activation function\n",
    "              3. Maxpool layer\n",
    "        '''\n",
    "\n",
    "        self.conv_layer_1 = torch.nn.Sequential(\n",
    "            # Convoolutional layer\n",
    "            nn.Conv2d(in_channels=3, out_channels=16,kernel_size= 3,stride=1, padding=1),\n",
    "            \n",
    "            # Activation function\n",
    "            nn.ReLU(),\n",
    "\n",
    "            # Max pooling layer\n",
    "            torch.nn.MaxPool2d(kernel_size=2)\n",
    "        )\n",
    "        \n",
    "        self.conv_layer_2 = torch.nn.Sequential(\n",
    "            nn.Conv2d(in_channels=16, out_channels=32,kernel_size= 3,stride=1, padding=1),\n",
    "            nn.ReLU(),\n",
    "            torch.nn.MaxPool2d(kernel_size=2)\n",
    "        )\n",
    "\n",
    "\n",
    "        self.conv_layer_3 = torch.nn.Sequential(\n",
    "            nn.Conv2d(in_channels=32, out_channels=64,kernel_size= 3,stride=1, padding=1),\n",
    "            nn.ReLU(),\n",
    "            torch.nn.MaxPool2d(kernel_size=2)\n",
    "        )\n",
    "        \n",
    "        self.conv_layer_4 = torch.nn.Sequential(\n",
    "            nn.Conv2d(in_channels=64, out_channels=128,kernel_size= 3,stride=1, padding=1),\n",
    "            nn.ReLU(),\n",
    "            torch.nn.MaxPool2d(kernel_size=2)\n",
    "        )\n",
    "    \n",
    "        \n",
    "        # Fully Connected layers\n",
    "        self.hidden_layer = nn.Linear(128*2*2, 206)\n",
    "        self.output_layer = nn.Linear(206, 100)\n",
    "        \n",
    "    def forward(self, ip):\n",
    "\n",
    "        # Calling all the convolutional layers\n",
    "        output = self.conv_layer_1(ip)\n",
    "        output = self.conv_layer_2(output)\n",
    "        output = self.conv_layer_3(output)\n",
    "        output = self.conv_layer_4(output)\n",
    "        \n",
    "        # Flattening \n",
    "        output = output.view(-1, 128*2*2)\n",
    "        \n",
    "        # Call fully connected layer\n",
    "        output = self.hidden_layer(output)\n",
    "        \n",
    "        output=self.output_layer(output)\n",
    "   \n",
    "        return output\n",
    "\n",
    "model1 = convnet_no_dropout()\n",
    "print(model1)\n"
   ]
  },
  {
   "cell_type": "markdown",
   "metadata": {},
   "source": [
    "#### Training"
   ]
  },
  {
   "cell_type": "code",
   "execution_count": 73,
   "metadata": {
    "execution": {
     "iopub.execute_input": "2021-11-30T01:39:04.774460Z",
     "iopub.status.busy": "2021-11-30T01:39:04.774026Z",
     "iopub.status.idle": "2021-11-30T01:43:24.985165Z",
     "shell.execute_reply": "2021-11-30T01:43:24.984334Z",
     "shell.execute_reply.started": "2021-11-30T01:39:04.774427Z"
    }
   },
   "outputs": [
    {
     "name": "stdout",
     "output_type": "stream",
     "text": [
      "Number of epochs: 0 | Validation loss : 3.6175570487976074  | Training loss : 4.070883274078369  |   Training accuracy: 0.07625000178813934 validation accuracy : 0.13678115606307983\n",
      "Number of epochs: 1 | Validation loss : 3.138268232345581  | Training loss : 3.3063557147979736  |   Training accuracy: 0.19932499527931213 validation accuracy : 0.23562300205230713\n",
      "Number of epochs: 2 | Validation loss : 2.868253231048584  | Training loss : 2.900676965713501  |   Training accuracy: 0.2732999920845032 validation accuracy : 0.2831469774246216\n",
      "Number of epochs: 3 | Validation loss : 2.8691365718841553  | Training loss : 2.6364758014678955  |   Training accuracy: 0.32747501134872437 validation accuracy : 0.2890375256538391\n",
      "Number of epochs: 4 | Validation loss : 2.822669267654419  | Training loss : 2.4536292552948  |   Training accuracy: 0.36410000920295715 validation accuracy : 0.3078075051307678\n",
      "Number of epochs: 0 | Validation loss : 2.579652786254883  | Training loss : 1.91805899143219  |   Training accuracy: 0.4846000075340271 validation accuracy : 0.37699681520462036\n",
      "Number of epochs: 1 | Validation loss : 2.5564301013946533  | Training loss : 1.7378102540969849  |   Training accuracy: 0.524150013923645 validation accuracy : 0.3855830729007721\n",
      "Number of epochs: 2 | Validation loss : 2.567396879196167  | Training loss : 1.6334763765335083  |   Training accuracy: 0.5512250065803528 validation accuracy : 0.38767972588539124\n",
      "Number of epochs: 3 | Validation loss : 2.5915796756744385  | Training loss : 1.5470374822616577  |   Training accuracy: 0.571274995803833 validation accuracy : 0.39037540555000305\n",
      "Number of epochs: 4 | Validation loss : 2.628084897994995  | Training loss : 1.4693604707717896  |   Training accuracy: 0.5923500061035156 validation accuracy : 0.389776349067688\n",
      "Number of epochs: 0 | Validation loss : 2.578511953353882  | Training loss : 1.3444796800613403  |   Training accuracy: 0.6274750232696533 validation accuracy : 0.4058506488800049\n",
      "Number of epochs: 1 | Validation loss : 2.5848519802093506  | Training loss : 1.317665696144104  |   Training accuracy: 0.634975016117096 validation accuracy : 0.4070487320423126\n",
      "Number of epochs: 2 | Validation loss : 2.589991569519043  | Training loss : 1.303898572921753  |   Training accuracy: 0.6394249796867371 validation accuracy : 0.40694889426231384\n",
      "Number of epochs: 3 | Validation loss : 2.5957751274108887  | Training loss : 1.2918378114700317  |   Training accuracy: 0.6430749893188477 validation accuracy : 0.4070487320423126\n",
      "Number of epochs: 4 | Validation loss : 2.601949453353882  | Training loss : 1.2806450128555298  |   Training accuracy: 0.646274983882904 validation accuracy : 0.4068490266799927\n",
      "Number of epochs: 0 | Validation loss : 2.599634885787964  | Training loss : 1.262337327003479  |   Training accuracy: 0.6511250138282776 validation accuracy : 0.40644967555999756\n",
      "Number of epochs: 1 | Validation loss : 2.598565101623535  | Training loss : 1.2592898607254028  |   Training accuracy: 0.6519500017166138 validation accuracy : 0.40734824538230896\n",
      "Number of epochs: 2 | Validation loss : 2.598268985748291  | Training loss : 1.2575827836990356  |   Training accuracy: 0.6525999903678894 validation accuracy : 0.40734824538230896\n",
      "Number of epochs: 3 | Validation loss : 2.5982723236083984  | Training loss : 1.256181240081787  |   Training accuracy: 0.6531000137329102 validation accuracy : 0.4070487320423126\n",
      "Number of epochs: 4 | Validation loss : 2.5985758304595947  | Training loss : 1.2548818588256836  |   Training accuracy: 0.6533750295639038 validation accuracy : 0.4072484076023102\n"
     ]
    }
   ],
   "source": [
    "def accuracy(predicted,labels):\n",
    "    pred, predclassid=torch.max(predicted,dim=1)\n",
    "    return torch.tensor(torch.sum(predclassid==labels).item()/len(predicted))\n",
    "\n",
    "\n",
    "def evaluate(model1,dl,loss_func):\n",
    "    model1.eval()\n",
    "    batch_losses, batch_accs=[],[]\n",
    "    for images,labels in valid_dl:\n",
    "        #start loop\n",
    "        with torch.no_grad():\n",
    "            predicted=model1(images)\n",
    "        batch_losses.append(loss_func(predicted,labels))\n",
    "        batch_accs.append(accuracy(predicted,labels))\n",
    "    epoch_avg_loss=torch.stack(batch_losses).mean().item()\n",
    "    epoch_avg_acc=torch.stack(batch_accs).mean().item()\n",
    "    return epoch_avg_loss,epoch_avg_acc\n",
    "\n",
    "def train(model1,train_dl,valid_dl,epochs, max_lr, loss_func,optim):\n",
    "    \n",
    "    # Normal optimizer\n",
    "    #optimizer=optim(model1.parameters(), max_lr)\n",
    "    \n",
    "    # Applying L2 Regularization\n",
    "    #optimizer=optim(model1.parameters(), max_lr,weight_decay=1e-5)\n",
    "    \n",
    "    # For SGD\n",
    "    optimizer=optim(model1.parameters(), max_lr, momentum=0.9,weight_decay=1e-5)\n",
    "    \n",
    "    '''\n",
    "    Learning Rate Scheduler\n",
    "    '''\n",
    "    scheduler=torch.optim.lr_scheduler.OneCycleLR(optimizer, max_lr,epochs*len(train_dl))\n",
    "#     scheduler=torch.optim.lr_scheduler.CosineAnnealingLR(optimizer,T_max=5,verbose=True)\n",
    "#     scheduler=torch.optim.lr_scheduler.ExponentialLR(optimizer,  gamma=0.9)\n",
    "    \n",
    "    results=[]\n",
    "    for epoch in range(epochs):\n",
    "        model1.train()\n",
    "        train_losses=[]\n",
    "        train_batch_accs=[]\n",
    "        lrs=[]\n",
    "\n",
    "        for images, labels in train_dl:\n",
    "            predicted=model1(images)\n",
    "            loss=loss_func(predicted,labels)\n",
    "            train_losses.append(loss)\n",
    "            loss.backward()\n",
    "            optimizer.step()\n",
    "            optimizer.zero_grad()\n",
    "            \n",
    "          # keep track of learning rate\n",
    "            lrs.append(optimizer.param_groups[0]['lr'])\n",
    "            train_batch_accs.append(accuracy(predicted,labels))\n",
    "    \n",
    "        scheduler.step()\n",
    "        epoch_train_acc=torch.stack(train_batch_accs).mean().item()\n",
    "        epoch_train_loss=torch.stack(train_losses).mean().item()\n",
    "        epoch_avg_loss,epoch_avg_acc=evaluate(model1,valid_dl,loss_func)\n",
    "        \n",
    "        results.append({'avg_valid_loss': epoch_avg_loss,\n",
    "                        'avg_val_acc': epoch_avg_acc,\n",
    "                        'avg_train_loss':epoch_train_loss,\n",
    "                        'avg_train_acc':epoch_train_acc,\n",
    "                        'lrs':lrs})\n",
    "        \n",
    "        print('Number of epochs:', epoch,'|', \n",
    "              'Validation loss :',epoch_avg_loss, ' |','Training loss :'\n",
    "              ,epoch_train_loss,' |  '\n",
    "              ,'Training accuracy:', epoch_train_acc\n",
    "              , 'validation accuracy :',epoch_avg_acc)\n",
    "    return results\n",
    "\n",
    "\n",
    "model1=move_device(model1,device)\n",
    "epochs = 5\n",
    "\n",
    "'''\n",
    "Learning Rates\n",
    "'''\n",
    "max_lr1 = 1e-1\n",
    "max_lr2 = 1e-2\n",
    "max_lr3 = 1e-3\n",
    "max_lr4 = 1e-4\n",
    "\n",
    "loss_func=nn.functional.cross_entropy\n",
    "\n",
    "'''\n",
    "Optimizers\n",
    "'''\n",
    "#optim=torch.optim.Adam\n",
    "optim=torch.optim.SGD\n",
    "\n",
    "'''\n",
    "Train function call\n",
    "'''\n",
    "results1= train(model1,train_dl,valid_dl,epochs, max_lr1, loss_func,optim)\n",
    "results2= train(model1,train_dl,valid_dl,epochs, max_lr2, loss_func,optim)\n",
    "results3= train(model1,train_dl,valid_dl,epochs, max_lr3, loss_func,optim)\n",
    "results4= train(model1,train_dl,valid_dl,epochs, max_lr4, loss_func,optim)"
   ]
  },
  {
   "cell_type": "markdown",
   "metadata": {},
   "source": [
    "# EXPECTED (40%)\n",
    "####  Results and visualization"
   ]
  },
  {
   "cell_type": "code",
   "execution_count": 75,
   "metadata": {
    "execution": {
     "iopub.execute_input": "2021-11-30T01:45:35.611122Z",
     "iopub.status.busy": "2021-11-30T01:45:35.610688Z",
     "iopub.status.idle": "2021-11-30T01:45:35.630227Z",
     "shell.execute_reply": "2021-11-30T01:45:35.629524Z",
     "shell.execute_reply.started": "2021-11-30T01:45:35.611079Z"
    }
   },
   "outputs": [],
   "source": [
    "'''\n",
    "Training Accuracy\n",
    "'''\n",
    "avg_training_accuracy1=[]\n",
    "for result in results1:\n",
    "    avg_training_accuracy1.append(result['avg_train_acc'])\n",
    "\n",
    "avg_training_accuracy2=[]\n",
    "for result in results2:\n",
    "    avg_training_accuracy2.append(result['avg_train_acc'])\n",
    "    \n",
    "avg_training_accuracy3=[]\n",
    "for result in results3:\n",
    "    avg_training_accuracy3.append(result['avg_train_acc'])\n",
    "    \n",
    "avg_training_accuracy4=[]\n",
    "for result in results4:\n",
    "    avg_training_accuracy4.append(result['avg_train_acc'])\n",
    "    \n",
    "\n",
    "'''\n",
    "Validation Accuracy\n",
    "'''\n",
    "avg_validation_accuracy1=[]\n",
    "for result in results1:\n",
    "    avg_validation_accuracy1.append(result['avg_val_acc'])\n",
    "avg_validation_accuracy2=[]\n",
    "for result in results2:\n",
    "    avg_validation_accuracy2.append(result['avg_val_acc'])\n",
    "avg_validation_accuracy3=[]\n",
    "for result in results3:\n",
    "    avg_validation_accuracy3.append(result['avg_val_acc'])\n",
    "avg_validation_accuracy4=[]\n",
    "for result in results4:\n",
    "    avg_validation_accuracy4.append(result['avg_val_acc'])\n",
    "\n",
    "'''\n",
    "Validation Loss\n",
    "'''\n",
    "avg_validation_loss1=[]\n",
    "for result in results1:\n",
    "    avg_validation_loss1.append(result['avg_valid_loss'])\n",
    "    \n",
    "avg_validation_loss2=[]\n",
    "for result in results2:\n",
    "    avg_validation_loss2.append(result['avg_valid_loss'])\n",
    "    \n",
    "avg_validation_loss3=[]\n",
    "for result in results3:\n",
    "    avg_validation_loss3.append(result['avg_valid_loss'])\n",
    "    \n",
    "avg_validation_loss4=[]\n",
    "for result in results4:\n",
    "    avg_validation_loss4.append(result['avg_valid_loss'])\n",
    "\n",
    "\n",
    "'''\n",
    "Training Loss\n",
    "'''\n",
    "avg_training_loss1=[]\n",
    "for result in results1:\n",
    "    avg_training_loss1.append(result['avg_train_loss'])\n",
    "\n",
    "avg_training_loss2=[]\n",
    "for result in results2:\n",
    "    avg_training_loss2.append(result['avg_train_loss'])\n",
    "    \n",
    "avg_training_loss3=[]\n",
    "for result in results3:\n",
    "    avg_training_loss3.append(result['avg_train_loss'])\n",
    "\n",
    "avg_training_loss4=[]\n",
    "for result in results4:\n",
    "    avg_training_loss4.append(result['avg_train_loss'])\n",
    "\n",
    "'''\n",
    "Epochs count\n",
    "'''\n",
    "epoch_count=[]\n",
    "for i in range(epochs):\n",
    "    epoch_count.append(i)"
   ]
  },
  {
   "cell_type": "markdown",
   "metadata": {},
   "source": [
    "# BASIC (40%)\n",
    "#### Find Max Learning Rate using Graph for Validation Loss/ epoch for Different Learning Rates"
   ]
  },
  {
   "cell_type": "code",
   "execution_count": 76,
   "metadata": {
    "execution": {
     "iopub.execute_input": "2021-11-30T01:45:53.321002Z",
     "iopub.status.busy": "2021-11-30T01:45:53.320750Z",
     "iopub.status.idle": "2021-11-30T01:45:53.551073Z",
     "shell.execute_reply": "2021-11-30T01:45:53.550422Z",
     "shell.execute_reply.started": "2021-11-30T01:45:53.320975Z"
    }
   },
   "outputs": [
    {
     "data": {
      "image/png": "[encoded data removed]",
      "text/plain": [
       "<Figure size 720x504 with 1 Axes>"
      ]
     },
     "metadata": {
      "needs_background": "light"
     },
     "output_type": "display_data"
    }
   ],
   "source": [
    "figure(figsize=(10,7))\n",
    "plt.plot(epoch_count,avg_validation_loss1, 'b', label = \"lr1\",linewidth = '1')\n",
    "plt.plot(epoch_count,avg_validation_loss2, 'g', label = \"lr2\", linewidth = '1')\n",
    "plt.plot(epoch_count,avg_validation_loss3, 'r', label = \"lr3\", linewidth = '1')\n",
    "plt.plot(epoch_count,avg_validation_loss4, 'y', label = \"lr4\", linewidth = '1')\n",
    "plt.title(\"Validation Loss per epoch\",fontsize=20)\n",
    "plt.xlabel(\"epochs\",fontsize=20)  \n",
    "plt.ylabel(\"val loss\",fontsize=20)\n",
    "plt.legend(fontsize=20)\n",
    "plt.show()"
   ]
  },
  {
   "cell_type": "markdown",
   "metadata": {},
   "source": [
    "#### Graph for Training Loss/epoch for Different Learning Rates"
   ]
  },
  {
   "cell_type": "code",
   "execution_count": 77,
   "metadata": {
    "execution": {
     "iopub.execute_input": "2021-11-30T01:45:55.727866Z",
     "iopub.status.busy": "2021-11-30T01:45:55.727146Z",
     "iopub.status.idle": "2021-11-30T01:45:55.962275Z",
     "shell.execute_reply": "2021-11-30T01:45:55.961555Z",
     "shell.execute_reply.started": "2021-11-30T01:45:55.727827Z"
    }
   },
   "outputs": [
    {
     "data": {
      "image/png": "[encoded data removed]",
      "text/plain": [
       "<Figure size 720x504 with 1 Axes>"
      ]
     },
     "metadata": {
      "needs_background": "light"
     },
     "output_type": "display_data"
    }
   ],
   "source": [
    "figure(figsize=(10,7))\n",
    "plt.plot(epoch_count,avg_training_loss1, 'b', label = \"lr1\",linewidth = '1')\n",
    "plt.plot(epoch_count,avg_training_loss2, 'g', label = \"lr2\", linewidth = '1')\n",
    "plt.plot(epoch_count,avg_training_loss3, 'r', label = \"lr3\", linewidth = '1')\n",
    "plt.plot(epoch_count,avg_training_loss4, 'y', label = \"lr4\", linewidth = '1')\n",
    "plt.title(\"Training Loss per epoch\",fontsize=20)\n",
    "plt.xlabel(\"epochs\",fontsize=20)  \n",
    "plt.ylabel(\"Train loss\",fontsize=20)\n",
    "plt.legend(fontsize=20)\n",
    "plt.show()"
   ]
  },
  {
   "cell_type": "markdown",
   "metadata": {},
   "source": [
    "#### Graph for Accuracy per epoch"
   ]
  },
  {
   "cell_type": "code",
   "execution_count": 78,
   "metadata": {
    "execution": {
     "iopub.execute_input": "2021-11-30T01:46:03.296696Z",
     "iopub.status.busy": "2021-11-30T01:46:03.295919Z",
     "iopub.status.idle": "2021-11-30T01:46:03.525789Z",
     "shell.execute_reply": "2021-11-30T01:46:03.525141Z",
     "shell.execute_reply.started": "2021-11-30T01:46:03.296652Z"
    }
   },
   "outputs": [
    {
     "data": {
      "image/png": "[encoded data removed]",
      "text/plain": [
       "<Figure size 720x576 with 1 Axes>"
      ]
     },
     "metadata": {
      "needs_background": "light"
     },
     "output_type": "display_data"
    }
   ],
   "source": [
    "figure(figsize=(10,8))\n",
    "plt.plot(epoch_count,avg_training_accuracy1, 'blue', label = \"Training\", linewidth = '1')\n",
    "plt.plot(epoch_count,avg_validation_accuracy1, 'green', label = \"Validation\", linewidth = '1')\n",
    "plt.title(\"Accuracy per epoch\",fontsize=20)\n",
    "plt.xlabel(\"Number of Epochs\",fontsize=20)  \n",
    "plt.ylabel(\"Accuracy \",fontsize=20)\n",
    "plt.legend(fontsize=15)\n",
    "plt.show()"
   ]
  },
  {
   "cell_type": "markdown",
   "metadata": {},
   "source": [
    "#### Test Accuracy"
   ]
  },
  {
   "cell_type": "code",
   "execution_count": 80,
   "metadata": {
    "execution": {
     "iopub.execute_input": "2021-11-30T01:47:48.369129Z",
     "iopub.status.busy": "2021-11-30T01:47:48.368500Z",
     "iopub.status.idle": "2021-11-30T01:48:55.369141Z",
     "shell.execute_reply": "2021-11-30T01:48:55.368314Z",
     "shell.execute_reply.started": "2021-11-30T01:47:48.369095Z"
    }
   },
   "outputs": [
    {
     "name": "stdout",
     "output_type": "stream",
     "text": [
      "Test Accuracy without Data Augmentation and Dropout :  0.2836461663246155\n"
     ]
    }
   ],
   "source": [
    "def accuracy(predicted,labels):\n",
    "    pred, predclassid=torch.max(predicted,dim=1)\n",
    "    return torch.tensor(torch.sum(predclassid==labels).item()/len(predicted))\n",
    "\n",
    "def evaluate(model1,dl,loss_func):\n",
    "    model1.eval()\n",
    "    batch_losses, batch_accs=[],[]\n",
    "    for images,labels in valid_dl:\n",
    "        with torch.no_grad():\n",
    "            predicted=model1(images)\n",
    "        batch_losses.append(loss_func(predicted,labels))\n",
    "        batch_accs.append(accuracy(predicted,labels))\n",
    "    epoch_avg_loss=torch.stack(batch_losses).mean().item()\n",
    "    epoch_avg_acc=torch.stack(batch_accs).mean().item()\n",
    "    return epoch_avg_loss,epoch_avg_acc\n",
    "\n",
    "def train(model1,train_dl,valid_dl,epochs, max_lr, loss_func,optim):  \n",
    "    optimizer=optim(model1.parameters(), max_lr)\n",
    "    scheduler=torch.optim.lr_scheduler.OneCycleLR(optimizer, max_lr,epochs*len(train_dl))    \n",
    "    results=[]\n",
    "    for epoch in range(epochs):\n",
    "        model1.train()\n",
    "        train_losses=[]\n",
    "        train_batch_accs=[]\n",
    "        lrs=[]\n",
    "        for images, labels in train_dl:\n",
    "            predicted=model1(images)\n",
    "            loss=loss_func(predicted,labels)\n",
    "            train_losses.append(loss)\n",
    "            loss.backward()\n",
    "            optimizer.step()\n",
    "            optimizer.zero_grad()\n",
    "            lrs.append(optimizer.param_groups[0]['lr'])\n",
    "            train_batch_accs.append(accuracy(predicted,labels))\n",
    "        scheduler.step()\n",
    "        epoch_train_acc=torch.stack(train_batch_accs).mean().item()\n",
    "        epoch_train_loss=torch.stack(train_losses).mean().item()\n",
    "        epoch_avg_loss,epoch_avg_acc=evaluate(model1,valid_dl,loss_func)\n",
    "        results.append({'avg_valid_loss': epoch_avg_loss,\n",
    "                        'avg_val_acc': epoch_avg_acc,\n",
    "                        'avg_train_loss':epoch_train_loss,\n",
    "                        'avg_train_acc':epoch_train_acc,\n",
    "                        'lrs':lrs})\n",
    "    return results\n",
    "\n",
    "model1=move_device(model1,device)\n",
    "epochs = 5\n",
    "max_lr = 1e-1\n",
    "loss_func=nn.functional.cross_entropy\n",
    "optim=torch.optim.SGD\n",
    "results= train(model1,train_dl,valid_dl,epochs, max_lr, loss_func,optim)\n",
    "\n",
    "_,test_acc=evaluate(model1, test_dl, loss_func)\n",
    "print('Test Accuracy without Data Augmentation and Dropout : ', test_acc)"
   ]
  },
  {
   "cell_type": "markdown",
   "metadata": {},
   "source": [
    "# Expected (40%)\n",
    "#### CNN With Data Augmentation and Regularization "
   ]
  },
  {
   "cell_type": "code",
   "execution_count": 35,
   "metadata": {
    "execution": {
     "iopub.execute_input": "2021-11-30T00:36:19.852877Z",
     "iopub.status.busy": "2021-11-30T00:36:19.852585Z",
     "iopub.status.idle": "2021-11-30T00:36:19.873662Z",
     "shell.execute_reply": "2021-11-30T00:36:19.872783Z",
     "shell.execute_reply.started": "2021-11-30T00:36:19.852844Z"
    }
   },
   "outputs": [
    {
     "name": "stdout",
     "output_type": "stream",
     "text": [
      "convnet_dropout(\n",
      "  (conv_layer_1): Sequential(\n",
      "    (0): Conv2d(3, 16, kernel_size=(3, 3), stride=(1, 1), padding=(1, 1))\n",
      "    (1): ReLU()\n",
      "    (2): MaxPool2d(kernel_size=2, stride=2, padding=0, dilation=1, ceil_mode=False)\n",
      "  )\n",
      "  (conv_layer_2): Sequential(\n",
      "    (0): Conv2d(16, 32, kernel_size=(3, 3), stride=(1, 1), padding=(1, 1))\n",
      "    (1): ReLU()\n",
      "    (2): MaxPool2d(kernel_size=2, stride=2, padding=0, dilation=1, ceil_mode=False)\n",
      "  )\n",
      "  (conv_layer_3): Sequential(\n",
      "    (0): Conv2d(32, 64, kernel_size=(3, 3), stride=(1, 1), padding=(1, 1))\n",
      "    (1): ReLU()\n",
      "    (2): MaxPool2d(kernel_size=2, stride=2, padding=0, dilation=1, ceil_mode=False)\n",
      "  )\n",
      "  (conv_layer_4): Sequential(\n",
      "    (0): Conv2d(64, 128, kernel_size=(3, 3), stride=(1, 1), padding=(1, 1))\n",
      "    (1): ReLU()\n",
      "    (2): MaxPool2d(kernel_size=2, stride=2, padding=0, dilation=1, ceil_mode=False)\n",
      "  )\n",
      "  (hidden_layer): Linear(in_features=512, out_features=206, bias=True)\n",
      "  (dropout_layer): Dropout(p=0.25, inplace=False)\n",
      "  (output_layer): Linear(in_features=206, out_features=100, bias=True)\n",
      ")\n"
     ]
    }
   ],
   "source": [
    "class convnet_dropout(nn.Module):\n",
    "    # Constructor\n",
    "    def __init__(self):\n",
    "        super(convnet_dropout, self).__init__()\n",
    "        '''\n",
    "         Convolutional layers\n",
    "         Conv2d (input channels, output channels, kernel_size, padding) \n",
    "\n",
    "        Each Sequential layer has :\n",
    "              1. A Convolutional Layer\n",
    "              2. Relu activation function\n",
    "              3. Maxpool layer\n",
    "        '''\n",
    "\n",
    "        self.conv_layer_1 = torch.nn.Sequential(\n",
    "            # Convoolutional layer\n",
    "            nn.Conv2d(in_channels=3, out_channels=16,kernel_size= 3,stride=1, padding=1),\n",
    "            \n",
    "            # Activation function\n",
    "            nn.ReLU(),\n",
    "\n",
    "            # Max pooling layer\n",
    "            torch.nn.MaxPool2d(kernel_size=2)\n",
    "        )\n",
    "        \n",
    "        self.conv_layer_2 = torch.nn.Sequential(\n",
    "            nn.Conv2d(in_channels=16, out_channels=32,kernel_size= 3,stride=1, padding=1),\n",
    "            nn.ReLU(),\n",
    "            torch.nn.MaxPool2d(kernel_size=2)\n",
    "        )\n",
    "\n",
    "\n",
    "        self.conv_layer_3 = torch.nn.Sequential(\n",
    "            nn.Conv2d(in_channels=32, out_channels=64,kernel_size= 3,stride=1, padding=1),\n",
    "            nn.ReLU(),\n",
    "            torch.nn.MaxPool2d(kernel_size=2)\n",
    "        )\n",
    "        \n",
    "        self.conv_layer_4 = torch.nn.Sequential(\n",
    "            nn.Conv2d(in_channels=64, out_channels=128,kernel_size= 3,stride=1, padding=1),\n",
    "            nn.ReLU(),\n",
    "            torch.nn.MaxPool2d(kernel_size=2)\n",
    "        )\n",
    "    \n",
    "        \n",
    "        # Fully Connected layers\n",
    "        self.hidden_layer = nn.Linear(128*2*2, 206)\n",
    "        self.dropout_layer=nn.Dropout(p=0.25)\n",
    "        self.output_layer = nn.Linear(206, 100)\n",
    "        \n",
    "    def forward(self, ip):\n",
    "\n",
    "        # Calling all the convolutional layers\n",
    "        output = self.conv_layer_1(ip)\n",
    "        output = self.conv_layer_2(output)\n",
    "        output = self.conv_layer_3(output)\n",
    "        output = self.conv_layer_4(output)\n",
    "        \n",
    "        # Flattening \n",
    "        output = output.view(-1, 128*2*2)\n",
    "        \n",
    "        # Call fully connected layer\n",
    "        output = self.hidden_layer(output)\n",
    "        output=self.output_layer(output)\n",
    "   \n",
    "        return output\n",
    "\n",
    "model1 = convnet_dropout()\n",
    "print(model1)\n"
   ]
  },
  {
   "cell_type": "markdown",
   "metadata": {},
   "source": [
    "#### Training"
   ]
  },
  {
   "cell_type": "code",
   "execution_count": 36,
   "metadata": {
    "execution": {
     "iopub.execute_input": "2021-11-30T00:36:32.632059Z",
     "iopub.status.busy": "2021-11-30T00:36:32.631749Z",
     "iopub.status.idle": "2021-11-30T00:54:15.540891Z",
     "shell.execute_reply": "2021-11-30T00:54:15.529515Z",
     "shell.execute_reply.started": "2021-11-30T00:36:32.632026Z"
    }
   },
   "outputs": [
    {
     "name": "stdout",
     "output_type": "stream",
     "text": [
      "Files already downloaded and verified\n",
      "Files already downloaded and verified\n",
      "40000\n",
      "10000\n",
      "Number of epochs: 0 | Validation loss : 3.7693183422088623  | Training loss : 4.159159183502197  |   Training accuracy: 0.06377500295639038 validation accuracy : 0.10603035241365433\n",
      "Number of epochs: 1 | Validation loss : 3.3568718433380127  | Training loss : 3.5079357624053955  |   Training accuracy: 0.16304999589920044 validation accuracy : 0.18390575051307678\n",
      "Number of epochs: 2 | Validation loss : 3.122643232345581  | Training loss : 3.171964406967163  |   Training accuracy: 0.22417500615119934 validation accuracy : 0.23132987320423126\n",
      "Number of epochs: 3 | Validation loss : 2.957852602005005  | Training loss : 2.936441421508789  |   Training accuracy: 0.26797500252723694 validation accuracy : 0.26357826590538025\n",
      "Number of epochs: 4 | Validation loss : 2.840482473373413  | Training loss : 2.793203353881836  |   Training accuracy: 0.2946999967098236 validation accuracy : 0.2835463285446167\n",
      "Number of epochs: 5 | Validation loss : 2.7756245136260986  | Training loss : 2.6990363597869873  |   Training accuracy: 0.3151499927043915 validation accuracy : 0.3005191683769226\n",
      "Number of epochs: 6 | Validation loss : 2.819013833999634  | Training loss : 2.6215906143188477  |   Training accuracy: 0.3332250118255615 validation accuracy : 0.2973242700099945\n",
      "Number of epochs: 7 | Validation loss : 2.7358217239379883  | Training loss : 2.552323341369629  |   Training accuracy: 0.34619998931884766 validation accuracy : 0.31140175461769104\n",
      "Number of epochs: 8 | Validation loss : 2.6891462802886963  | Training loss : 2.515052556991577  |   Training accuracy: 0.35269999504089355 validation accuracy : 0.32458066940307617\n",
      "Number of epochs: 9 | Validation loss : 2.7537150382995605  | Training loss : 2.485516309738159  |   Training accuracy: 0.3597249984741211 validation accuracy : 0.31649360060691833\n",
      "Number of epochs: 10 | Validation loss : 2.685201644897461  | Training loss : 2.449528455734253  |   Training accuracy: 0.36660000681877136 validation accuracy : 0.3336661458015442\n",
      "Number of epochs: 11 | Validation loss : 2.674238681793213  | Training loss : 2.446969509124756  |   Training accuracy: 0.3659000098705292 validation accuracy : 0.33256790041923523\n",
      "Number of epochs: 12 | Validation loss : 2.671337604522705  | Training loss : 2.423522710800171  |   Training accuracy: 0.374099999666214 validation accuracy : 0.3254792392253876\n",
      "Number of epochs: 13 | Validation loss : 2.6981301307678223  | Training loss : 2.398252487182617  |   Training accuracy: 0.3778750002384186 validation accuracy : 0.32827475666999817\n",
      "Number of epochs: 14 | Validation loss : 2.6930630207061768  | Training loss : 2.3987319469451904  |   Training accuracy: 0.37927499413490295 validation accuracy : 0.3299720585346222\n",
      "Number of epochs: 15 | Validation loss : 2.805645227432251  | Training loss : 2.365201950073242  |   Training accuracy: 0.3852750062942505 validation accuracy : 0.3193889856338501\n",
      "Number of epochs: 16 | Validation loss : 2.7186524868011475  | Training loss : 2.361514091491699  |   Training accuracy: 0.38792499899864197 validation accuracy : 0.3254792392253876\n",
      "Number of epochs: 17 | Validation loss : 2.6989266872406006  | Training loss : 2.3584377765655518  |   Training accuracy: 0.38519999384880066 validation accuracy : 0.33196884393692017\n",
      "Number of epochs: 18 | Validation loss : 2.637993335723877  | Training loss : 2.3438494205474854  |   Training accuracy: 0.3892250061035156 validation accuracy : 0.34494808316230774\n",
      "Number of epochs: 19 | Validation loss : 2.721400499343872  | Training loss : 2.3173201084136963  |   Training accuracy: 0.39340001344680786 validation accuracy : 0.3336661458015442\n",
      "Number of epochs: 20 | Validation loss : 2.6980016231536865  | Training loss : 2.3316848278045654  |   Training accuracy: 0.39352500438690186 validation accuracy : 0.3322683572769165\n",
      "Number of epochs: 21 | Validation loss : 2.800424337387085  | Training loss : 2.315033197402954  |   Training accuracy: 0.3941499888896942 validation accuracy : 0.3197883367538452\n",
      "Number of epochs: 22 | Validation loss : 2.7021710872650146  | Training loss : 2.300365447998047  |   Training accuracy: 0.3997499942779541 validation accuracy : 0.3249800205230713\n",
      "Number of epochs: 23 | Validation loss : 2.7660574913024902  | Training loss : 2.301682710647583  |   Training accuracy: 0.4006749987602234 validation accuracy : 0.3216853141784668\n",
      "Number of epochs: 24 | Validation loss : 2.7022247314453125  | Training loss : 2.299553871154785  |   Training accuracy: 0.39937499165534973 validation accuracy : 0.3386581540107727\n",
      "Number of epochs: 25 | Validation loss : 2.724776268005371  | Training loss : 2.291980028152466  |   Training accuracy: 0.40127500891685486 validation accuracy : 0.33716055750846863\n",
      "Number of epochs: 26 | Validation loss : 2.810432195663452  | Training loss : 2.300743579864502  |   Training accuracy: 0.39959999918937683 validation accuracy : 0.32527956366539\n",
      "Number of epochs: 27 | Validation loss : 2.7782552242279053  | Training loss : 2.301201105117798  |   Training accuracy: 0.40117499232292175 validation accuracy : 0.32707667350769043\n",
      "Number of epochs: 28 | Validation loss : 2.6837525367736816  | Training loss : 2.286313533782959  |   Training accuracy: 0.404574990272522 validation accuracy : 0.336361825466156\n",
      "Number of epochs: 29 | Validation loss : 2.717226982116699  | Training loss : 2.2554142475128174  |   Training accuracy: 0.41075000166893005 validation accuracy : 0.33286741375923157\n",
      "Number of epochs: 30 | Validation loss : 2.748525857925415  | Training loss : 2.261131763458252  |   Training accuracy: 0.40814998745918274 validation accuracy : 0.3295726776123047\n",
      "Number of epochs: 31 | Validation loss : 2.7238285541534424  | Training loss : 2.261889696121216  |   Training accuracy: 0.4108250141143799 validation accuracy : 0.3401557505130768\n",
      "Number of epochs: 32 | Validation loss : 2.7039060592651367  | Training loss : 2.275730848312378  |   Training accuracy: 0.4069499969482422 validation accuracy : 0.3385583162307739\n",
      "Number of epochs: 33 | Validation loss : 2.703531265258789  | Training loss : 2.2738139629364014  |   Training accuracy: 0.40654999017715454 validation accuracy : 0.3378594219684601\n",
      "Number of epochs: 34 | Validation loss : 2.7133641242980957  | Training loss : 2.2880775928497314  |   Training accuracy: 0.4047999978065491 validation accuracy : 0.34175318479537964\n",
      "Number of epochs: 35 | Validation loss : 2.691956043243408  | Training loss : 2.261436700820923  |   Training accuracy: 0.40959998965263367 validation accuracy : 0.3432508111000061\n",
      "Number of epochs: 36 | Validation loss : 2.701960563659668  | Training loss : 2.2527074813842773  |   Training accuracy: 0.41032499074935913 validation accuracy : 0.3378594219684601\n",
      "Number of epochs: 37 | Validation loss : 2.668109655380249  | Training loss : 2.2580924034118652  |   Training accuracy: 0.41225001215934753 validation accuracy : 0.3464456796646118\n",
      "Number of epochs: 38 | Validation loss : 2.7574174404144287  | Training loss : 2.2617788314819336  |   Training accuracy: 0.41052499413490295 validation accuracy : 0.32507985830307007\n",
      "Number of epochs: 39 | Validation loss : 2.7682979106903076  | Training loss : 2.254671096801758  |   Training accuracy: 0.41110000014305115 validation accuracy : 0.33755990862846375\n"
     ]
    }
   ],
   "source": [
    "transform=transforms.Compose([transforms.RandomCrop(32, padding=4,padding_mode='reflect'), \n",
    "                              transforms.ToTensor(),  # Convert images to Tensor ( Channel X Height X Width)\n",
    "                                transforms.Normalize((0.4911, 0.4820, 0.4467),(0.2022, 0.1993, 0.2009)) \n",
    "                             ])\n",
    "\n",
    "# Download training data\n",
    "train = torchvision.datasets.CIFAR100(root='./data',train=True,download=True,transform=transform)\n",
    "\n",
    "\n",
    "# Download test data                             \n",
    "test = torchvision.datasets.CIFAR100(root='./data',train=False,download=True)\n",
    "\n",
    "\n",
    "\n",
    "from torch.utils.data.dataloader import DataLoader\n",
    " \n",
    " # Define validation ratio \n",
    "validation_ratio= 0.2\n",
    "batch_size = 32\n",
    "\n",
    "# split training data in train and validation set\n",
    "train_data,validation_data=torch.utils.data.random_split(train,[int((1-validation_ratio)*len(train)), \n",
    "                                              int((validation_ratio)*len(train))])\n",
    "\n",
    "print(len(train_data))\n",
    "print(len(validation_data))\n",
    "\n",
    "train_loader = DataLoader(train_data, batch_size,pin_memory=True)\n",
    "val_loader = DataLoader(validation_data, batch_size,pin_memory=True)\n",
    "test_loader = torch.utils.data.DataLoader(test,batch_size=100,shuffle=False,pin_memory=True)\n",
    "                                          \n",
    "                                          \n",
    "# Check if your system has cuda gpu or only cpu\n",
    "\n",
    "def check_device():\n",
    "    if torch.cuda.is_available:\n",
    "        return torch.device('cuda')\n",
    "    else:\n",
    "        return torch.device('cpu')\n",
    "\n",
    "# Function to transfer from CPU to GPU\n",
    "def move_device(tensor, device):\n",
    "    \n",
    "    # Move all individual tensors from cpu to gpu\n",
    "    if isinstance(tensor, (list,tuple)):\n",
    "        return [move_device(element, device) for element in tensor]\n",
    "    return tensor.to(device, non_blocking=True) \n",
    "\n",
    "# Execute transfer from CPU to GPU for each device\n",
    "class DeviceDataLoader():\n",
    "    \n",
    "    # Define Constructor\n",
    "    def __init__(self, dataloader, device):\n",
    "        self.dl = dataloader\n",
    "        self.device = device\n",
    "        \n",
    "    def __iter__(self):\n",
    "        \n",
    "       # Transfer each batch and return\n",
    "        for i in self.dl: \n",
    "            yield move_device(i, self.device)\n",
    "\n",
    "    def __len__(self):\n",
    "        \n",
    "        # Return the number of batches\n",
    "        return len(self.dl)\n",
    "\n",
    "\n",
    "device = check_device()\n",
    "\n",
    "# Move all the tensors to GPU\n",
    "train_dl = DeviceDataLoader(train_loader, device)\n",
    "valid_dl = DeviceDataLoader(val_loader, device)\n",
    "test_dl = DeviceDataLoader(test_loader, device)\n",
    "\n",
    "\n",
    "def accuracy(predicted,labels):\n",
    "    pred, predclassid=torch.max(predicted,dim=1)\n",
    "    return torch.tensor(torch.sum(predclassid==labels).item()/len(predicted))\n",
    "\n",
    "\n",
    "def evaluate(model1,dl,loss_func):\n",
    "    model1.eval()\n",
    "    batch_losses, batch_accs=[],[]\n",
    "    for images,labels in valid_dl:\n",
    "        #start loop\n",
    "        with torch.no_grad():\n",
    "            predicted=model1(images)\n",
    "        batch_losses.append(loss_func(predicted,labels))\n",
    "        batch_accs.append(accuracy(predicted,labels))\n",
    "    epoch_avg_loss=torch.stack(batch_losses).mean().item()\n",
    "    epoch_avg_acc=torch.stack(batch_accs).mean().item()\n",
    "    return epoch_avg_loss,epoch_avg_acc\n",
    "\n",
    "def train(model1,train_dl,valid_dl,epochs, max_lr, loss_func,optim):\n",
    "    \n",
    "    # Normal optimizer\n",
    "#     optimizer=optim(model1.parameters(), max_lr)\n",
    "    \n",
    "    # Applying L2 Regularization\n",
    "    optimizer=optim(model1.parameters(), max_lr,weight_decay=1e-5)\n",
    "    \n",
    "    # For SGD\n",
    "    #optimizer=optim(model1.parameters(), max_lr, momentum=0.9,weight_decay=1e-5)\n",
    "    \n",
    "    '''\n",
    "    Learning Rate Scheduler\n",
    "    '''\n",
    "    scheduler=torch.optim.lr_scheduler.OneCycleLR(optimizer, max_lr,epochs*len(train_dl))\n",
    "#     scheduler=torch.optim.lr_scheduler.CosineAnnealingLR(optimizer,T_max=5,verbose=True)\n",
    "#     #scheduler=torch.optim.lr_scheduler.ExponentialLR(optimizer,  gamma=0.9)\n",
    "    \n",
    "    results=[]\n",
    "    for epoch in range(epochs):\n",
    "        model1.train()\n",
    "        train_losses=[]\n",
    "        train_batch_accs=[]\n",
    "        lrs=[]\n",
    "\n",
    "        for images, labels in train_dl:\n",
    "            predicted=model1(images)\n",
    "            loss=loss_func(predicted,labels)\n",
    "            train_losses.append(loss)\n",
    "            loss.backward()\n",
    "            optimizer.step()\n",
    "            optimizer.zero_grad()\n",
    "            \n",
    "          # keep track of learning rate\n",
    "            lrs.append(optimizer.param_groups[0]['lr'])\n",
    "            train_batch_accs.append(accuracy(predicted,labels))\n",
    "    \n",
    "        scheduler.step()\n",
    "        epoch_train_acc=torch.stack(train_batch_accs).mean().item()\n",
    "        epoch_train_loss=torch.stack(train_losses).mean().item()\n",
    "        epoch_avg_loss,epoch_avg_acc=evaluate(model1,valid_dl,loss_func)\n",
    "        \n",
    "        results.append({'avg_valid_loss': epoch_avg_loss,\n",
    "                        'avg_val_acc': epoch_avg_acc,\n",
    "                        'avg_train_loss':epoch_train_loss,\n",
    "                        'avg_train_acc':epoch_train_acc,\n",
    "                        'lrs':lrs})\n",
    "        \n",
    "        print('Number of epochs:', epoch,'|', \n",
    "              'Validation loss :',epoch_avg_loss, ' |','Training loss :'\n",
    "              ,epoch_train_loss,' |  '\n",
    "              ,'Training accuracy:', epoch_train_acc\n",
    "              , 'validation accuracy :',epoch_avg_acc)\n",
    "    return results\n",
    "\n",
    "\n",
    "model1=move_device(model1,device)\n",
    "epochs = 40\n",
    "\n",
    "'''\n",
    "Learning Rates\n",
    "'''\n",
    "max_lr1 = 1e-1\n",
    "\n",
    "\n",
    "loss_func=nn.functional.cross_entropy\n",
    "\n",
    "'''\n",
    "Optimizers\n",
    "'''\n",
    "#optim=torch.optim.Adam\n",
    "optim=torch.optim.SGD\n",
    "\n",
    "'''\n",
    "Train function call\n",
    "'''\n",
    "results1= train(model1,train_dl,valid_dl,epochs, max_lr1, loss_func,optim)"
   ]
  },
  {
   "cell_type": "markdown",
   "metadata": {},
   "source": [
    "### EXPECTED (40%)\n",
    "#### Visualizations"
   ]
  },
  {
   "cell_type": "code",
   "execution_count": 37,
   "metadata": {
    "execution": {
     "iopub.execute_input": "2021-11-30T00:54:15.542506Z",
     "iopub.status.busy": "2021-11-30T00:54:15.542286Z",
     "iopub.status.idle": "2021-11-30T00:54:15.581715Z",
     "shell.execute_reply": "2021-11-30T00:54:15.580763Z",
     "shell.execute_reply.started": "2021-11-30T00:54:15.542477Z"
    }
   },
   "outputs": [],
   "source": [
    "'''\n",
    "Training Accuracy\n",
    "'''\n",
    "avg_training_accuracy1=[]\n",
    "for result in results1:\n",
    "    avg_training_accuracy1.append(result['avg_train_acc']*100)\n",
    "\n",
    "avg_training_accuracy2=[]\n",
    "for result in results2:\n",
    "    avg_training_accuracy2.append(result['avg_train_acc']*100)\n",
    "    \n",
    "avg_training_accuracy3=[]\n",
    "for result in results3:\n",
    "    avg_training_accuracy3.append(result['avg_train_acc']*100)\n",
    "    \n",
    "avg_training_accuracy4=[]\n",
    "for result in results4:\n",
    "    avg_training_accuracy4.append(result['avg_train_acc']*100)\n",
    "    \n",
    "\n",
    "'''\n",
    "Validation Accuracy\n",
    "'''\n",
    "avg_validation_accuracy1=[]\n",
    "for result in results1:\n",
    "    avg_validation_accuracy1.append(result['avg_val_acc']*100)\n",
    "avg_validation_accuracy2=[]\n",
    "for result in results2:\n",
    "    avg_validation_accuracy2.append(result['avg_val_acc']*100)\n",
    "avg_validation_accuracy3=[]\n",
    "for result in results3:\n",
    "    avg_validation_accuracy3.append(result['avg_val_acc']*100)\n",
    "avg_validation_accuracy4=[]\n",
    "for result in results4:\n",
    "    avg_validation_accuracy4.append(result['avg_val_acc']*100)\n",
    "\n",
    "'''\n",
    "Validation Loss\n",
    "'''\n",
    "avg_validation_loss1=[]\n",
    "for result in results1:\n",
    "    avg_validation_loss1.append(result['avg_valid_loss'])\n",
    "    \n",
    "avg_validation_loss2=[]\n",
    "for result in results2:\n",
    "    avg_validation_loss2.append(result['avg_valid_loss'])\n",
    "    \n",
    "avg_validation_loss3=[]\n",
    "for result in results3:\n",
    "    avg_validation_loss3.append(result['avg_valid_loss'])\n",
    "    \n",
    "avg_validation_loss4=[]\n",
    "for result in results4:\n",
    "    avg_validation_loss4.append(result['avg_valid_loss'])\n",
    "\n",
    "\n",
    "'''\n",
    "Training Loss\n",
    "'''\n",
    "avg_training_loss1=[]\n",
    "for result in results1:\n",
    "    avg_training_loss1.append(result['avg_train_loss'])\n",
    "\n",
    "avg_training_loss2=[]\n",
    "for result in results2:\n",
    "    avg_training_loss2.append(result['avg_train_loss'])\n",
    "    \n",
    "avg_training_loss3=[]\n",
    "for result in results3:\n",
    "    avg_training_loss3.append(result['avg_train_loss'])\n",
    "\n",
    "avg_training_loss4=[]\n",
    "for result in results4:\n",
    "    avg_training_loss4.append(result['avg_train_loss'])\n",
    "\n",
    "'''\n",
    "Epochs count\n",
    "'''\n",
    "epoch_count=[]\n",
    "for i in range(epochs):\n",
    "    epoch_count.append(i)"
   ]
  },
  {
   "cell_type": "markdown",
   "metadata": {},
   "source": [
    "# ADVANCED (20%)\n",
    "#### Results : Accuracy vs Epochs"
   ]
  },
  {
   "cell_type": "code",
   "execution_count": 38,
   "metadata": {
    "execution": {
     "iopub.execute_input": "2021-11-30T00:54:18.307605Z",
     "iopub.status.busy": "2021-11-30T00:54:18.307349Z",
     "iopub.status.idle": "2021-11-30T00:54:18.549292Z",
     "shell.execute_reply": "2021-11-30T00:54:18.548646Z",
     "shell.execute_reply.started": "2021-11-30T00:54:18.307575Z"
    }
   },
   "outputs": [
    {
     "data": {
      "image/png": "[encoded data removed]",
      "text/plain": [
       "<Figure size 720x576 with 1 Axes>"
      ]
     },
     "metadata": {
      "needs_background": "light"
     },
     "output_type": "display_data"
    }
   ],
   "source": [
    "from matplotlib.pyplot import figure\n",
    "import matplotlib.pyplot as plt\n",
    "import matplotlib.colors as colors\n",
    "\n",
    "figure(figsize=(10,8))\n",
    "plt.plot(epoch_count,avg_training_accuracy1, 'b-', label = \"Training\", linewidth = '2.5',markersize=8)\n",
    "plt.plot(epoch_count,avg_validation_accuracy1, 'green', label = \"Validation\", linewidth = '2.5',markersize=8)\n",
    "plt.title(\"Accuracy per epoch\",fontsize=20)\n",
    "plt.xlabel(\"Number of Epochs\",fontsize=20)  \n",
    "plt.ylabel(\"Accuracy ( In %)\",fontsize=20)\n",
    "\n",
    "plt.legend(fontsize=15)\n",
    "plt.show()"
   ]
  },
  {
   "cell_type": "markdown",
   "metadata": {},
   "source": [
    "#### Test Accuracy with Data Augmentation and Dropout"
   ]
  },
  {
   "cell_type": "code",
   "execution_count": 39,
   "metadata": {
    "execution": {
     "iopub.execute_input": "2021-11-30T00:54:29.350587Z",
     "iopub.status.busy": "2021-11-30T00:54:29.350293Z",
     "iopub.status.idle": "2021-11-30T00:54:33.980991Z",
     "shell.execute_reply": "2021-11-30T00:54:33.980269Z",
     "shell.execute_reply.started": "2021-11-30T00:54:29.350556Z"
    }
   },
   "outputs": [
    {
     "name": "stdout",
     "output_type": "stream",
     "text": [
      "Test Accuracy :  33.42651724815369  %\n"
     ]
    }
   ],
   "source": [
    "model2=convnet_dropout()\n",
    "_,test_acc=evaluate(model1, test_dl, loss_func)\n",
    "print('Test Accuracy : ', test_acc*100,' %')\n"
   ]
  },
  {
   "cell_type": "code",
   "execution_count": null,
   "metadata": {},
   "outputs": [],
   "source": []
  }
 ],
 "metadata": {
  "kernelspec": {
   "display_name": "Python 3",
   "language": "python",
   "name": "python3"
  },
  "language_info": {
   "codemirror_mode": {
    "name": "ipython",
    "version": 3
   },
   "file_extension": ".py",
   "mimetype": "text/x-python",
   "name": "python",
   "nbconvert_exporter": "python",
   "pygments_lexer": "ipython3",
   "version": "3.7.4"
  }
 },
 "nbformat": 4,
 "nbformat_minor": 4
}
