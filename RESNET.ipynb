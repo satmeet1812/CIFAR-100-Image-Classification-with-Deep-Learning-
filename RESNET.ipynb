{
 "cells": [
  {
   "cell_type": "markdown",
   "metadata": {
    "id": "jhJmVW8XC1wv"
   },
   "source": [
    "# EXPECTED (40%)\n",
    "## A custom RESNET"
   ]
  },
  {
   "cell_type": "code",
   "execution_count": 4,
   "metadata": {
    "id": "YvMuXqEfWPnS"
   },
   "outputs": [],
   "source": [
    "import torch\n",
    "import torch.nn as nn\n",
    "import torch.nn.functional as F\n",
    "import torch.optim as optim\n",
    "\n",
    "# For loading popular data sets\n",
    "import torchvision\n",
    "import torchvision.transforms as transforms\n",
    "\n",
    "import matplotlib.pyplot as plt\n",
    "from matplotlib.pyplot import figure\n",
    "import matplotlib.pyplot as plt\n",
    "import matplotlib.colors as colors\n",
    "import numpy as np\n",
    "\n",
    "from torch.utils.data.dataloader import DataLoader"
   ]
  },
  {
   "cell_type": "markdown",
   "metadata": {
    "id": "FBUaLCMKfo_u"
   },
   "source": [
    "##### Load without Data Augmentation"
   ]
  },
  {
   "cell_type": "code",
   "execution_count": 5,
   "metadata": {
    "colab": {
     "base_uri": "https://localhost:8080/",
     "height": 136,
     "referenced_widgets": [
      "8c8ceff981294623add76cc82485f378",
      "75c3e88e87234c9091e888ad3aa16809",
      "1d058a63c98a4cc9b4d68e03a2b42585",
      "a1a22a37423c4c31a77ecbc8c9877a07",
      "3645e59d9a164128834307647d96e781",
      "60ab0df6da8d4bddb3b70f6d0d182693",
      "967900431bd64e9faf4dd4af325cf4ba",
      "5b4090613f114e25b9aebaf73e2c06fc",
      "2df18f089a464f92af1133200f5b30a0",
      "f97ddc556a9a4fa3a26f405d11cfdb57",
      "0eedc2742d7342c2b036534538fdb25d"
     ]
    },
    "id": "DhOlcJtKWRmK",
    "outputId": "7c00716d-3b7c-4e41-b19c-c59b169ef154"
   },
   "outputs": [
    {
     "name": "stdout",
     "output_type": "stream",
     "text": [
      "Downloading https://www.cs.toronto.edu/~kriz/cifar-100-python.tar.gz to ./data/cifar-100-python.tar.gz\n"
     ]
    },
    {
     "data": {
      "application/vnd.jupyter.widget-view+json": {
       "model_id": "8c8ceff981294623add76cc82485f378",
       "version_major": 2,
       "version_minor": 0
      },
      "text/plain": [
       "  0%|          | 0/169001437 [00:00<?, ?it/s]"
      ]
     },
     "metadata": {},
     "output_type": "display_data"
    },
    {
     "name": "stdout",
     "output_type": "stream",
     "text": [
      "Extracting ./data/cifar-100-python.tar.gz to ./data\n",
      "Files already downloaded and verified\n",
      "40000\n",
      "10000\n"
     ]
    }
   ],
   "source": [
    "'''\n",
    "Normalization - Channel wise mean and standard deviation of the image\n",
    "'''\n",
    "\n",
    "# Convert images to Tensor ( Channel X Height X Width)\n",
    "transform=transforms.Compose([transforms.ToTensor()]) \n",
    "                            \n",
    "\n",
    "# Download training data\n",
    "train=torchvision.datasets.CIFAR100(root='./data',train=True,download=True,transform=transform)\n",
    "\n",
    "# Download test data                             \n",
    "test = torchvision.datasets.CIFAR100(root='./data',train=False,download=True,transform=transform)\n",
    "\n",
    "# Define validation ratio \n",
    "validation_ratio= 0.2\n",
    "batch_size = 64\n",
    "train_data,validation_data=torch.utils.data.random_split(train,[int((1-validation_ratio)*len(train)), int((validation_ratio)*len(train))])\n",
    "print(len(train_data))\n",
    "print(len(validation_data))\n",
    "\n",
    "train_loader = DataLoader(train_data, batch_size,pin_memory=True)\n",
    "val_loader = DataLoader(validation_data, batch_size,pin_memory=True)\n",
    "test_loader = torch.utils.data.DataLoader(test,batch_size=100,shuffle=False,pin_memory=True)"
   ]
  },
  {
   "cell_type": "markdown",
   "metadata": {
    "id": "qEp5hkH0oo2I"
   },
   "source": [
    "##### Move device to GPU"
   ]
  },
  {
   "cell_type": "code",
   "execution_count": 6,
   "metadata": {
    "id": "M1R6UN4HorUb"
   },
   "outputs": [],
   "source": [
    "# Check if your system has cuda gpu or only cpu\n",
    "\n",
    "def check_device():\n",
    "    if torch.cuda.is_available:\n",
    "        return torch.device('cuda')\n",
    "    else:\n",
    "        return torch.device('cpu')\n",
    "\n",
    "# Function to transfer from CPU to GPU\n",
    "def move_device(tensor, device):\n",
    "    \n",
    "    # Move all individual tensors from cpu to gpu\n",
    "    if isinstance(tensor, (list,tuple)):\n",
    "        return [move_device(element, device) for element in tensor]\n",
    "    return tensor.to(device, non_blocking=True) \n",
    "\n",
    "# Execute transfer from CPU to GPU for each device\n",
    "class DeviceDataLoader():\n",
    "    \n",
    "    # Define Constructor\n",
    "    def __init__(self, dataloader, device):\n",
    "        self.dl = dataloader\n",
    "        self.device = device\n",
    "        \n",
    "    def __iter__(self):\n",
    "        \n",
    "       # Transfer each batch and return\n",
    "        for i in self.dl: \n",
    "            yield move_device(i, self.device)\n",
    "\n",
    "    def __len__(self):\n",
    "        \n",
    "        # Return the number of batches\n",
    "        return len(self.dl)\n",
    "\n",
    "\n",
    "device = check_device()\n",
    "\n",
    "# Move all the tensors to GPU\n",
    "train_dl = DeviceDataLoader(train_loader, device)\n",
    "valid_dl = DeviceDataLoader(val_loader, device)\n",
    "test_dl = DeviceDataLoader(test_loader, device)"
   ]
  },
  {
   "cell_type": "markdown",
   "metadata": {
    "id": "Qjd0FecT6cHc"
   },
   "source": [
    "###### Custom ResNet Architecture"
   ]
  },
  {
   "cell_type": "code",
   "execution_count": 5,
   "metadata": {
    "colab": {
     "base_uri": "https://localhost:8080/"
    },
    "id": "QMfObHbZ6beN",
    "outputId": "8e86ac56-6ca1-4dfa-cfdb-604918569ab0"
   },
   "outputs": [
    {
     "name": "stdout",
     "output_type": "stream",
     "text": [
      "custom_ResNet(\n",
      "  (conv_layer_1): Sequential(\n",
      "    (0): Conv2d(3, 64, kernel_size=(3, 3), stride=(1, 1), padding=(1, 1))\n",
      "    (1): BatchNorm2d(64, eps=1e-05, momentum=0.1, affine=True, track_running_stats=True)\n",
      "    (2): ReLU()\n",
      "  )\n",
      "  (conv_layer_2): Sequential(\n",
      "    (0): Conv2d(64, 128, kernel_size=(3, 3), stride=(1, 1), padding=(1, 1))\n",
      "    (1): BatchNorm2d(128, eps=1e-05, momentum=0.1, affine=True, track_running_stats=True)\n",
      "    (2): ReLU()\n",
      "    (3): MaxPool2d(kernel_size=2, stride=2, padding=0, dilation=1, ceil_mode=False)\n",
      "  )\n",
      "  (res_layer1): Sequential(\n",
      "    (0): Conv2d(128, 128, kernel_size=(3, 3), stride=(1, 1), padding=(1, 1))\n",
      "    (1): BatchNorm2d(128, eps=1e-05, momentum=0.1, affine=True, track_running_stats=True)\n",
      "    (2): ReLU()\n",
      "    (3): Conv2d(128, 128, kernel_size=(3, 3), stride=(1, 1), padding=(1, 1))\n",
      "    (4): BatchNorm2d(128, eps=1e-05, momentum=0.1, affine=True, track_running_stats=True)\n",
      "    (5): ReLU()\n",
      "  )\n",
      "  (conv_layer_3): Sequential(\n",
      "    (0): Conv2d(128, 256, kernel_size=(3, 3), stride=(1, 1), padding=(1, 1))\n",
      "    (1): BatchNorm2d(256, eps=1e-05, momentum=0.1, affine=True, track_running_stats=True)\n",
      "    (2): ReLU()\n",
      "    (3): MaxPool2d(kernel_size=2, stride=2, padding=0, dilation=1, ceil_mode=False)\n",
      "  )\n",
      "  (conv_layer_4): Sequential(\n",
      "    (0): Conv2d(256, 512, kernel_size=(3, 3), stride=(1, 1), padding=(1, 1))\n",
      "    (1): BatchNorm2d(512, eps=1e-05, momentum=0.1, affine=True, track_running_stats=True)\n",
      "    (2): ReLU()\n",
      "    (3): MaxPool2d(kernel_size=2, stride=2, padding=0, dilation=1, ceil_mode=False)\n",
      "  )\n",
      "  (res_layer2): Sequential(\n",
      "    (0): Conv2d(512, 512, kernel_size=(3, 3), stride=(1, 1), padding=(1, 1))\n",
      "    (1): BatchNorm2d(512, eps=1e-05, momentum=0.1, affine=True, track_running_stats=True)\n",
      "    (2): ReLU()\n",
      "    (3): Conv2d(512, 512, kernel_size=(3, 3), stride=(1, 1), padding=(1, 1))\n",
      "    (4): BatchNorm2d(512, eps=1e-05, momentum=0.1, affine=True, track_running_stats=True)\n",
      "    (5): ReLU()\n",
      "  )\n",
      "  (classifier): Sequential(\n",
      "    (0): MaxPool2d(kernel_size=2, stride=2, padding=0, dilation=1, ceil_mode=False)\n",
      "    (1): Flatten(start_dim=1, end_dim=-1)\n",
      "    (2): Linear(in_features=2048, out_features=100, bias=True)\n",
      "  )\n",
      ")\n"
     ]
    }
   ],
   "source": [
    "class custom_ResNet(nn.Module):\n",
    "  def __init__(self,input_channel, num_classes):\n",
    "    super().__init__()\n",
    "\n",
    "    self.conv_layer_1 = torch.nn.Sequential(\n",
    "            nn.Conv2d(in_channels=3, out_channels=64,kernel_size= 3,stride=1, padding=1),\n",
    "            nn.BatchNorm2d(64),\n",
    "            nn.ReLU(),\n",
    "        )\n",
    "    self.conv_layer_2 = torch.nn.Sequential(\n",
    "            nn.Conv2d(in_channels=64, out_channels=128,kernel_size=3,stride=1, padding=1),\n",
    "            nn.BatchNorm2d(128),\n",
    "            nn.ReLU(),\n",
    "            torch.nn.MaxPool2d(kernel_size=2)\n",
    "        )\n",
    "    \n",
    "    self.res_layer1 = torch.nn.Sequential(\n",
    "            nn.Conv2d(in_channels=128, out_channels=128,kernel_size=3,stride=1, padding=1),\n",
    "            nn.BatchNorm2d(128),\n",
    "            nn.ReLU(),\n",
    "            nn.Conv2d(in_channels=128, out_channels=128,kernel_size=3,stride=1, padding=1),\n",
    "            nn.BatchNorm2d(128),\n",
    "            nn.ReLU(), \n",
    "        )\n",
    "    \n",
    "    self.conv_layer_3 = torch.nn.Sequential(\n",
    "            nn.Conv2d(in_channels=128, out_channels=256,kernel_size=3,stride=1, padding=1),\n",
    "            nn.BatchNorm2d(256),\n",
    "            nn.ReLU(),\n",
    "            torch.nn.MaxPool2d(kernel_size=2)\n",
    "        )\n",
    "    \n",
    "    self.conv_layer_4 = torch.nn.Sequential(\n",
    "            nn.Conv2d(in_channels=256, out_channels=512,kernel_size=3,stride=1, padding=1),\n",
    "            nn.BatchNorm2d(512),\n",
    "            nn.ReLU(),\n",
    "            torch.nn.MaxPool2d(kernel_size=2)\n",
    "        )\n",
    "    \n",
    "    self.res_layer2 = torch.nn.Sequential(\n",
    "            nn.Conv2d(in_channels=512, out_channels=512,kernel_size=3,stride=1, padding=1),\n",
    "            nn.BatchNorm2d(512),\n",
    "            nn.ReLU(),\n",
    "            nn.Conv2d(in_channels=512, out_channels=512,kernel_size=3,stride=1, padding=1),\n",
    "            nn.BatchNorm2d(512),\n",
    "            nn.ReLU(), \n",
    "        )\n",
    "    self.classifier = nn.Sequential(nn.MaxPool2d(2), \n",
    "                                    nn.Flatten(), \n",
    "                                    nn.Linear(512*2*2, num_classes))\n",
    "\n",
    "  def forward(self, xb):\n",
    "        out = self.conv_layer_1(xb)\n",
    "        out = self.conv_layer_2(out)\n",
    "        out = self.res_layer1(out) + out\n",
    "        out = self.conv_layer_3(out)\n",
    "        out = self.conv_layer_4(out)\n",
    "        out = self.res_layer2(out) + out\n",
    "        out = self.classifier(out)\n",
    "        return out\n",
    "\n",
    "model=custom_ResNet(3,100)\n",
    "print(model)"
   ]
  },
  {
   "cell_type": "markdown",
   "metadata": {
    "id": "5_z1Zv5lrV5E"
   },
   "source": [
    "##### Training"
   ]
  },
  {
   "cell_type": "code",
   "execution_count": 9,
   "metadata": {
    "colab": {
     "base_uri": "https://localhost:8080/"
    },
    "id": "kObPK_e_rZ-k",
    "outputId": "0f441489-821d-4633-f0d1-994129fa75ef"
   },
   "outputs": [
    {
     "name": "stdout",
     "output_type": "stream",
     "text": [
      "Adjusting learning rate of group 0 to 1.0000e-01.\n",
      "Adjusting learning rate of group 0 to 9.0451e-02.\n",
      "Number of epochs: 0 | Validation loss : 3.585869073867798  | Training loss : 3.6891467571258545  |   Training accuracy: 0.1304749995470047 validation accuracy : 0.16620223224163055\n",
      "Adjusting learning rate of group 0 to 6.5451e-02.\n",
      "Number of epochs: 1 | Validation loss : 3.1567494869232178  | Training loss : 3.1001322269439697  |   Training accuracy: 0.23407499492168427 validation accuracy : 0.2447253167629242\n",
      "Adjusting learning rate of group 0 to 3.4549e-02.\n",
      "Number of epochs: 2 | Validation loss : 2.691833972930908  | Training loss : 2.5806643962860107  |   Training accuracy: 0.33922499418258667 validation accuracy : 0.32016322016716003\n",
      "Adjusting learning rate of group 0 to 9.5492e-03.\n",
      "Number of epochs: 3 | Validation loss : 2.382085084915161  | Training loss : 2.0880346298217773  |   Training accuracy: 0.447299987077713 validation accuracy : 0.3905254900455475\n",
      "Adjusting learning rate of group 0 to 0.0000e+00.\n",
      "Number of epochs: 4 | Validation loss : 2.141857385635376  | Training loss : 1.671291708946228  |   Training accuracy: 0.5479750037193298 validation accuracy : 0.44735270738601685\n",
      "Adjusting learning rate of group 0 to 9.5492e-03.\n",
      "Number of epochs: 5 | Validation loss : 2.0969603061676025  | Training loss : 1.5359559059143066  |   Training accuracy: 0.5803999900817871 validation accuracy : 0.45680731534957886\n",
      "Adjusting learning rate of group 0 to 3.4549e-02.\n",
      "Number of epochs: 6 | Validation loss : 2.1255850791931152  | Training loss : 1.5089224576950073  |   Training accuracy: 0.5903499722480774 validation accuracy : 0.4553144872188568\n",
      "Adjusting learning rate of group 0 to 6.5451e-02.\n",
      "Number of epochs: 7 | Validation loss : 2.31904935836792  | Training loss : 1.701501488685608  |   Training accuracy: 0.5337499976158142 validation accuracy : 0.42028263211250305\n",
      "Adjusting learning rate of group 0 to 9.0451e-02.\n",
      "Number of epochs: 8 | Validation loss : 2.4068708419799805  | Training loss : 1.7407087087631226  |   Training accuracy: 0.521049976348877 validation accuracy : 0.40266719460487366\n",
      "Adjusting learning rate of group 0 to 1.0000e-01.\n",
      "Number of epochs: 9 | Validation loss : 2.4864754676818848  | Training loss : 1.535573959350586  |   Training accuracy: 0.572700023651123 validation accuracy : 0.41301751136779785\n",
      "Adjusting learning rate of group 0 to 1.0000e-02.\n",
      "Adjusting learning rate of group 0 to 9.0451e-03.\n",
      "Number of epochs: 0 | Validation loss : 1.8544304370880127  | Training loss : 0.7845197916030884  |   Training accuracy: 0.7820000052452087 validation accuracy : 0.540207028388977\n",
      "Adjusting learning rate of group 0 to 6.5451e-03.\n",
      "Number of epochs: 1 | Validation loss : 1.8322879076004028  | Training loss : 0.5390940308570862  |   Training accuracy: 0.8635500073432922 validation accuracy : 0.5450835824012756\n",
      "Adjusting learning rate of group 0 to 3.4549e-03.\n",
      "Number of epochs: 2 | Validation loss : 1.8284873962402344  | Training loss : 0.402696818113327  |   Training accuracy: 0.9141499996185303 validation accuracy : 0.5476711988449097\n",
      "Adjusting learning rate of group 0 to 9.5492e-04.\n",
      "Number of epochs: 3 | Validation loss : 1.8227754831314087  | Training loss : 0.32358965277671814  |   Training accuracy: 0.9425749778747559 validation accuracy : 0.5524482727050781\n",
      "Adjusting learning rate of group 0 to 0.0000e+00.\n",
      "Number of epochs: 4 | Validation loss : 1.820753574371338  | Training loss : 0.2861107289791107  |   Training accuracy: 0.9542499780654907 validation accuracy : 0.5549362897872925\n",
      "Adjusting learning rate of group 0 to 9.5492e-04.\n",
      "Number of epochs: 5 | Validation loss : 1.8209660053253174  | Training loss : 0.2740066945552826  |   Training accuracy: 0.9574499726295471 validation accuracy : 0.5550358295440674\n",
      "Adjusting learning rate of group 0 to 3.4549e-03.\n",
      "Number of epochs: 6 | Validation loss : 1.821519374847412  | Training loss : 0.2749149203300476  |   Training accuracy: 0.9583749771118164 validation accuracy : 0.5560310482978821\n",
      "Adjusting learning rate of group 0 to 6.5451e-03.\n",
      "Number of epochs: 7 | Validation loss : 1.8279714584350586  | Training loss : 0.26912909746170044  |   Training accuracy: 0.9604499936103821 validation accuracy : 0.5555334687232971\n",
      "Adjusting learning rate of group 0 to 9.0451e-03.\n",
      "Number of epochs: 8 | Validation loss : 1.8410375118255615  | Training loss : 0.24677719175815582  |   Training accuracy: 0.9664499759674072 validation accuracy : 0.5507563948631287\n",
      "Adjusting learning rate of group 0 to 1.0000e-02.\n",
      "Number of epochs: 9 | Validation loss : 1.8584562540054321  | Training loss : 0.20671406388282776  |   Training accuracy: 0.9772999882698059 validation accuracy : 0.5531449317932129\n",
      "Adjusting learning rate of group 0 to 1.0000e-03.\n",
      "Adjusting learning rate of group 0 to 9.0451e-04.\n",
      "Number of epochs: 0 | Validation loss : 1.8511962890625  | Training loss : 0.1573496311903  |   Training accuracy: 0.9881500005722046 validation accuracy : 0.5588176846504211\n",
      "Adjusting learning rate of group 0 to 6.5451e-04.\n",
      "Number of epochs: 1 | Validation loss : 1.853040337562561  | Training loss : 0.14785555005073547  |   Training accuracy: 0.9905250072479248 validation accuracy : 0.5599124431610107\n",
      "Adjusting learning rate of group 0 to 3.4549e-04.\n",
      "Number of epochs: 2 | Validation loss : 1.854537844657898  | Training loss : 0.14269083738327026  |   Training accuracy: 0.991474986076355 validation accuracy : 0.559414803981781\n",
      "Adjusting learning rate of group 0 to 9.5492e-05.\n",
      "Number of epochs: 3 | Validation loss : 1.8553465604782104  | Training loss : 0.139185830950737  |   Training accuracy: 0.9922500252723694 validation accuracy : 0.5590167045593262\n",
      "Adjusting learning rate of group 0 to 0.0000e+00.\n",
      "Number of epochs: 4 | Validation loss : 1.8555516004562378  | Training loss : 0.13716286420822144  |   Training accuracy: 0.9928249716758728 validation accuracy : 0.5593152642250061\n",
      "Adjusting learning rate of group 0 to 9.5492e-05.\n",
      "Number of epochs: 5 | Validation loss : 1.8555916547775269  | Training loss : 0.13651098310947418  |   Training accuracy: 0.9928249716758728 validation accuracy : 0.559215784072876\n",
      "Adjusting learning rate of group 0 to 3.4549e-04.\n",
      "Number of epochs: 6 | Validation loss : 1.8557249307632446  | Training loss : 0.13666637241840363  |   Training accuracy: 0.9927999973297119 validation accuracy : 0.5590167045593262\n",
      "Adjusting learning rate of group 0 to 6.5451e-04.\n",
      "Number of epochs: 7 | Validation loss : 1.856405258178711  | Training loss : 0.13654521107673645  |   Training accuracy: 0.9927250146865845 validation accuracy : 0.5591162443161011\n",
      "Adjusting learning rate of group 0 to 9.0451e-04.\n",
      "Number of epochs: 8 | Validation loss : 1.8574522733688354  | Training loss : 0.13536161184310913  |   Training accuracy: 0.992775022983551 validation accuracy : 0.5591162443161011\n",
      "Adjusting learning rate of group 0 to 1.0000e-03.\n",
      "Number of epochs: 9 | Validation loss : 1.8589649200439453  | Training loss : 0.13293762505054474  |   Training accuracy: 0.9932000041007996 validation accuracy : 0.559215784072876\n",
      "Adjusting learning rate of group 0 to 1.0000e-04.\n",
      "Adjusting learning rate of group 0 to 9.0451e-05.\n",
      "Number of epochs: 0 | Validation loss : 1.8593796491622925  | Training loss : 0.12890248000621796  |   Training accuracy: 0.9939749836921692 validation accuracy : 0.5587181448936462\n",
      "Adjusting learning rate of group 0 to 6.5451e-05.\n",
      "Number of epochs: 1 | Validation loss : 1.8596181869506836  | Training loss : 0.12832148373126984  |   Training accuracy: 0.9941250085830688 validation accuracy : 0.5587181448936462\n",
      "Adjusting learning rate of group 0 to 3.4549e-05.\n",
      "Number of epochs: 2 | Validation loss : 1.8597968816757202  | Training loss : 0.1278499811887741  |   Training accuracy: 0.9941999912261963 validation accuracy : 0.5586186051368713\n",
      "Adjusting learning rate of group 0 to 9.5492e-06.\n",
      "Number of epochs: 3 | Validation loss : 1.8598936796188354  | Training loss : 0.12750649452209473  |   Training accuracy: 0.994225025177002 validation accuracy : 0.5588176846504211\n",
      "Adjusting learning rate of group 0 to 0.0000e+00.\n",
      "Number of epochs: 4 | Validation loss : 1.8599272966384888  | Training loss : 0.12731227278709412  |   Training accuracy: 0.9942499995231628 validation accuracy : 0.5587181448936462\n",
      "Adjusting learning rate of group 0 to 9.5492e-06.\n",
      "Number of epochs: 5 | Validation loss : 1.8599320650100708  | Training loss : 0.1272539347410202  |   Training accuracy: 0.9943000078201294 validation accuracy : 0.5587181448936462\n",
      "Adjusting learning rate of group 0 to 3.4549e-05.\n",
      "Number of epochs: 6 | Validation loss : 1.8599474430084229  | Training loss : 0.12727093696594238  |   Training accuracy: 0.9942749738693237 validation accuracy : 0.5587181448936462\n",
      "Adjusting learning rate of group 0 to 6.5451e-05.\n",
      "Number of epochs: 7 | Validation loss : 1.8600174188613892  | Training loss : 0.12727367877960205  |   Training accuracy: 0.9942499995231628 validation accuracy : 0.5588176846504211\n",
      "Adjusting learning rate of group 0 to 9.0451e-05.\n",
      "Number of epochs: 8 | Validation loss : 1.8601715564727783  | Training loss : 0.12718285620212555  |   Training accuracy: 0.9943000078201294 validation accuracy : 0.5588176846504211\n",
      "Adjusting learning rate of group 0 to 1.0000e-04.\n",
      "Number of epochs: 9 | Validation loss : 1.860390305519104  | Training loss : 0.12696261703968048  |   Training accuracy: 0.9943249821662903 validation accuracy : 0.5587181448936462\n"
     ]
    }
   ],
   "source": [
    "def accuracy(predicted,labels):\n",
    "    predictions, id=torch.max(predicted,dim=1)\n",
    "    return torch.tensor(torch.sum(id==labels).item()/len(predicted))\n",
    "\n",
    "# For validation\n",
    "def evaluate(model,dl,loss_func):\n",
    "    model.eval()\n",
    "    loss_per_batch, accuracy_per_batch=[],[]\n",
    "    for images,labels in valid_dl:\n",
    "        #start loop\n",
    "        with torch.no_grad():\n",
    "            predicted=model(images)\n",
    "        loss_per_batch.append(loss_func(predicted,labels))\n",
    "        accuracy_per_batch.append(accuracy(predicted,labels))\n",
    "    val_loss_epoch=torch.stack(loss_per_batch).mean().item()\n",
    "    val_accuracy_epoch=torch.stack(accuracy_per_batch).mean().item()\n",
    "    return val_loss_epoch,val_accuracy_epoch\n",
    "\n",
    "def train(model,train_dl,valid_dl,epochs, max_lr, loss_func,optim):\n",
    "    \n",
    "    # Normal optimizer\n",
    "    #optimizer=optim(model.parameters(), max_lr)\n",
    "    \n",
    "    # Applying L2 Regularization\n",
    "    optimizer=optim(model.parameters(), max_lr,weight_decay=1e-5)\n",
    "    \n",
    "    # For SGD\n",
    "    # optimizer=optim(model.parameters(), max_lr, momentum=0.9,weight_decay=1e-5)\n",
    "    \n",
    "    '''\n",
    "    Learning Rate Scheduler\n",
    "    '''\n",
    "    #scheduler=torch.optim.lr_scheduler.OneCycleLR(optimizer, max_lr,epochs*len(train_dl))\n",
    "    scheduler=torch.optim.lr_scheduler.CosineAnnealingLR(optimizer,T_max=5,verbose=True)\n",
    "    #scheduler=torch.optim.lr_scheduler.ExponentialLR(optimizer,  gamma=0.9)\n",
    "    \n",
    "    results=[]\n",
    "    for epoch in range(epochs):\n",
    "        model.train()\n",
    "        train_losses=[]\n",
    "        train_accuracy_per_batch=[]\n",
    "        lrs=[]\n",
    "\n",
    "        for images, labels in train_dl:\n",
    "            predicted=model(images)\n",
    "            loss=loss_func(predicted,labels)\n",
    "            train_losses.append(loss)\n",
    "            loss.backward()\n",
    "            optimizer.step()\n",
    "            optimizer.zero_grad()\n",
    "            \n",
    "          # keep track of learning rate\n",
    "            lrs.append(optimizer.param_groups[0]['lr'])\n",
    "            train_accuracy_per_batch.append(accuracy(predicted,labels))\n",
    "    \n",
    "        scheduler.step()\n",
    "        epoch_train_acc=torch.stack(train_accuracy_per_batch).mean().item()\n",
    "        epoch_train_loss=torch.stack(train_losses).mean().item()\n",
    "        val_loss_epoch,val_accuracy_epoch=evaluate(model,valid_dl,loss_func)\n",
    "        \n",
    "        results.append({'avg_valid_loss': val_loss_epoch,\n",
    "                        'avg_val_acc': val_accuracy_epoch,\n",
    "                        'avg_train_loss':epoch_train_loss,\n",
    "                        'avg_train_acc':epoch_train_acc,\n",
    "                        'lrs':lrs})\n",
    "        \n",
    "        print('Number of epochs:', epoch,'|', \n",
    "              'Validation loss :',val_loss_epoch, ' |','Training loss :'\n",
    "              ,epoch_train_loss,' |  '\n",
    "              ,'Training accuracy:', epoch_train_acc\n",
    "              , 'validation accuracy :',val_accuracy_epoch)\n",
    "    return results\n",
    "\n",
    "\n",
    "model=move_device(model,device)\n",
    "epochs = 10\n",
    "\n",
    "'''\n",
    "Learning Rates\n",
    "'''\n",
    "max_lr1 = 1e-1\n",
    "max_lr2 = 1e-2\n",
    "max_lr3 = 1e-3\n",
    "max_lr4 = 1e-4\n",
    "\n",
    "loss_func=nn.functional.cross_entropy\n",
    "\n",
    "'''\n",
    "Optimizers\n",
    "'''\n",
    "#optim=torch.optim.Adam\n",
    "optim=torch.optim.SGD\n",
    "\n",
    "'''\n",
    "Train function call\n",
    "'''\n",
    "results1= train(model,train_dl,valid_dl,epochs, max_lr1, loss_func,optim)\n",
    "results2= train(model,train_dl,valid_dl,epochs, max_lr2, loss_func,optim)\n",
    "results3= train(model,train_dl,valid_dl,epochs, max_lr3, loss_func,optim)\n",
    "results4= train(model,train_dl,valid_dl,epochs, max_lr4, loss_func,optim)"
   ]
  },
  {
   "cell_type": "markdown",
   "metadata": {
    "id": "syPAWdbg6OZR"
   },
   "source": [
    "##### Results"
   ]
  },
  {
   "cell_type": "code",
   "execution_count": 10,
   "metadata": {
    "id": "4Euym7Ok6R2_"
   },
   "outputs": [],
   "source": [
    "'''\n",
    "Training Accuracy\n",
    "'''\n",
    "avg_training_accuracy1=[]\n",
    "for result in results1:\n",
    "    avg_training_accuracy1.append(result['avg_train_acc'])\n",
    "\n",
    "avg_training_accuracy2=[]\n",
    "for result in results2:\n",
    "    avg_training_accuracy2.append(result['avg_train_acc'])\n",
    "    \n",
    "avg_training_accuracy3=[]\n",
    "for result in results3:\n",
    "    avg_training_accuracy3.append(result['avg_train_acc'])\n",
    "    \n",
    "avg_training_accuracy4=[]\n",
    "for result in results4:\n",
    "    avg_training_accuracy4.append(result['avg_train_acc'])\n",
    "    \n",
    "\n",
    "'''\n",
    "Validation Accuracy\n",
    "'''\n",
    "avg_validation_accuracy1=[]\n",
    "for result in results1:\n",
    "    avg_validation_accuracy1.append(result['avg_val_acc'])\n",
    "avg_validation_accuracy2=[]\n",
    "for result in results2:\n",
    "    avg_validation_accuracy2.append(result['avg_val_acc'])\n",
    "avg_validation_accuracy3=[]\n",
    "for result in results3:\n",
    "    avg_validation_accuracy3.append(result['avg_val_acc'])\n",
    "avg_validation_accuracy4=[]\n",
    "for result in results4:\n",
    "    avg_validation_accuracy4.append(result['avg_val_acc'])\n",
    "\n",
    "'''\n",
    "Validation Loss\n",
    "'''\n",
    "avg_validation_loss1=[]\n",
    "for result in results1:\n",
    "    avg_validation_loss1.append(result['avg_valid_loss'])\n",
    "    \n",
    "avg_validation_loss2=[]\n",
    "for result in results2:\n",
    "    avg_validation_loss2.append(result['avg_valid_loss'])\n",
    "    \n",
    "avg_validation_loss3=[]\n",
    "for result in results3:\n",
    "    avg_validation_loss3.append(result['avg_valid_loss'])\n",
    "    \n",
    "avg_validation_loss4=[]\n",
    "for result in results4:\n",
    "    avg_validation_loss4.append(result['avg_valid_loss'])\n",
    "\n",
    "\n",
    "'''\n",
    "Training Loss\n",
    "'''\n",
    "avg_training_loss1=[]\n",
    "for result in results1:\n",
    "    avg_training_loss1.append(result['avg_train_loss'])\n",
    "\n",
    "avg_training_loss2=[]\n",
    "for result in results2:\n",
    "    avg_training_loss2.append(result['avg_train_loss'])\n",
    "    \n",
    "avg_training_loss3=[]\n",
    "for result in results3:\n",
    "    avg_training_loss3.append(result['avg_train_loss'])\n",
    "\n",
    "avg_training_loss4=[]\n",
    "for result in results4:\n",
    "    avg_training_loss4.append(result['avg_train_loss'])\n",
    "\n",
    "'''\n",
    "Epochs count\n",
    "'''\n",
    "epoch_count=[]\n",
    "for i in range(epochs):\n",
    "  \n",
    "    epoch_count.append(i)"
   ]
  },
  {
   "cell_type": "markdown",
   "metadata": {
    "id": "SXx9Ws9iMU9R"
   },
   "source": [
    "# BASIC (40%)\n",
    "##### Find Max Learning Rate"
   ]
  },
  {
   "cell_type": "code",
   "execution_count": 27,
   "metadata": {
    "colab": {
     "base_uri": "https://localhost:8080/",
     "height": 472
    },
    "id": "yoF_0TydEu21",
    "outputId": "1f314ac7-444e-456c-f465-e36f0bb055ad"
   },
   "outputs": [
    {
     "data": {
      "image/png": "[encoded data removed]",
      "text/plain": [
       "<Figure size 648x504 with 1 Axes>"
      ]
     },
     "metadata": {
      "needs_background": "light"
     },
     "output_type": "display_data"
    }
   ],
   "source": [
    "figure(figsize=(9,7))\n",
    "plt.plot(epoch_count,avg_validation_loss1, 'b', label = \"lr1\",linewidth = '2')\n",
    "plt.plot(epoch_count,avg_validation_loss2, 'green', label = \"lr2\", linewidth = '2')\n",
    "plt.plot(epoch_count,avg_validation_loss3, 'red', label = \"lr3\", linewidth = '2')\n",
    "plt.plot(epoch_count,avg_validation_loss4, 'black', label = \"lr4\", linewidth = '2')\n",
    "plt.title(\"Validation Loss per epoch\",fontsize=20)\n",
    "plt.xlabel(\"epochs\",fontsize=20)  \n",
    "plt.ylabel(\"val loss\",fontsize=20)\n",
    "plt.legend(fontsize=20)\n",
    "plt.show()"
   ]
  },
  {
   "cell_type": "markdown",
   "metadata": {
    "id": "UV80Kw76H833"
   },
   "source": [
    "##### Graph for Training Loss/epoch for Different Learning Rates"
   ]
  },
  {
   "cell_type": "code",
   "execution_count": 29,
   "metadata": {
    "colab": {
     "base_uri": "https://localhost:8080/",
     "height": 472
    },
    "id": "SlkEq1lew5BV",
    "outputId": "dde028ac-8e47-40f4-f219-f3add4a58b85"
   },
   "outputs": [
    {
     "data": {
      "image/png": "[encoded data removed]",
      "text/plain": [
       "<Figure size 648x504 with 1 Axes>"
      ]
     },
     "metadata": {
      "needs_background": "light"
     },
     "output_type": "display_data"
    }
   ],
   "source": [
    "figure(figsize=(9,7))\n",
    "plt.plot(epoch_count,avg_training_loss1, 'b', label = \"lr1\",linewidth = '2')\n",
    "plt.plot(epoch_count,avg_training_loss2, 'g', label = \"lr2\", linewidth = '2')\n",
    "plt.plot(epoch_count,avg_training_loss3, 'r', label = \"lr3\", linewidth = '2')\n",
    "plt.plot(epoch_count,avg_training_loss4, 'black', label = \"lr4\", linewidth = '2')\n",
    "plt.title(\"Training Loss per epoch\",fontsize=20)\n",
    "plt.xlabel(\"epochs\",fontsize=20)  \n",
    "plt.ylabel(\"Train loss\",fontsize=20)\n",
    "plt.legend(fontsize=20)\n",
    "plt.show()"
   ]
  },
  {
   "cell_type": "markdown",
   "metadata": {
    "id": "Criu8r2lKp6T"
   },
   "source": [
    "##### Validation and Training Accuracy per epoch"
   ]
  },
  {
   "cell_type": "code",
   "execution_count": 21,
   "metadata": {
    "colab": {
     "base_uri": "https://localhost:8080/",
     "height": 472
    },
    "id": "rfSkZY2yKyZI",
    "outputId": "ff2e6b1e-29c7-4558-c3b9-cc0f43209da6"
   },
   "outputs": [
    {
     "data": {
      "image/png": "[encoded data removed]",
      "text/plain": [
       "<Figure size 720x504 with 1 Axes>"
      ]
     },
     "metadata": {
      "needs_background": "light"
     },
     "output_type": "display_data"
    }
   ],
   "source": [
    "figure(figsize=(10,7))\n",
    "plt.plot(epoch_count,avg_training_accuracy1, 'b-', label = \"Training\", linewidth = '2')\n",
    "plt.plot(epoch_count,avg_validation_accuracy1, 'g-', label = \"Validation\", linewidth = '2')\n",
    "plt.title(\"Accuracy per epoch\",fontsize=20)\n",
    "plt.xlabel(\"Number of Epochs\",fontsize=20)  \n",
    "plt.ylabel(\"Accuracy \",fontsize=20)\n",
    "plt.legend(fontsize=20)\n",
    "plt.show()"
   ]
  },
  {
   "cell_type": "markdown",
   "metadata": {
    "id": "yPv6ieLnLXd6"
   },
   "source": [
    "#### Testing Accuracy (without Data augmentation and Droput)"
   ]
  },
  {
   "cell_type": "code",
   "execution_count": 22,
   "metadata": {
    "colab": {
     "base_uri": "https://localhost:8080/"
    },
    "id": "8k8zTUDcX4TO",
    "outputId": "015f9d1f-6793-4880-a35e-2c0c7dc13dc4"
   },
   "outputs": [
    {
     "name": "stdout",
     "output_type": "stream",
     "text": [
      "0.5587181448936462\n"
     ]
    }
   ],
   "source": [
    "model2=custom_ResNet(3,100)\n",
    "_,test_acc=evaluate(model, test_dl, loss_func)\n",
    "print(test_acc)\n"
   ]
  },
  {
   "cell_type": "markdown",
   "metadata": {
    "id": "s9HqPMISJQni"
   },
   "source": [
    "# BASIC (40%)\n",
    "###  Try different Optimizers"
   ]
  },
  {
   "cell_type": "code",
   "execution_count": 7,
   "metadata": {
    "colab": {
     "base_uri": "https://localhost:8080/"
    },
    "id": "8Pkh1CwFWSKN",
    "outputId": "939b86f8-05a8-4338-9c5e-cb0782071702",
    "scrolled": true
   },
   "outputs": [
    {
     "name": "stdout",
     "output_type": "stream",
     "text": [
      "custom_ResNet(\n",
      "  (conv_layer_1): Sequential(\n",
      "    (0): Conv2d(3, 64, kernel_size=(3, 3), stride=(1, 1), padding=(1, 1))\n",
      "    (1): BatchNorm2d(64, eps=1e-05, momentum=0.1, affine=True, track_running_stats=True)\n",
      "    (2): ReLU()\n",
      "  )\n",
      "  (conv_layer_2): Sequential(\n",
      "    (0): Conv2d(64, 128, kernel_size=(3, 3), stride=(1, 1), padding=(1, 1))\n",
      "    (1): BatchNorm2d(128, eps=1e-05, momentum=0.1, affine=True, track_running_stats=True)\n",
      "    (2): ReLU()\n",
      "    (3): MaxPool2d(kernel_size=2, stride=2, padding=0, dilation=1, ceil_mode=False)\n",
      "  )\n",
      "  (dropout_layer): Dropout(p=0.25, inplace=False)\n",
      "  (res_layer1): Sequential(\n",
      "    (0): Conv2d(128, 128, kernel_size=(3, 3), stride=(1, 1), padding=(1, 1))\n",
      "    (1): BatchNorm2d(128, eps=1e-05, momentum=0.1, affine=True, track_running_stats=True)\n",
      "    (2): ReLU()\n",
      "    (3): Conv2d(128, 128, kernel_size=(3, 3), stride=(1, 1), padding=(1, 1))\n",
      "    (4): BatchNorm2d(128, eps=1e-05, momentum=0.1, affine=True, track_running_stats=True)\n",
      "    (5): ReLU()\n",
      "  )\n",
      "  (conv_layer_3): Sequential(\n",
      "    (0): Conv2d(128, 256, kernel_size=(3, 3), stride=(1, 1), padding=(1, 1))\n",
      "    (1): BatchNorm2d(256, eps=1e-05, momentum=0.1, affine=True, track_running_stats=True)\n",
      "    (2): ReLU()\n",
      "    (3): MaxPool2d(kernel_size=2, stride=2, padding=0, dilation=1, ceil_mode=False)\n",
      "  )\n",
      "  (conv_layer_4): Sequential(\n",
      "    (0): Conv2d(256, 512, kernel_size=(3, 3), stride=(1, 1), padding=(1, 1))\n",
      "    (1): BatchNorm2d(512, eps=1e-05, momentum=0.1, affine=True, track_running_stats=True)\n",
      "    (2): ReLU()\n",
      "    (3): MaxPool2d(kernel_size=2, stride=2, padding=0, dilation=1, ceil_mode=False)\n",
      "  )\n",
      "  (res_layer2): Sequential(\n",
      "    (0): Conv2d(512, 512, kernel_size=(3, 3), stride=(1, 1), padding=(1, 1))\n",
      "    (1): BatchNorm2d(512, eps=1e-05, momentum=0.1, affine=True, track_running_stats=True)\n",
      "    (2): ReLU()\n",
      "    (3): Conv2d(512, 512, kernel_size=(3, 3), stride=(1, 1), padding=(1, 1))\n",
      "    (4): BatchNorm2d(512, eps=1e-05, momentum=0.1, affine=True, track_running_stats=True)\n",
      "    (5): ReLU()\n",
      "  )\n",
      "  (classifier): Sequential(\n",
      "    (0): MaxPool2d(kernel_size=2, stride=2, padding=0, dilation=1, ceil_mode=False)\n",
      "    (1): Flatten(start_dim=1, end_dim=-1)\n",
      "    (2): Linear(in_features=2048, out_features=100, bias=True)\n",
      "  )\n",
      ")\n"
     ]
    }
   ],
   "source": [
    "class custom_ResNet(nn.Module):\n",
    "  def __init__(self,input_channel, num_classes):\n",
    "    super().__init__()\n",
    "\n",
    "    self.conv_layer_1 = torch.nn.Sequential(\n",
    "            nn.Conv2d(in_channels=3, out_channels=64,kernel_size= 3,stride=1, padding=1),\n",
    "            nn.BatchNorm2d(64),\n",
    "            nn.ReLU(),\n",
    "        )\n",
    "    self.conv_layer_2 = torch.nn.Sequential(\n",
    "            nn.Conv2d(in_channels=64, out_channels=128,kernel_size=3,stride=1, padding=1),\n",
    "            nn.BatchNorm2d(128),\n",
    "            nn.ReLU(),\n",
    "            torch.nn.MaxPool2d(kernel_size=2)\n",
    "        )\n",
    "    self.dropout_layer=nn.Dropout(p=0.25)\n",
    "    \n",
    "    self.res_layer1 = torch.nn.Sequential(\n",
    "            nn.Conv2d(in_channels=128, out_channels=128,kernel_size=3,stride=1, padding=1),\n",
    "            nn.BatchNorm2d(128),\n",
    "            nn.ReLU(),\n",
    "            nn.Conv2d(in_channels=128, out_channels=128,kernel_size=3,stride=1, padding=1),\n",
    "            nn.BatchNorm2d(128),\n",
    "            nn.ReLU(), \n",
    "        )\n",
    "    self.dropout_layer=nn.Dropout(p=0.25)\n",
    "    \n",
    "    self.conv_layer_3 = torch.nn.Sequential(\n",
    "            nn.Conv2d(in_channels=128, out_channels=256,kernel_size=3,stride=1, padding=1),\n",
    "            nn.BatchNorm2d(256),\n",
    "            nn.ReLU(),\n",
    "            torch.nn.MaxPool2d(kernel_size=2)\n",
    "        )\n",
    "    \n",
    "    self.conv_layer_4 = torch.nn.Sequential(\n",
    "            nn.Conv2d(in_channels=256, out_channels=512,kernel_size=3,stride=1, padding=1),\n",
    "            nn.BatchNorm2d(512),\n",
    "            nn.ReLU(),\n",
    "            torch.nn.MaxPool2d(kernel_size=2)\n",
    "        )\n",
    "    self.dropout_layer=nn.Dropout(p=0.25)\n",
    "    \n",
    "    self.res_layer2 = torch.nn.Sequential(\n",
    "            nn.Conv2d(in_channels=512, out_channels=512,kernel_size=3,stride=1, padding=1),\n",
    "            nn.BatchNorm2d(512),\n",
    "            nn.ReLU(),\n",
    "            nn.Conv2d(in_channels=512, out_channels=512,kernel_size=3,stride=1, padding=1),\n",
    "            nn.BatchNorm2d(512),\n",
    "            nn.ReLU(), \n",
    "        )\n",
    "    self.dropout_layer=nn.Dropout(p=0.25)\n",
    "    self.classifier = nn.Sequential(nn.MaxPool2d(2), \n",
    "                                    nn.Flatten(), \n",
    "                                    nn.Linear(512*2*2, num_classes))\n",
    "\n",
    "  def forward(self, xb):\n",
    "        out = self.conv_layer_1(xb)\n",
    "        out = self.conv_layer_2(out)\n",
    "        out=self.dropout_layer(out)\n",
    "        out = self.res_layer1(out) + out\n",
    "        out=self.dropout_layer(out)\n",
    "        out = self.conv_layer_3(out)\n",
    "        out = self.conv_layer_4(out)\n",
    "        out=self.dropout_layer(out)\n",
    "        out = self.res_layer2(out) + out\n",
    "        out=self.dropout_layer(out)\n",
    "        out = self.classifier(out)\n",
    "        return out\n",
    "\n",
    "model=custom_ResNet(3,100)\n",
    "print(model)"
   ]
  },
  {
   "cell_type": "markdown",
   "metadata": {},
   "source": [
    "# EXPECTED (40%)\n",
    "#### Model with Data Augmentation and Regularization"
   ]
  },
  {
   "cell_type": "code",
   "execution_count": 8,
   "metadata": {
    "colab": {
     "base_uri": "https://localhost:8080/"
    },
    "id": "_QrBTrEVjoUx",
    "outputId": "f87f3494-7828-472b-d195-399e6fabb8e7"
   },
   "outputs": [
    {
     "name": "stdout",
     "output_type": "stream",
     "text": [
      "Files already downloaded and verified\n",
      "Files already downloaded and verified\n",
      "40000\n",
      "10000\n",
      "Number of epochs: 0 | Validation loss : 4.268755912780762  | Training loss : 5.99457311630249  |   Training accuracy: 0.02734999917447567 validation accuracy : 0.04562699794769287\n",
      "Number of epochs: 1 | Validation loss : 3.8958728313446045  | Training loss : 4.0522637367248535  |   Training accuracy: 0.08192499727010727 validation accuracy : 0.10043929517269135\n",
      "Number of epochs: 2 | Validation loss : 3.6166913509368896  | Training loss : 3.7246155738830566  |   Training accuracy: 0.13552500307559967 validation accuracy : 0.14586661756038666\n",
      "Number of epochs: 3 | Validation loss : 3.3115131855010986  | Training loss : 3.447417974472046  |   Training accuracy: 0.1815750002861023 validation accuracy : 0.19588658213615417\n",
      "Number of epochs: 4 | Validation loss : 3.090261936187744  | Training loss : 3.196941614151001  |   Training accuracy: 0.22577500343322754 validation accuracy : 0.24101437628269196\n",
      "Number of epochs: 5 | Validation loss : 2.785106897354126  | Training loss : 2.9471001625061035  |   Training accuracy: 0.27094998955726624 validation accuracy : 0.3020167648792267\n",
      "Number of epochs: 6 | Validation loss : 2.6600756645202637  | Training loss : 2.723175048828125  |   Training accuracy: 0.31027498841285706 validation accuracy : 0.32288339734077454\n",
      "Number of epochs: 7 | Validation loss : 2.4543557167053223  | Training loss : 2.5428543090820312  |   Training accuracy: 0.3493500053882599 validation accuracy : 0.35652956366539\n",
      "Number of epochs: 8 | Validation loss : 2.383197069168091  | Training loss : 2.4028894901275635  |   Training accuracy: 0.376675009727478 validation accuracy : 0.3836860954761505\n",
      "Number of epochs: 9 | Validation loss : 2.271010398864746  | Training loss : 2.2997093200683594  |   Training accuracy: 0.40095001459121704 validation accuracy : 0.4030551016330719\n",
      "Number of epochs: 10 | Validation loss : 2.220926523208618  | Training loss : 2.182345151901245  |   Training accuracy: 0.4246250092983246 validation accuracy : 0.41573482751846313\n",
      "Number of epochs: 11 | Validation loss : 2.149785280227661  | Training loss : 2.0915496349334717  |   Training accuracy: 0.44327500462532043 validation accuracy : 0.4344049394130707\n",
      "Number of epochs: 12 | Validation loss : 2.141810655593872  | Training loss : 1.999045491218567  |   Training accuracy: 0.4670250117778778 validation accuracy : 0.4374001622200012\n",
      "Number of epochs: 13 | Validation loss : 2.0197789669036865  | Training loss : 1.920047402381897  |   Training accuracy: 0.48477500677108765 validation accuracy : 0.4618610143661499\n",
      "Number of epochs: 14 | Validation loss : 1.9755831956863403  | Training loss : 1.8561536073684692  |   Training accuracy: 0.4968999922275543 validation accuracy : 0.4747404158115387\n",
      "Number of epochs: 15 | Validation loss : 1.9644920825958252  | Training loss : 1.7864583730697632  |   Training accuracy: 0.5134750008583069 validation accuracy : 0.48003193736076355\n",
      "Number of epochs: 16 | Validation loss : 1.923583745956421  | Training loss : 1.7223565578460693  |   Training accuracy: 0.5258499979972839 validation accuracy : 0.48043131828308105\n",
      "Number of epochs: 17 | Validation loss : 1.9482614994049072  | Training loss : 1.6710842847824097  |   Training accuracy: 0.5391749739646912 validation accuracy : 0.47863417863845825\n",
      "Number of epochs: 18 | Validation loss : 1.8164079189300537  | Training loss : 1.6302298307418823  |   Training accuracy: 0.5491999983787537 validation accuracy : 0.507388174533844\n",
      "Number of epochs: 19 | Validation loss : 1.8506920337677002  | Training loss : 1.575788140296936  |   Training accuracy: 0.5640749931335449 validation accuracy : 0.5032947063446045\n",
      "Number of epochs: 20 | Validation loss : 1.840518593788147  | Training loss : 1.525460124015808  |   Training accuracy: 0.5750749707221985 validation accuracy : 0.5079872012138367\n",
      "Number of epochs: 21 | Validation loss : 1.7943613529205322  | Training loss : 1.4644570350646973  |   Training accuracy: 0.5874000191688538 validation accuracy : 0.5230631232261658\n",
      "Number of epochs: 22 | Validation loss : 1.7442023754119873  | Training loss : 1.4298579692840576  |   Training accuracy: 0.5980250239372253 validation accuracy : 0.5259584784507751\n",
      "Number of epochs: 23 | Validation loss : 1.7440208196640015  | Training loss : 1.396497368812561  |   Training accuracy: 0.604200005531311 validation accuracy : 0.5305511355400085\n",
      "Number of epochs: 24 | Validation loss : 1.7498215436935425  | Training loss : 1.3445626497268677  |   Training accuracy: 0.6202250123023987 validation accuracy : 0.5320487022399902\n",
      "Number of epochs: 25 | Validation loss : 1.7117502689361572  | Training loss : 1.308963418006897  |   Training accuracy: 0.6294749975204468 validation accuracy : 0.542931318283081\n",
      "Number of epochs: 26 | Validation loss : 1.7112985849380493  | Training loss : 1.2714604139328003  |   Training accuracy: 0.6378250122070312 validation accuracy : 0.5389376878738403\n",
      "Number of epochs: 27 | Validation loss : 1.7359919548034668  | Training loss : 1.233381748199463  |   Training accuracy: 0.644225001335144 validation accuracy : 0.5455271601676941\n",
      "Number of epochs: 28 | Validation loss : 1.6821820735931396  | Training loss : 1.2017607688903809  |   Training accuracy: 0.6531999707221985 validation accuracy : 0.5540135502815247\n",
      "Number of epochs: 29 | Validation loss : 1.6805236339569092  | Training loss : 1.152880072593689  |   Training accuracy: 0.6653000116348267 validation accuracy : 0.5578075051307678\n"
     ]
    }
   ],
   "source": [
    "transform=transforms.Compose([transforms.ToTensor(),\n",
    "                              transforms.Normalize((0.4911, 0.4820, 0.4467),(0.2022, 0.1993, 0.2009)),\n",
    "                              transforms.RandomCrop(32, padding=4,padding_mode='reflect'), \n",
    "                              transforms.RandomHorizontalFlip(),\n",
    "                              transforms.RandomRotation(2.8),\n",
    "                              transforms.RandomGrayscale(0.2)                         \n",
    "                             ])\n",
    "\n",
    "# Download training data\n",
    "train = torchvision.datasets.CIFAR100(root='./data',train=True,download=True,transform=transform)\n",
    "# Download test data                             \n",
    "test = torchvision.datasets.CIFAR100(root='./data',train=False,download=True)\n",
    "from torch.utils.data.dataloader import DataLoader\n",
    " # Define validation ratio \n",
    "validation_ratio= 0.2\n",
    "batch_size = 32\n",
    "# split training data in train and validation set\n",
    "train_data,validation_data=torch.utils.data.random_split(train,[int((1-validation_ratio)*len(train)), int((validation_ratio)*len(train))])\n",
    "print(len(train_data))\n",
    "print(len(validation_data))\n",
    "\n",
    "train_loader = DataLoader(train_data, batch_size,pin_memory=True)\n",
    "val_loader = DataLoader(validation_data, batch_size,pin_memory=True)\n",
    "test_loader = torch.utils.data.DataLoader(test,batch_size=100,shuffle=False,pin_memory=True)\n",
    "                                          \n",
    "                                          \n",
    "# Moving to GPU\n",
    "def check_device():\n",
    "    if torch.cuda.is_available:\n",
    "        return torch.device('cuda')\n",
    "    else:\n",
    "        return torch.device('cpu')\n",
    "\n",
    "# Function to transfer from CPU to GPU\n",
    "def move_device(tensor, device):\n",
    "    \n",
    "    # Move all individual tensors from cpu to gpu\n",
    "    if isinstance(tensor, (list,tuple)):\n",
    "        return [move_device(element, device) for element in tensor]\n",
    "    return tensor.to(device, non_blocking=True) \n",
    "\n",
    "# Execute transfer from CPU to GPU for each device\n",
    "class DeviceDataLoader():\n",
    "    \n",
    "    # Define Constructor\n",
    "    def __init__(self, dataloader, device):\n",
    "        self.dl = dataloader\n",
    "        self.device = device\n",
    "        \n",
    "    def __iter__(self):\n",
    "        \n",
    "       # Transfer each batch and return\n",
    "        for i in self.dl: \n",
    "            yield move_device(i, self.device)\n",
    "\n",
    "    def __len__(self):\n",
    "        \n",
    "        # Return the number of batches\n",
    "        return len(self.dl)\n",
    "\n",
    "\n",
    "device = check_device()\n",
    "\n",
    "# Move all the tensors to GPU\n",
    "train_dl = DeviceDataLoader(train_loader, device)\n",
    "valid_dl = DeviceDataLoader(val_loader, device)\n",
    "test_dl = DeviceDataLoader(test_loader, device)\n",
    "\n",
    "\n",
    "def accuracy(predicted,labels):\n",
    "    pred, predclassid=torch.max(predicted,dim=1)\n",
    "    return torch.tensor(torch.sum(predclassid==labels).item()/len(predicted))\n",
    "\n",
    "\n",
    "def evaluate(model,dl,loss_func):\n",
    "    model.eval()\n",
    "    loss_per_batch, accuracy_per_batch=[],[]\n",
    "    for images,labels in valid_dl:\n",
    "        #start loop\n",
    "        with torch.no_grad():\n",
    "            predicted=model(images)\n",
    "        loss_per_batch.append(loss_func(predicted,labels))\n",
    "        accuracy_per_batch.append(accuracy(predicted,labels))\n",
    "    val_loss_epoch=torch.stack(loss_per_batch).mean().item()\n",
    "    val_accuracy_epoch=torch.stack(accuracy_per_batch).mean().item()\n",
    "    return val_loss_epoch,val_accuracy_epoch\n",
    "\n",
    "def train(model,train_dl,valid_dl,epochs, max_lr, loss_func,optim):\n",
    "    \n",
    "    # Normal optimizer\n",
    "    optimizer=optim(model.parameters(), max_lr)\n",
    "    \n",
    "    # Applying L2 Regularization\n",
    "    #optimizer=optim(model.parameters(), max_lr,weight_decay=1e-5)\n",
    "    \n",
    "    # For SGD\n",
    "    optimizer=optim(model.parameters(), max_lr, momentum=0.9,weight_decay=1e-5)\n",
    "    \n",
    "    '''\n",
    "    Learning Rate Scheduler\n",
    "    '''\n",
    "    scheduler=torch.optim.lr_scheduler.OneCycleLR(optimizer, max_lr,epochs*len(train_dl))\n",
    "#     scheduler=torch.optim.lr_scheduler.CosineAnnealingLR(optimizer,T_max=5,verbose=True)\n",
    "#     #scheduler=torch.optim.lr_scheduler.ExponentialLR(optimizer,  gamma=0.9)\n",
    "    \n",
    "    results=[]\n",
    "    for epoch in range(epochs):\n",
    "        model.train()\n",
    "        train_losses=[]\n",
    "        train_accuracy_per_batch=[]\n",
    "        lrs=[]\n",
    "\n",
    "        for images, labels in train_dl:\n",
    "            predicted=model(images)\n",
    "            loss=loss_func(predicted,labels)\n",
    "            train_losses.append(loss)\n",
    "            loss.backward()\n",
    "            optimizer.step()\n",
    "            optimizer.zero_grad()\n",
    "            \n",
    "          # keep track of learning rate\n",
    "            lrs.append(optimizer.param_groups[0]['lr'])\n",
    "            train_accuracy_per_batch.append(accuracy(predicted,labels))\n",
    "    \n",
    "        scheduler.step()\n",
    "        epoch_train_acc=torch.stack(train_accuracy_per_batch).mean().item()\n",
    "        epoch_train_loss=torch.stack(train_losses).mean().item()\n",
    "        val_loss_epoch,val_accuracy_epoch=evaluate(model,valid_dl,loss_func)\n",
    "        \n",
    "        results.append({'avg_valid_loss': val_loss_epoch,\n",
    "                        'avg_val_acc': val_accuracy_epoch,\n",
    "                        'avg_train_loss':epoch_train_loss,\n",
    "                        'avg_train_acc':epoch_train_acc,\n",
    "                        'lrs':lrs})\n",
    "        \n",
    "        print('Number of epochs:', epoch,'|', \n",
    "              'Validation loss :',val_loss_epoch, ' |','Training loss :'\n",
    "              ,epoch_train_loss,' |  '\n",
    "              ,'Training accuracy:', epoch_train_acc\n",
    "              , 'validation accuracy :',val_accuracy_epoch)\n",
    "    return results\n",
    "\n",
    "\n",
    "model=move_device(model,device)\n",
    "epochs = 30\n",
    "\n",
    "'''\n",
    "Learning Rates\n",
    "'''\n",
    "max_lr1 = 1e-1\n",
    "\n",
    "\n",
    "loss_func=nn.functional.cross_entropy\n",
    "\n",
    "'''\n",
    "Optimizers\n",
    "'''\n",
    "#optim=torch.optim.Adam\n",
    "optim=torch.optim.SGD\n",
    "\n",
    "'''\n",
    "Train function call\n",
    "'''\n",
    "results1= train(model,train_dl,valid_dl,epochs, max_lr1, loss_func,optim)\n"
   ]
  },
  {
   "cell_type": "markdown",
   "metadata": {
    "id": "KZlARI6HJqe5"
   },
   "source": [
    "# EXPECTED (40%)\n",
    "#### Vizualization (with Data Augmentation)"
   ]
  },
  {
   "cell_type": "code",
   "execution_count": 9,
   "metadata": {
    "id": "Jo64WErvJoIT"
   },
   "outputs": [],
   "source": [
    "'''\n",
    "Training Accuracy\n",
    "'''\n",
    "avg_training_accuracy1=[]\n",
    "for result in results1:\n",
    "    avg_training_accuracy1.append(result['avg_train_acc'])\n",
    "'''\n",
    "Validation Accuracy\n",
    "'''\n",
    "avg_validation_accuracy1=[]\n",
    "for result in results1:\n",
    "    avg_validation_accuracy1.append(result['avg_val_acc'])\n",
    "\n",
    "'''\n",
    "Validation Loss\n",
    "'''\n",
    "avg_validation_loss1=[]\n",
    "for result in results1:\n",
    "    avg_validation_loss1.append(result['avg_valid_loss'])\n",
    "    \n",
    "'''\n",
    "Training Loss\n",
    "'''\n",
    "avg_training_loss1=[]\n",
    "for result in results1:\n",
    "    avg_training_loss1.append(result['avg_train_loss'])\n",
    "\n",
    "'''\n",
    "Epochs count\n",
    "'''\n",
    "epoch_count=[]\n",
    "for i in range(epochs):\n",
    "    epoch_count.append(i)"
   ]
  },
  {
   "cell_type": "markdown",
   "metadata": {
    "id": "W_eY1MI0VzyZ"
   },
   "source": [
    "##### Training and Validation Accuracy"
   ]
  },
  {
   "cell_type": "code",
   "execution_count": 10,
   "metadata": {
    "colab": {
     "base_uri": "https://localhost:8080/",
     "height": 472
    },
    "id": "Pg1y46ZSJ4Qi",
    "outputId": "ffc5576b-8aa3-4ae5-b32d-50021ca333dd"
   },
   "outputs": [
    {
     "data": {
      "image/png": "[encoded data removed]",
      "text/plain": [
       "<Figure size 720x504 with 1 Axes>"
      ]
     },
     "metadata": {
      "needs_background": "light"
     },
     "output_type": "display_data"
    }
   ],
   "source": [
    "from matplotlib.pyplot import figure\n",
    "import matplotlib.pyplot as plt\n",
    "import matplotlib.colors as colors\n",
    "\n",
    "figure(figsize=(10,7))\n",
    "plt.plot(epoch_count,avg_training_accuracy1, 'b-', label = \"Training\", linewidth = '2.5')\n",
    "plt.plot(epoch_count,avg_validation_accuracy1, 'g-', label = \"Validation\", linewidth = '2.5')\n",
    "plt.title(\"Accuracy per epoch\",fontsize=20)\n",
    "plt.xlabel(\"Number of Epochs\",fontsize=20)  \n",
    "plt.ylabel(\"Accuracy ( In %)\",fontsize=20)\n",
    "plt.legend(fontsize=20)\n",
    "plt.show()"
   ]
  },
  {
   "cell_type": "markdown",
   "metadata": {
    "id": "2LSFv6VuLOQs"
   },
   "source": [
    "#### Testing Accuracy"
   ]
  },
  {
   "cell_type": "code",
   "execution_count": 11,
   "metadata": {
    "colab": {
     "base_uri": "https://localhost:8080/"
    },
    "id": "wJyXPDO1Suxr",
    "outputId": "560acc37-72ad-4875-b5a6-63b3131e120b"
   },
   "outputs": [
    {
     "name": "stdout",
     "output_type": "stream",
     "text": [
      "Final Test Accuracy for ResNet :  0.5512180328369141\n"
     ]
    }
   ],
   "source": [
    "_,test_acc=evaluate(model, test_dl, loss_func)\n",
    "print('Final Test Accuracy for ResNet : ', test_acc)"
   ]
  }
 ],
 "metadata": {
  "accelerator": "GPU",
  "colab": {
   "collapsed_sections": [],
   "name": "CIFAR_100_ResNet.ipynb",
   "provenance": []
  },
  "kernelspec": {
   "display_name": "Python 3",
   "language": "python",
   "name": "python3"
  },
  "language_info": {
   "codemirror_mode": {
    "name": "ipython",
    "version": 3
   },
   "file_extension": ".py",
   "mimetype": "text/x-python",
   "name": "python",
   "nbconvert_exporter": "python",
   "pygments_lexer": "ipython3",
   "version": "3.7.4"
  },
  "widgets": {
   "application/vnd.jupyter.widget-state+json": {
    "0eedc2742d7342c2b036534538fdb25d": {
     "model_module": "@jupyter-widgets/base",
     "model_module_version": "1.2.0",
     "model_name": "LayoutModel",
     "state": {
      "_model_module": "@jupyter-widgets/base",
      "_model_module_version": "1.2.0",
      "_model_name": "LayoutModel",
      "_view_count": null,
      "_view_module": "@jupyter-widgets/base",
      "_view_module_version": "1.2.0",
      "_view_name": "LayoutView",
      "align_content": null,
      "align_items": null,
      "align_self": null,
      "border": null,
      "bottom": null,
      "display": null,
      "flex": null,
      "flex_flow": null,
      "grid_area": null,
      "grid_auto_columns": null,
      "grid_auto_flow": null,
      "grid_auto_rows": null,
      "grid_column": null,
      "grid_gap": null,
      "grid_row": null,
      "grid_template_areas": null,
      "grid_template_columns": null,
      "grid_template_rows": null,
      "height": null,
      "justify_content": null,
      "justify_items": null,
      "left": null,
      "margin": null,
      "max_height": null,
      "max_width": null,
      "min_height": null,
      "min_width": null,
      "object_fit": null,
      "object_position": null,
      "order": null,
      "overflow": null,
      "overflow_x": null,
      "overflow_y": null,
      "padding": null,
      "right": null,
      "top": null,
      "visibility": null,
      "width": null
     }
    },
    "1d058a63c98a4cc9b4d68e03a2b42585": {
     "model_module": "@jupyter-widgets/controls",
     "model_module_version": "1.5.0",
     "model_name": "HTMLModel",
     "state": {
      "_dom_classes": [],
      "_model_module": "@jupyter-widgets/controls",
      "_model_module_version": "1.5.0",
      "_model_name": "HTMLModel",
      "_view_count": null,
      "_view_module": "@jupyter-widgets/controls",
      "_view_module_version": "1.5.0",
      "_view_name": "HTMLView",
      "description": "",
      "description_tooltip": null,
      "layout": "IPY_MODEL_967900431bd64e9faf4dd4af325cf4ba",
      "placeholder": "​",
      "style": "IPY_MODEL_60ab0df6da8d4bddb3b70f6d0d182693",
      "value": ""
     }
    },
    "2df18f089a464f92af1133200f5b30a0": {
     "model_module": "@jupyter-widgets/base",
     "model_module_version": "1.2.0",
     "model_name": "LayoutModel",
     "state": {
      "_model_module": "@jupyter-widgets/base",
      "_model_module_version": "1.2.0",
      "_model_name": "LayoutModel",
      "_view_count": null,
      "_view_module": "@jupyter-widgets/base",
      "_view_module_version": "1.2.0",
      "_view_name": "LayoutView",
      "align_content": null,
      "align_items": null,
      "align_self": null,
      "border": null,
      "bottom": null,
      "display": null,
      "flex": null,
      "flex_flow": null,
      "grid_area": null,
      "grid_auto_columns": null,
      "grid_auto_flow": null,
      "grid_auto_rows": null,
      "grid_column": null,
      "grid_gap": null,
      "grid_row": null,
      "grid_template_areas": null,
      "grid_template_columns": null,
      "grid_template_rows": null,
      "height": null,
      "justify_content": null,
      "justify_items": null,
      "left": null,
      "margin": null,
      "max_height": null,
      "max_width": null,
      "min_height": null,
      "min_width": null,
      "object_fit": null,
      "object_position": null,
      "order": null,
      "overflow": null,
      "overflow_x": null,
      "overflow_y": null,
      "padding": null,
      "right": null,
      "top": null,
      "visibility": null,
      "width": null
     }
    },
    "3645e59d9a164128834307647d96e781": {
     "model_module": "@jupyter-widgets/controls",
     "model_module_version": "1.5.0",
     "model_name": "HTMLModel",
     "state": {
      "_dom_classes": [],
      "_model_module": "@jupyter-widgets/controls",
      "_model_module_version": "1.5.0",
      "_model_name": "HTMLModel",
      "_view_count": null,
      "_view_module": "@jupyter-widgets/controls",
      "_view_module_version": "1.5.0",
      "_view_name": "HTMLView",
      "description": "",
      "description_tooltip": null,
      "layout": "IPY_MODEL_0eedc2742d7342c2b036534538fdb25d",
      "placeholder": "​",
      "style": "IPY_MODEL_f97ddc556a9a4fa3a26f405d11cfdb57",
      "value": " 169001984/? [00:12&lt;00:00, 15837904.15it/s]"
     }
    },
    "5b4090613f114e25b9aebaf73e2c06fc": {
     "model_module": "@jupyter-widgets/controls",
     "model_module_version": "1.5.0",
     "model_name": "ProgressStyleModel",
     "state": {
      "_model_module": "@jupyter-widgets/controls",
      "_model_module_version": "1.5.0",
      "_model_name": "ProgressStyleModel",
      "_view_count": null,
      "_view_module": "@jupyter-widgets/base",
      "_view_module_version": "1.2.0",
      "_view_name": "StyleView",
      "bar_color": null,
      "description_width": ""
     }
    },
    "60ab0df6da8d4bddb3b70f6d0d182693": {
     "model_module": "@jupyter-widgets/controls",
     "model_module_version": "1.5.0",
     "model_name": "DescriptionStyleModel",
     "state": {
      "_model_module": "@jupyter-widgets/controls",
      "_model_module_version": "1.5.0",
      "_model_name": "DescriptionStyleModel",
      "_view_count": null,
      "_view_module": "@jupyter-widgets/base",
      "_view_module_version": "1.2.0",
      "_view_name": "StyleView",
      "description_width": ""
     }
    },
    "75c3e88e87234c9091e888ad3aa16809": {
     "model_module": "@jupyter-widgets/base",
     "model_module_version": "1.2.0",
     "model_name": "LayoutModel",
     "state": {
      "_model_module": "@jupyter-widgets/base",
      "_model_module_version": "1.2.0",
      "_model_name": "LayoutModel",
      "_view_count": null,
      "_view_module": "@jupyter-widgets/base",
      "_view_module_version": "1.2.0",
      "_view_name": "LayoutView",
      "align_content": null,
      "align_items": null,
      "align_self": null,
      "border": null,
      "bottom": null,
      "display": null,
      "flex": null,
      "flex_flow": null,
      "grid_area": null,
      "grid_auto_columns": null,
      "grid_auto_flow": null,
      "grid_auto_rows": null,
      "grid_column": null,
      "grid_gap": null,
      "grid_row": null,
      "grid_template_areas": null,
      "grid_template_columns": null,
      "grid_template_rows": null,
      "height": null,
      "justify_content": null,
      "justify_items": null,
      "left": null,
      "margin": null,
      "max_height": null,
      "max_width": null,
      "min_height": null,
      "min_width": null,
      "object_fit": null,
      "object_position": null,
      "order": null,
      "overflow": null,
      "overflow_x": null,
      "overflow_y": null,
      "padding": null,
      "right": null,
      "top": null,
      "visibility": null,
      "width": null
     }
    },
    "8c8ceff981294623add76cc82485f378": {
     "model_module": "@jupyter-widgets/controls",
     "model_module_version": "1.5.0",
     "model_name": "HBoxModel",
     "state": {
      "_dom_classes": [],
      "_model_module": "@jupyter-widgets/controls",
      "_model_module_version": "1.5.0",
      "_model_name": "HBoxModel",
      "_view_count": null,
      "_view_module": "@jupyter-widgets/controls",
      "_view_module_version": "1.5.0",
      "_view_name": "HBoxView",
      "box_style": "",
      "children": [
       "IPY_MODEL_1d058a63c98a4cc9b4d68e03a2b42585",
       "IPY_MODEL_a1a22a37423c4c31a77ecbc8c9877a07",
       "IPY_MODEL_3645e59d9a164128834307647d96e781"
      ],
      "layout": "IPY_MODEL_75c3e88e87234c9091e888ad3aa16809"
     }
    },
    "967900431bd64e9faf4dd4af325cf4ba": {
     "model_module": "@jupyter-widgets/base",
     "model_module_version": "1.2.0",
     "model_name": "LayoutModel",
     "state": {
      "_model_module": "@jupyter-widgets/base",
      "_model_module_version": "1.2.0",
      "_model_name": "LayoutModel",
      "_view_count": null,
      "_view_module": "@jupyter-widgets/base",
      "_view_module_version": "1.2.0",
      "_view_name": "LayoutView",
      "align_content": null,
      "align_items": null,
      "align_self": null,
      "border": null,
      "bottom": null,
      "display": null,
      "flex": null,
      "flex_flow": null,
      "grid_area": null,
      "grid_auto_columns": null,
      "grid_auto_flow": null,
      "grid_auto_rows": null,
      "grid_column": null,
      "grid_gap": null,
      "grid_row": null,
      "grid_template_areas": null,
      "grid_template_columns": null,
      "grid_template_rows": null,
      "height": null,
      "justify_content": null,
      "justify_items": null,
      "left": null,
      "margin": null,
      "max_height": null,
      "max_width": null,
      "min_height": null,
      "min_width": null,
      "object_fit": null,
      "object_position": null,
      "order": null,
      "overflow": null,
      "overflow_x": null,
      "overflow_y": null,
      "padding": null,
      "right": null,
      "top": null,
      "visibility": null,
      "width": null
     }
    },
    "a1a22a37423c4c31a77ecbc8c9877a07": {
     "model_module": "@jupyter-widgets/controls",
     "model_module_version": "1.5.0",
     "model_name": "FloatProgressModel",
     "state": {
      "_dom_classes": [],
      "_model_module": "@jupyter-widgets/controls",
      "_model_module_version": "1.5.0",
      "_model_name": "FloatProgressModel",
      "_view_count": null,
      "_view_module": "@jupyter-widgets/controls",
      "_view_module_version": "1.5.0",
      "_view_name": "ProgressView",
      "bar_style": "success",
      "description": "",
      "description_tooltip": null,
      "layout": "IPY_MODEL_2df18f089a464f92af1133200f5b30a0",
      "max": 169001437,
      "min": 0,
      "orientation": "horizontal",
      "style": "IPY_MODEL_5b4090613f114e25b9aebaf73e2c06fc",
      "value": 169001437
     }
    },
    "f97ddc556a9a4fa3a26f405d11cfdb57": {
     "model_module": "@jupyter-widgets/controls",
     "model_module_version": "1.5.0",
     "model_name": "DescriptionStyleModel",
     "state": {
      "_model_module": "@jupyter-widgets/controls",
      "_model_module_version": "1.5.0",
      "_model_name": "DescriptionStyleModel",
      "_view_count": null,
      "_view_module": "@jupyter-widgets/base",
      "_view_module_version": "1.2.0",
      "_view_name": "StyleView",
      "description_width": ""
     }
    }
   }
  }
 },
 "nbformat": 4,
 "nbformat_minor": 1
}
